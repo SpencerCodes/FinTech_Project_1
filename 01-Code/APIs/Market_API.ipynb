{
 "cells": [
  {
   "cell_type": "code",
   "execution_count": 1,
   "metadata": {},
   "outputs": [],
   "source": [
    "# **************************\n",
    "# Author: Sebastien Vezina\n",
    "# Date: 05-Nov-2020\n",
    "# **************************\n",
    "import os\n",
    "import requests\n",
    "import json\n",
    "import pandas as pd\n",
    "from pathlib import Path\n",
    "from dotenv import load_dotenv\n",
    "from functools import partial\n",
    "\n",
    "from alpha_vantage.foreignexchange import ForeignExchange\n",
    "\n",
    "# Install package before importing: pip install alpha-vantage\n",
    "# https://pypi.org/project/alpha-vantage/"
   ]
  },
  {
   "cell_type": "code",
   "execution_count": 2,
   "metadata": {},
   "outputs": [],
   "source": [
    "# Load .env enviroment variables\n",
    "load_dotenv()\n",
    "alpha_vantage_key = os.getenv(\"ALPHAVANTAGE\")"
   ]
  },
  {
   "cell_type": "code",
   "execution_count": 3,
   "metadata": {},
   "outputs": [
    {
     "data": {
      "text/html": [
       "<div>\n",
       "<style scoped>\n",
       "    .dataframe tbody tr th:only-of-type {\n",
       "        vertical-align: middle;\n",
       "    }\n",
       "\n",
       "    .dataframe tbody tr th {\n",
       "        vertical-align: top;\n",
       "    }\n",
       "\n",
       "    .dataframe thead th {\n",
       "        text-align: right;\n",
       "    }\n",
       "</style>\n",
       "<table border=\"1\" class=\"dataframe\">\n",
       "  <thead>\n",
       "    <tr style=\"text-align: right;\">\n",
       "      <th></th>\n",
       "      <th>1. open</th>\n",
       "      <th>2. high</th>\n",
       "      <th>3. low</th>\n",
       "      <th>4. close</th>\n",
       "    </tr>\n",
       "    <tr>\n",
       "      <th>date</th>\n",
       "      <th></th>\n",
       "      <th></th>\n",
       "      <th></th>\n",
       "      <th></th>\n",
       "    </tr>\n",
       "  </thead>\n",
       "  <tbody>\n",
       "    <tr>\n",
       "      <th>2014-11-24</th>\n",
       "      <td>0.8893</td>\n",
       "      <td>0.8907</td>\n",
       "      <td>0.8835</td>\n",
       "      <td>0.8859</td>\n",
       "    </tr>\n",
       "    <tr>\n",
       "      <th>2014-11-25</th>\n",
       "      <td>0.8856</td>\n",
       "      <td>0.8901</td>\n",
       "      <td>0.8832</td>\n",
       "      <td>0.8880</td>\n",
       "    </tr>\n",
       "    <tr>\n",
       "      <th>2014-11-26</th>\n",
       "      <td>0.8881</td>\n",
       "      <td>0.8904</td>\n",
       "      <td>0.8847</td>\n",
       "      <td>0.8887</td>\n",
       "    </tr>\n",
       "    <tr>\n",
       "      <th>2014-11-27</th>\n",
       "      <td>0.8883</td>\n",
       "      <td>0.8899</td>\n",
       "      <td>0.8802</td>\n",
       "      <td>0.8816</td>\n",
       "    </tr>\n",
       "    <tr>\n",
       "      <th>2014-11-28</th>\n",
       "      <td>0.8812</td>\n",
       "      <td>0.8820</td>\n",
       "      <td>0.8735</td>\n",
       "      <td>0.8755</td>\n",
       "    </tr>\n",
       "  </tbody>\n",
       "</table>\n",
       "</div>"
      ],
      "text/plain": [
       "            1. open  2. high  3. low  4. close\n",
       "date                                          \n",
       "2014-11-24   0.8893   0.8907  0.8835    0.8859\n",
       "2014-11-25   0.8856   0.8901  0.8832    0.8880\n",
       "2014-11-26   0.8881   0.8904  0.8847    0.8887\n",
       "2014-11-27   0.8883   0.8899  0.8802    0.8816\n",
       "2014-11-28   0.8812   0.8820  0.8735    0.8755"
      ]
     },
     "execution_count": 3,
     "metadata": {},
     "output_type": "execute_result"
    }
   ],
   "source": [
    "#Pull CAD Data\n",
    "fx = ForeignExchange(key=alpha_vantage_key,output_format='pandas')\n",
    "cad_data, meta_data = fx.get_currency_exchange_daily(from_symbol='CAD', to_symbol='USD', outputsize='full')\n",
    "\n",
    "cad_data.head()"
   ]
  },
  {
   "cell_type": "code",
   "execution_count": 4,
   "metadata": {},
   "outputs": [],
   "source": [
    "# Save to CSV file\n",
    "cad_data.to_csv('../../02-Data/Dirty Data/Market Data/CAD_5yr_drt.csv')"
   ]
  },
  {
   "cell_type": "code",
   "execution_count": null,
   "metadata": {},
   "outputs": [],
   "source": []
  }
 ],
 "metadata": {
  "kernelspec": {
   "display_name": "Python [conda env:pyvizenv] *",
   "language": "python",
   "name": "conda-env-pyvizenv-py"
  },
  "language_info": {
   "codemirror_mode": {
    "name": "ipython",
    "version": 3
   },
   "file_extension": ".py",
   "mimetype": "text/x-python",
   "name": "python",
   "nbconvert_exporter": "python",
   "pygments_lexer": "ipython3",
   "version": "3.7.9"
  }
 },
 "nbformat": 4,
 "nbformat_minor": 4
}
