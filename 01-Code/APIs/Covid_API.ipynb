{
 "cells": [
  {
   "cell_type": "code",
   "execution_count": 25,
   "metadata": {},
   "outputs": [],
   "source": [
    "import requests\n",
    "import json\n",
    "import pandas as pd\n",
    "import numpy as np\n",
    "import timeit\n",
    "from IPython.display import clear_output"
   ]
  },
  {
   "cell_type": "code",
   "execution_count": 26,
   "metadata": {},
   "outputs": [],
   "source": [
    "url = 'https://opendata.arcgis.com/datasets/4dabb4afab874804ba121536efaaacb4_0.geojson'"
   ]
  },
  {
   "cell_type": "code",
   "execution_count": 27,
   "metadata": {},
   "outputs": [],
   "source": [
    "request_data = requests.get(url).json()"
   ]
  },
  {
   "cell_type": "code",
   "execution_count": 28,
   "metadata": {},
   "outputs": [
    {
     "data": {
      "text/plain": [
       "{'ObjectId': 1,\n",
       " 'row_id': 2000,\n",
       " 'date_reported': '2020/10/26 12:00:00',\n",
       " 'health_region': 'Haldimand-Norfolk Health Unit',\n",
       " 'age_group': '<20',\n",
       " 'gender': 'Female',\n",
       " 'exposure': 'Close Contact',\n",
       " 'case_status': 'Active',\n",
       " 'latitude': 42.8544467138721,\n",
       " 'longitude': -80.178035377337,\n",
       " 'province': 'Ontario',\n",
       " 'province_abbr': 'ON',\n",
       " 'hr_uid': 3534}"
      ]
     },
     "execution_count": 28,
     "metadata": {},
     "output_type": "execute_result"
    }
   ],
   "source": [
    "request_data['features'][0]['properties']"
   ]
  },
  {
   "cell_type": "code",
   "execution_count": 29,
   "metadata": {},
   "outputs": [],
   "source": [
    "# print(json.dumps(request_data, indent=4))"
   ]
  },
  {
   "cell_type": "code",
   "execution_count": 30,
   "metadata": {},
   "outputs": [],
   "source": [
    "# column_names = []\n",
    "# num = 0\n",
    "# for row in request_data['fields']:\n",
    "#     column_names.append(request_data['fields'][num]['alias'])\n",
    "#     num = num + 1"
   ]
  },
  {
   "cell_type": "code",
   "execution_count": 37,
   "metadata": {},
   "outputs": [
    {
     "data": {
      "text/plain": [
       "244935"
      ]
     },
     "execution_count": 37,
     "metadata": {},
     "output_type": "execute_result"
    }
   ],
   "source": [
    "len(request_data['features'])"
   ]
  },
  {
   "cell_type": "code",
   "execution_count": 33,
   "metadata": {},
   "outputs": [],
   "source": []
  },
  {
   "cell_type": "code",
   "execution_count": 49,
   "metadata": {},
   "outputs": [
    {
     "name": "stdout",
     "output_type": "stream",
     "text": [
      "Current Progress: 100.0 %\n",
      "Current Run Time: 758.57 minutes\n",
      "Expected Run Time: 758.57 minutes\n"
     ]
    }
   ],
   "source": [
    "df = pd.DataFrame()\n",
    "start = timeit.default_timer()\n",
    "for row in range(0,len(request_data['features'])):\n",
    "    clear_output(wait=True)\n",
    "    \n",
    "    df = df.append(request_data['features'][row]['properties'], ignore_index=True)\n",
    "    \n",
    "    stop = timeit.default_timer()\n",
    "    \n",
    "    if (row/len(request_data['features']))*100 < 5 :\n",
    "        expected_time = 'Calculating...'\n",
    "        \n",
    "    else:\n",
    "        time_perc = timeit.default_timer()\n",
    "        expected_time = np.round( ( (time_perc-start) / (row/len(request_data['features'])))/60,2)\n",
    "    \n",
    "    print('Current Progress:',np.round(row/len(request_data['features']) * 100, 2),'%')\n",
    "    print('Current Run Time:',np.round((stop-start)/60,2),'minutes')\n",
    "    print('Expected Run Time:',expected_time,'minutes')"
   ]
  },
  {
   "cell_type": "code",
   "execution_count": 50,
   "metadata": {},
   "outputs": [],
   "source": [
    "df.to_csv('covid_data1')"
   ]
  },
  {
   "cell_type": "code",
   "execution_count": null,
   "metadata": {},
   "outputs": [],
   "source": []
  }
 ],
 "metadata": {
  "kernelspec": {
   "display_name": "Python 3",
   "language": "python",
   "name": "python3"
  },
  "language_info": {
   "codemirror_mode": {
    "name": "ipython",
    "version": 3
   },
   "file_extension": ".py",
   "mimetype": "text/x-python",
   "name": "python",
   "nbconvert_exporter": "python",
   "pygments_lexer": "ipython3",
   "version": "3.7.9"
  }
 },
 "nbformat": 4,
 "nbformat_minor": 4
}
