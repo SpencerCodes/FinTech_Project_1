{
 "cells": [
  {
   "cell_type": "code",
   "execution_count": 1,
   "metadata": {},
   "outputs": [],
   "source": [
    "import requests\n",
    "import json\n",
    "import pandas as pd\n",
    "import numpy as np\n",
    "import timeit\n",
    "import csv\n",
    "from IPython.display import clear_output"
   ]
  },
  {
   "cell_type": "code",
   "execution_count": 2,
   "metadata": {},
   "outputs": [],
   "source": [
    "url = 'https://opendata.arcgis.com/datasets/4dabb4afab874804ba121536efaaacb4_0.geojson'"
   ]
  },
  {
   "cell_type": "code",
   "execution_count": 3,
   "metadata": {},
   "outputs": [],
   "source": [
    "request_data = requests.get(url).json()"
   ]
  },
  {
   "cell_type": "code",
   "execution_count": 4,
   "metadata": {},
   "outputs": [
    {
     "data": {
      "text/plain": [
       "{'ObjectId': 1,\n",
       " 'row_id': 500,\n",
       " 'date_reported': '2020/10/25 12:00:00',\n",
       " 'health_region': 'Region of Waterloo, Public Health',\n",
       " 'age_group': '30-39',\n",
       " 'gender': 'Female',\n",
       " 'exposure': 'Close Contact',\n",
       " 'case_status': 'Recovered',\n",
       " 'latitude': 43.4628358316936,\n",
       " 'longitude': -80.538675714985,\n",
       " 'province': 'Ontario',\n",
       " 'province_abbr': 'ON',\n",
       " 'hr_uid': 3565}"
      ]
     },
     "execution_count": 4,
     "metadata": {},
     "output_type": "execute_result"
    }
   ],
   "source": [
    "request_data['features'][0]['properties']"
   ]
  },
  {
   "cell_type": "code",
   "execution_count": 5,
   "metadata": {},
   "outputs": [],
   "source": [
    "# print(json.dumps(request_data, indent=4))"
   ]
  },
  {
   "cell_type": "code",
   "execution_count": 6,
   "metadata": {},
   "outputs": [],
   "source": [
    "# column_names = []\n",
    "# num = 0\n",
    "# for row in request_data['fields']:\n",
    "#     column_names.append(request_data['fields'][num]['alias'])\n",
    "#     num = num + 1"
   ]
  },
  {
   "cell_type": "code",
   "execution_count": 7,
   "metadata": {},
   "outputs": [
    {
     "data": {
      "text/plain": [
       "273037"
      ]
     },
     "execution_count": 7,
     "metadata": {},
     "output_type": "execute_result"
    }
   ],
   "source": [
    "len(request_data['features'])"
   ]
  },
  {
   "cell_type": "code",
   "execution_count": 8,
   "metadata": {},
   "outputs": [
    {
     "name": "stdout",
     "output_type": "stream",
     "text": [
      "Current Progress: 99.52 %\n",
      "Current Run Time: 4.37 minutes\n",
      "Expected Run Time: 4.39 minutes\n"
     ]
    },
    {
     "name": "stderr",
     "output_type": "stream",
     "text": [
      "IOPub message rate exceeded.\n",
      "The notebook server will temporarily stop sending output\n",
      "to the client in order to avoid crashing it.\n",
      "To change this limit, set the config variable\n",
      "`--NotebookApp.iopub_msg_rate_limit`.\n",
      "\n",
      "Current values:\n",
      "NotebookApp.iopub_msg_rate_limit=1000.0 (msgs/sec)\n",
      "NotebookApp.rate_limit_window=3.0 (secs)\n",
      "\n"
     ]
    }
   ],
   "source": [
    "# Convert json data to csv file\n",
    "with open('../../02-Data/Dirty Data/covid_stats/covid_data1.csv', 'w', newline='') as f:\n",
    "    fieldnames = ['ObjectId', 'row_id', 'date_reported', 'health_region', 'age_group', \n",
    "                  'gender', 'exposure', 'case_status', 'latitude', 'longitude', 'province',\n",
    "                  'province_abbr', 'hr_uid']\n",
    "    \n",
    "    writer = csv.DictWriter(f, fieldnames = fieldnames)\n",
    "    writer.writeheader()\n",
    "    \n",
    "    nb_rows = len(request_data['features'])\n",
    "    start = timeit.default_timer()\n",
    "\n",
    "    for row in range(0,len(request_data['features'])):\n",
    "        clear_output(wait=True)\n",
    "        writer.writerow(request_data['features'][row]['properties'])\n",
    "\n",
    "        stop = timeit.default_timer()\n",
    "\n",
    "        if (row / nb_rows)*100 < 5:\n",
    "            expected_time = 'Calculating...'\n",
    "        else:\n",
    "            time_perc = timeit.default_timer()\n",
    "            expected_time = np.round( ( (time_perc-start) / (row / nb_rows))/60, 2)\n",
    "\n",
    "        print('Current Progress:', np.round(row / nb_rows * 100, 2), '%')\n",
    "        print('Current Run Time:', np.round((stop-start)/60, 2), 'minutes')\n",
    "        print('Expected Run Time:', expected_time, 'minutes')"
   ]
  }
 ],
 "metadata": {
  "kernelspec": {
   "display_name": "Python 3",
   "language": "python",
   "name": "python3"
  },
  "language_info": {
   "codemirror_mode": {
    "name": "ipython",
    "version": 3
   },
   "file_extension": ".py",
   "mimetype": "text/x-python",
   "name": "python",
   "nbconvert_exporter": "python",
   "pygments_lexer": "ipython3",
   "version": "3.7.9"
  }
 },
 "nbformat": 4,
 "nbformat_minor": 4
}
