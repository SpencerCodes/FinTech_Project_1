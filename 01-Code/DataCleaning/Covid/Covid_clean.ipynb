{
 "cells": [
  {
   "cell_type": "code",
   "execution_count": 1,
   "metadata": {},
   "outputs": [],
   "source": [
    "import pandas as pd\n",
    "import os\n",
    "from pathlib import Path"
   ]
  },
  {
   "cell_type": "code",
   "execution_count": 2,
   "metadata": {},
   "outputs": [
    {
     "data": {
      "text/plain": [
       "'/Users/Spencer_Macey/Desktop/Git/FinTech_Project_1/01-Code/DataCleaning/Covid'"
      ]
     },
     "execution_count": 2,
     "metadata": {},
     "output_type": "execute_result"
    }
   ],
   "source": [
    "os.getcwd()"
   ]
  },
  {
   "cell_type": "code",
   "execution_count": 14,
   "metadata": {},
   "outputs": [],
   "source": [
    "csvpath = Path('../../../02-Data/Dirty Data/covid_stats/covid_data1.csv')"
   ]
  },
  {
   "cell_type": "code",
   "execution_count": 15,
   "metadata": {},
   "outputs": [],
   "source": [
    "data = pd.read_csv(csvpath)"
   ]
  },
  {
   "cell_type": "code",
   "execution_count": 16,
   "metadata": {},
   "outputs": [],
   "source": [
    "data = data[['date_reported', 'age_group', 'case_status', 'exposure', 'gender', 'health_region', 'latitude', 'longitude', 'province']]"
   ]
  },
  {
   "cell_type": "code",
   "execution_count": 17,
   "metadata": {},
   "outputs": [],
   "source": [
    "data['date_reported'] = data['date_reported'].replace(r'12:00:00', '', regex=True)"
   ]
  },
  {
   "cell_type": "code",
   "execution_count": 18,
   "metadata": {},
   "outputs": [
    {
     "data": {
      "text/plain": [
       "date_reported      0\n",
       "age_group          0\n",
       "case_status        0\n",
       "exposure           0\n",
       "gender             0\n",
       "health_region      0\n",
       "latitude         269\n",
       "longitude        269\n",
       "province           0\n",
       "dtype: int64"
      ]
     },
     "execution_count": 18,
     "metadata": {},
     "output_type": "execute_result"
    }
   ],
   "source": [
    "data.isnull().sum()"
   ]
  },
  {
   "cell_type": "code",
   "execution_count": 19,
   "metadata": {},
   "outputs": [],
   "source": [
    "data.dropna(inplace=True)"
   ]
  },
  {
   "cell_type": "code",
   "execution_count": 21,
   "metadata": {},
   "outputs": [
    {
     "data": {
      "text/plain": [
       "date_reported    0\n",
       "age_group        0\n",
       "case_status      0\n",
       "exposure         0\n",
       "gender           0\n",
       "health_region    0\n",
       "latitude         0\n",
       "longitude        0\n",
       "province         0\n",
       "dtype: int64"
      ]
     },
     "execution_count": 21,
     "metadata": {},
     "output_type": "execute_result"
    }
   ],
   "source": [
    "data.isnull().sum()"
   ]
  },
  {
   "cell_type": "code",
   "execution_count": 22,
   "metadata": {},
   "outputs": [
    {
     "data": {
      "text/html": [
       "<div>\n",
       "<style scoped>\n",
       "    .dataframe tbody tr th:only-of-type {\n",
       "        vertical-align: middle;\n",
       "    }\n",
       "\n",
       "    .dataframe tbody tr th {\n",
       "        vertical-align: top;\n",
       "    }\n",
       "\n",
       "    .dataframe thead th {\n",
       "        text-align: right;\n",
       "    }\n",
       "</style>\n",
       "<table border=\"1\" class=\"dataframe\">\n",
       "  <thead>\n",
       "    <tr style=\"text-align: right;\">\n",
       "      <th></th>\n",
       "      <th>date_reported</th>\n",
       "      <th>age_group</th>\n",
       "      <th>case_status</th>\n",
       "      <th>exposure</th>\n",
       "      <th>gender</th>\n",
       "      <th>health_region</th>\n",
       "      <th>latitude</th>\n",
       "      <th>longitude</th>\n",
       "      <th>province</th>\n",
       "    </tr>\n",
       "  </thead>\n",
       "  <tbody>\n",
       "    <tr>\n",
       "      <th>0</th>\n",
       "      <td>2020/10/26</td>\n",
       "      <td>&lt;20</td>\n",
       "      <td>Active</td>\n",
       "      <td>Close Contact</td>\n",
       "      <td>Female</td>\n",
       "      <td>Haldimand-Norfolk Health Unit</td>\n",
       "      <td>42.854447</td>\n",
       "      <td>-80.178035</td>\n",
       "      <td>Ontario</td>\n",
       "    </tr>\n",
       "    <tr>\n",
       "      <th>1</th>\n",
       "      <td>2020/10/25</td>\n",
       "      <td>&lt;20</td>\n",
       "      <td>Active</td>\n",
       "      <td>Close Contact</td>\n",
       "      <td>Female</td>\n",
       "      <td>Durham Region Health Department</td>\n",
       "      <td>44.035150</td>\n",
       "      <td>-78.882498</td>\n",
       "      <td>Ontario</td>\n",
       "    </tr>\n",
       "    <tr>\n",
       "      <th>2</th>\n",
       "      <td>2020/10/22</td>\n",
       "      <td>50-59</td>\n",
       "      <td>Active</td>\n",
       "      <td>Not Reported</td>\n",
       "      <td>Female</td>\n",
       "      <td>Wellington-Dufferin-Guelph Public Health</td>\n",
       "      <td>43.853642</td>\n",
       "      <td>-80.372085</td>\n",
       "      <td>Ontario</td>\n",
       "    </tr>\n",
       "    <tr>\n",
       "      <th>3</th>\n",
       "      <td>2020/08/01</td>\n",
       "      <td>20-29</td>\n",
       "      <td>Recovered</td>\n",
       "      <td>Not Reported</td>\n",
       "      <td>Female</td>\n",
       "      <td>York Region Public Health Services</td>\n",
       "      <td>44.074977</td>\n",
       "      <td>-79.428212</td>\n",
       "      <td>Ontario</td>\n",
       "    </tr>\n",
       "    <tr>\n",
       "      <th>4</th>\n",
       "      <td>2020/10/01</td>\n",
       "      <td>40-49</td>\n",
       "      <td>Recovered</td>\n",
       "      <td>Not Reported</td>\n",
       "      <td>Female</td>\n",
       "      <td>Peel Public Health</td>\n",
       "      <td>43.761613</td>\n",
       "      <td>-79.813571</td>\n",
       "      <td>Ontario</td>\n",
       "    </tr>\n",
       "  </tbody>\n",
       "</table>\n",
       "</div>"
      ],
      "text/plain": [
       "  date_reported age_group case_status       exposure  gender  \\\n",
       "0   2020/10/26        <20      Active  Close Contact  Female   \n",
       "1   2020/10/25        <20      Active  Close Contact  Female   \n",
       "2   2020/10/22      50-59      Active   Not Reported  Female   \n",
       "3   2020/08/01      20-29   Recovered   Not Reported  Female   \n",
       "4   2020/10/01      40-49   Recovered   Not Reported  Female   \n",
       "\n",
       "                              health_region   latitude  longitude province  \n",
       "0             Haldimand-Norfolk Health Unit  42.854447 -80.178035  Ontario  \n",
       "1           Durham Region Health Department  44.035150 -78.882498  Ontario  \n",
       "2  Wellington-Dufferin-Guelph Public Health  43.853642 -80.372085  Ontario  \n",
       "3        York Region Public Health Services  44.074977 -79.428212  Ontario  \n",
       "4                        Peel Public Health  43.761613 -79.813571  Ontario  "
      ]
     },
     "execution_count": 22,
     "metadata": {},
     "output_type": "execute_result"
    }
   ],
   "source": [
    "data.head()"
   ]
  },
  {
   "cell_type": "code",
   "execution_count": 24,
   "metadata": {},
   "outputs": [],
   "source": [
    "data.to_csv('../../../02-Data/Clean Data/Covid/covid_clean.csv')"
   ]
  },
  {
   "cell_type": "code",
   "execution_count": null,
   "metadata": {},
   "outputs": [],
   "source": []
  }
 ],
 "metadata": {
  "kernelspec": {
   "display_name": "Python 3",
   "language": "python",
   "name": "python3"
  },
  "language_info": {
   "codemirror_mode": {
    "name": "ipython",
    "version": 3
   },
   "file_extension": ".py",
   "mimetype": "text/x-python",
   "name": "python",
   "nbconvert_exporter": "python",
   "pygments_lexer": "ipython3",
   "version": "3.8.3"
  }
 },
 "nbformat": 4,
 "nbformat_minor": 4
}
