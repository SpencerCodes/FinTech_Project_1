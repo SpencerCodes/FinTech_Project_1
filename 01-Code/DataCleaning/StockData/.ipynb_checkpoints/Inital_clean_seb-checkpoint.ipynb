{
 "cells": [
  {
   "cell_type": "code",
   "execution_count": 13,
   "metadata": {},
   "outputs": [],
   "source": [
    "# **************************\n",
    "# Author: Sebastien Vezina\n",
    "# Date: 05-Nov-2020\n",
    "# **************************\n",
    "\n",
    "import os\n",
    "import requests\n",
    "import json\n",
    "import pandas as pd\n",
    "from pathlib import Path\n",
    "from dotenv import load_dotenv\n",
    "from functools import partial"
   ]
  },
  {
   "cell_type": "code",
   "execution_count": 81,
   "metadata": {},
   "outputs": [],
   "source": [
    "csvpath = Path('../../../02-Data/Dirty Data/Market Data/CAD_5yr_drt.csv')"
   ]
  },
  {
   "cell_type": "code",
   "execution_count": 82,
   "metadata": {},
   "outputs": [],
   "source": [
    "cad_data = pd.read_csv(csvpath, infer_datetime_format=True)"
   ]
  },
  {
   "cell_type": "code",
   "execution_count": 83,
   "metadata": {},
   "outputs": [
    {
     "data": {
      "text/html": [
       "<div>\n",
       "<style scoped>\n",
       "    .dataframe tbody tr th:only-of-type {\n",
       "        vertical-align: middle;\n",
       "    }\n",
       "\n",
       "    .dataframe tbody tr th {\n",
       "        vertical-align: top;\n",
       "    }\n",
       "\n",
       "    .dataframe thead th {\n",
       "        text-align: right;\n",
       "    }\n",
       "</style>\n",
       "<table border=\"1\" class=\"dataframe\">\n",
       "  <thead>\n",
       "    <tr style=\"text-align: right;\">\n",
       "      <th></th>\n",
       "      <th>date</th>\n",
       "      <th>1. open</th>\n",
       "      <th>2. high</th>\n",
       "      <th>3. low</th>\n",
       "      <th>4. close</th>\n",
       "    </tr>\n",
       "  </thead>\n",
       "  <tbody>\n",
       "    <tr>\n",
       "      <th>0</th>\n",
       "      <td>2014-11-24</td>\n",
       "      <td>0.8893</td>\n",
       "      <td>0.8907</td>\n",
       "      <td>0.8835</td>\n",
       "      <td>0.8859</td>\n",
       "    </tr>\n",
       "    <tr>\n",
       "      <th>1</th>\n",
       "      <td>2014-11-25</td>\n",
       "      <td>0.8856</td>\n",
       "      <td>0.8901</td>\n",
       "      <td>0.8832</td>\n",
       "      <td>0.8880</td>\n",
       "    </tr>\n",
       "    <tr>\n",
       "      <th>2</th>\n",
       "      <td>2014-11-26</td>\n",
       "      <td>0.8881</td>\n",
       "      <td>0.8904</td>\n",
       "      <td>0.8847</td>\n",
       "      <td>0.8887</td>\n",
       "    </tr>\n",
       "    <tr>\n",
       "      <th>3</th>\n",
       "      <td>2014-11-27</td>\n",
       "      <td>0.8883</td>\n",
       "      <td>0.8899</td>\n",
       "      <td>0.8802</td>\n",
       "      <td>0.8816</td>\n",
       "    </tr>\n",
       "    <tr>\n",
       "      <th>4</th>\n",
       "      <td>2014-11-28</td>\n",
       "      <td>0.8812</td>\n",
       "      <td>0.8820</td>\n",
       "      <td>0.8735</td>\n",
       "      <td>0.8755</td>\n",
       "    </tr>\n",
       "  </tbody>\n",
       "</table>\n",
       "</div>"
      ],
      "text/plain": [
       "         date  1. open  2. high  3. low  4. close\n",
       "0  2014-11-24   0.8893   0.8907  0.8835    0.8859\n",
       "1  2014-11-25   0.8856   0.8901  0.8832    0.8880\n",
       "2  2014-11-26   0.8881   0.8904  0.8847    0.8887\n",
       "3  2014-11-27   0.8883   0.8899  0.8802    0.8816\n",
       "4  2014-11-28   0.8812   0.8820  0.8735    0.8755"
      ]
     },
     "execution_count": 83,
     "metadata": {},
     "output_type": "execute_result"
    }
   ],
   "source": [
    "cad_data.head()"
   ]
  },
  {
   "cell_type": "code",
   "execution_count": 84,
   "metadata": {},
   "outputs": [],
   "source": [
    "# Keep only Date and Close columns\n",
    "cad_data.drop(['1. open', '2. high', '3. low'], axis=1, inplace=True)"
   ]
  },
  {
   "cell_type": "code",
   "execution_count": 85,
   "metadata": {},
   "outputs": [
    {
     "data": {
      "text/html": [
       "<div>\n",
       "<style scoped>\n",
       "    .dataframe tbody tr th:only-of-type {\n",
       "        vertical-align: middle;\n",
       "    }\n",
       "\n",
       "    .dataframe tbody tr th {\n",
       "        vertical-align: top;\n",
       "    }\n",
       "\n",
       "    .dataframe thead th {\n",
       "        text-align: right;\n",
       "    }\n",
       "</style>\n",
       "<table border=\"1\" class=\"dataframe\">\n",
       "  <thead>\n",
       "    <tr style=\"text-align: right;\">\n",
       "      <th></th>\n",
       "      <th>date</th>\n",
       "      <th>4. close</th>\n",
       "    </tr>\n",
       "  </thead>\n",
       "  <tbody>\n",
       "    <tr>\n",
       "      <th>0</th>\n",
       "      <td>2014-11-24</td>\n",
       "      <td>0.8859</td>\n",
       "    </tr>\n",
       "    <tr>\n",
       "      <th>1</th>\n",
       "      <td>2014-11-25</td>\n",
       "      <td>0.8880</td>\n",
       "    </tr>\n",
       "    <tr>\n",
       "      <th>2</th>\n",
       "      <td>2014-11-26</td>\n",
       "      <td>0.8887</td>\n",
       "    </tr>\n",
       "    <tr>\n",
       "      <th>3</th>\n",
       "      <td>2014-11-27</td>\n",
       "      <td>0.8816</td>\n",
       "    </tr>\n",
       "    <tr>\n",
       "      <th>4</th>\n",
       "      <td>2014-11-28</td>\n",
       "      <td>0.8755</td>\n",
       "    </tr>\n",
       "  </tbody>\n",
       "</table>\n",
       "</div>"
      ],
      "text/plain": [
       "         date  4. close\n",
       "0  2014-11-24    0.8859\n",
       "1  2014-11-25    0.8880\n",
       "2  2014-11-26    0.8887\n",
       "3  2014-11-27    0.8816\n",
       "4  2014-11-28    0.8755"
      ]
     },
     "execution_count": 85,
     "metadata": {},
     "output_type": "execute_result"
    }
   ],
   "source": [
    "cad_data.head()"
   ]
  },
  {
   "cell_type": "code",
   "execution_count": 86,
   "metadata": {},
   "outputs": [
    {
     "name": "stdout",
     "output_type": "stream",
     "text": [
      "<class 'pandas.core.frame.DataFrame'>\n",
      "RangeIndex: 1557 entries, 0 to 1556\n",
      "Data columns (total 2 columns):\n",
      "Date     1557 non-null object\n",
      "Close    1557 non-null float64\n",
      "dtypes: float64(1), object(1)\n",
      "memory usage: 24.4+ KB\n"
     ]
    }
   ],
   "source": [
    "# Rename columns\n",
    "cad_data.columns = ['Date', 'Close']\n",
    "\n",
    "cad_data.info()"
   ]
  },
  {
   "cell_type": "code",
   "execution_count": 87,
   "metadata": {},
   "outputs": [],
   "source": [
    "# Select only from 2015-10-01 to 2020-11-01\n",
    "start_date = pd.Timestamp(\"01/11/2015\")\n",
    "end_date = pd.Timestamp(\"01/11/2020\")\n",
    "\n",
    "#Set Date column to 'Timestamp' format\n",
    "cad_data['Date'] = pd.to_datetime(cad_data['Date'])\n",
    "\n",
    "#Slice Dataframe\n",
    "cad_data = cad_data[(cad_data['Date'] > f(start_date)) & (cad_data['Date'] < f(end_date))]\n",
    "\n",
    "# Set index back\n",
    "cad_data.set_index(\"Date\", inplace = True)\n",
    "\n",
    "cad_data"
   ]
  },
  {
   "cell_type": "code",
   "execution_count": 88,
   "metadata": {},
   "outputs": [],
   "source": [
    "cad_data.to_csv('../../../02-Data/Clean Data/Market Data/CAD_5yr_cln.csv')"
   ]
  },
  {
   "cell_type": "code",
   "execution_count": 93,
   "metadata": {},
   "outputs": [],
   "source": [
    "#-------------------------------------------------------------------------------------------------------"
   ]
  },
  {
   "cell_type": "code",
   "execution_count": 95,
   "metadata": {},
   "outputs": [],
   "source": [
    "# Clean TSX60 Dataframe\n",
    "# TSX from 2015-10-01 to 2020-11-01\n",
    "SP_TSX500_file = Path(\"../../../02-Data/Dirty Data/Market Data/SPTSX60 Historical.csv\")\n",
    "SP_TSX500_data = pd.read_csv(SP_TSX500_file, index_col=\"Date\")\n",
    "SP_TSX500_data"
   ]
  },
  {
   "cell_type": "code",
   "execution_count": 96,
   "metadata": {},
   "outputs": [
    {
     "data": {
      "text/html": [
       "<div>\n",
       "<style scoped>\n",
       "    .dataframe tbody tr th:only-of-type {\n",
       "        vertical-align: middle;\n",
       "    }\n",
       "\n",
       "    .dataframe tbody tr th {\n",
       "        vertical-align: top;\n",
       "    }\n",
       "\n",
       "    .dataframe thead th {\n",
       "        text-align: right;\n",
       "    }\n",
       "</style>\n",
       "<table border=\"1\" class=\"dataframe\">\n",
       "  <thead>\n",
       "    <tr style=\"text-align: right;\">\n",
       "      <th></th>\n",
       "      <th>Price</th>\n",
       "    </tr>\n",
       "    <tr>\n",
       "      <th>Date</th>\n",
       "      <th></th>\n",
       "    </tr>\n",
       "  </thead>\n",
       "  <tbody>\n",
       "    <tr>\n",
       "      <th>2020-10-30</th>\n",
       "      <td>928.90</td>\n",
       "    </tr>\n",
       "    <tr>\n",
       "      <th>2020-10-29</th>\n",
       "      <td>934.83</td>\n",
       "    </tr>\n",
       "    <tr>\n",
       "      <th>2020-10-28</th>\n",
       "      <td>930.90</td>\n",
       "    </tr>\n",
       "    <tr>\n",
       "      <th>2020-10-27</th>\n",
       "      <td>954.81</td>\n",
       "    </tr>\n",
       "    <tr>\n",
       "      <th>2020-10-26</th>\n",
       "      <td>959.91</td>\n",
       "    </tr>\n",
       "  </tbody>\n",
       "</table>\n",
       "</div>"
      ],
      "text/plain": [
       "             Price\n",
       "Date              \n",
       "2020-10-30  928.90\n",
       "2020-10-29  934.83\n",
       "2020-10-28  930.90\n",
       "2020-10-27  954.81\n",
       "2020-10-26  959.91"
      ]
     },
     "execution_count": 96,
     "metadata": {},
     "output_type": "execute_result"
    }
   ],
   "source": [
    "# Remove useles column\n",
    "SP_TSX500_data.reset_index(inplace=True)\n",
    "\n",
    "# Convert Date column to datetime type\n",
    "SP_TSX500_data['Date'] = pd.to_datetime(SP_TSX500_data['Date'])\n",
    "\n",
    "# Change column order and keep only relevant ones\n",
    "SP_TSX500_data_sliced = SP_TSX500_data[['Date', 'Price']].set_index('Date')\n",
    "\n",
    "SP_TSX500_data_sliced.head()"
   ]
  },
  {
   "cell_type": "code",
   "execution_count": 98,
   "metadata": {},
   "outputs": [],
   "source": [
    "# Save to CSV file\n",
    "cad_data.to_csv('../../../02-Data/Clean Data/Market Data/SPTXS60_5yrs_cln.csv')"
   ]
  },
  {
   "cell_type": "code",
   "execution_count": null,
   "metadata": {},
   "outputs": [],
   "source": []
  }
 ],
 "metadata": {
  "kernelspec": {
   "display_name": "Python [conda env:pyvizenv] *",
   "language": "python",
   "name": "conda-env-pyvizenv-py"
  },
  "language_info": {
   "codemirror_mode": {
    "name": "ipython",
    "version": 3
   },
   "file_extension": ".py",
   "mimetype": "text/x-python",
   "name": "python",
   "nbconvert_exporter": "python",
   "pygments_lexer": "ipython3",
   "version": "3.7.9"
  }
 },
 "nbformat": 4,
 "nbformat_minor": 4
}
