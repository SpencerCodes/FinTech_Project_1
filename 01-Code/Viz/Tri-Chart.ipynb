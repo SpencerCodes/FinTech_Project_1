{
 "cells": [
  {
   "cell_type": "code",
   "execution_count": 295,
   "metadata": {},
   "outputs": [],
   "source": [
    "import hvplot.pandas\n",
    "from pathlib import Path\n",
    "import pandas as pd\n",
    "import matplotlib\n",
    "import os\n",
    "import seaborn as sns\n",
    "import matplotlib.pyplot as plt"
   ]
  },
  {
   "cell_type": "code",
   "execution_count": 301,
   "metadata": {},
   "outputs": [],
   "source": [
    "tsxpath = Path('../../02-Data/Clean Data/Market Data/SPTSX60_5yr_cln.csv')\n",
    "cerbpath = Path('../../02-Data/Clean Data/cerb/cerb_data.csv')\n",
    "covidpath = Path('../../02-Data/Clean Data/Covid/Cases_day.csv')"
   ]
  },
  {
   "cell_type": "code",
   "execution_count": 302,
   "metadata": {},
   "outputs": [],
   "source": [
    "tsx_df = pd.read_csv(tsxpath, index_col='Date')\n",
    "cerb_df = pd.read_csv(cerbpath, index_col='CERB Week End')\n",
    "covid_df = pd.read_csv(covidpath, index_col='Date')"
   ]
  },
  {
   "cell_type": "code",
   "execution_count": 303,
   "metadata": {},
   "outputs": [],
   "source": [
    "tsx_df = tsx_df['2020-01-01' :'2020-11-01']"
   ]
  },
  {
   "cell_type": "code",
   "execution_count": 304,
   "metadata": {},
   "outputs": [],
   "source": [
    "tsxfig = tsx_df.hvplot()"
   ]
  },
  {
   "cell_type": "code",
   "execution_count": 305,
   "metadata": {},
   "outputs": [
    {
     "data": {
      "text/html": [
       "<div>\n",
       "<style scoped>\n",
       "    .dataframe tbody tr th:only-of-type {\n",
       "        vertical-align: middle;\n",
       "    }\n",
       "\n",
       "    .dataframe tbody tr th {\n",
       "        vertical-align: top;\n",
       "    }\n",
       "\n",
       "    .dataframe thead th {\n",
       "        text-align: right;\n",
       "    }\n",
       "</style>\n",
       "<table border=\"1\" class=\"dataframe\">\n",
       "  <thead>\n",
       "    <tr style=\"text-align: right;\">\n",
       "      <th></th>\n",
       "      <th>Price</th>\n",
       "    </tr>\n",
       "    <tr>\n",
       "      <th>Date</th>\n",
       "      <th></th>\n",
       "    </tr>\n",
       "  </thead>\n",
       "  <tbody>\n",
       "    <tr>\n",
       "      <th>2020-01-02</th>\n",
       "      <td>1018.24</td>\n",
       "    </tr>\n",
       "    <tr>\n",
       "      <th>2020-01-03</th>\n",
       "      <td>1015.65</td>\n",
       "    </tr>\n",
       "    <tr>\n",
       "      <th>2020-01-06</th>\n",
       "      <td>1018.26</td>\n",
       "    </tr>\n",
       "    <tr>\n",
       "      <th>2020-01-07</th>\n",
       "      <td>1021.30</td>\n",
       "    </tr>\n",
       "    <tr>\n",
       "      <th>2020-01-08</th>\n",
       "      <td>1022.96</td>\n",
       "    </tr>\n",
       "  </tbody>\n",
       "</table>\n",
       "</div>"
      ],
      "text/plain": [
       "              Price\n",
       "Date               \n",
       "2020-01-02  1018.24\n",
       "2020-01-03  1015.65\n",
       "2020-01-06  1018.26\n",
       "2020-01-07  1021.30\n",
       "2020-01-08  1022.96"
      ]
     },
     "execution_count": 305,
     "metadata": {},
     "output_type": "execute_result"
    }
   ],
   "source": [
    "tsx_df.head()"
   ]
  },
  {
   "cell_type": "code",
   "execution_count": 306,
   "metadata": {},
   "outputs": [
    {
     "data": {
      "text/html": [
       "<div>\n",
       "<style scoped>\n",
       "    .dataframe tbody tr th:only-of-type {\n",
       "        vertical-align: middle;\n",
       "    }\n",
       "\n",
       "    .dataframe tbody tr th {\n",
       "        vertical-align: top;\n",
       "    }\n",
       "\n",
       "    .dataframe thead th {\n",
       "        text-align: right;\n",
       "    }\n",
       "</style>\n",
       "<table border=\"1\" class=\"dataframe\">\n",
       "  <thead>\n",
       "    <tr style=\"text-align: right;\">\n",
       "      <th></th>\n",
       "      <th>Total Paid CAD</th>\n",
       "    </tr>\n",
       "    <tr>\n",
       "      <th>CERB Week End</th>\n",
       "      <th></th>\n",
       "    </tr>\n",
       "  </thead>\n",
       "  <tbody>\n",
       "    <tr>\n",
       "      <th>2020-04-19</th>\n",
       "      <td>19804000000</td>\n",
       "    </tr>\n",
       "    <tr>\n",
       "      <th>2020-04-26</th>\n",
       "      <td>24250000000</td>\n",
       "    </tr>\n",
       "    <tr>\n",
       "      <th>2020-05-05</th>\n",
       "      <td>28570000000</td>\n",
       "    </tr>\n",
       "    <tr>\n",
       "      <th>2020-05-10</th>\n",
       "      <td>30482000000</td>\n",
       "    </tr>\n",
       "    <tr>\n",
       "      <th>2020-05-19</th>\n",
       "      <td>38410000000</td>\n",
       "    </tr>\n",
       "  </tbody>\n",
       "</table>\n",
       "</div>"
      ],
      "text/plain": [
       "               Total Paid CAD\n",
       "CERB Week End                \n",
       "2020-04-19        19804000000\n",
       "2020-04-26        24250000000\n",
       "2020-05-05        28570000000\n",
       "2020-05-10        30482000000\n",
       "2020-05-19        38410000000"
      ]
     },
     "execution_count": 306,
     "metadata": {},
     "output_type": "execute_result"
    }
   ],
   "source": [
    "cerb_df.head()"
   ]
  },
  {
   "cell_type": "code",
   "execution_count": 307,
   "metadata": {},
   "outputs": [],
   "source": [
    "cerb_df = cerb_df.reset_index()"
   ]
  },
  {
   "cell_type": "code",
   "execution_count": 308,
   "metadata": {},
   "outputs": [],
   "source": [
    "cerb_df.iloc[0,0] = '2020-04-17'\n",
    "cerb_df.iloc[1,0] = '2020-04-24'\n",
    "cerb_df.iloc[3,0] = '2020-05-11'\n",
    "cerb_df.iloc[5,0] = '2020-05-25'\n",
    "cerb_df.iloc[7,0] = '2020-06-08'\n",
    "cerb_df.iloc[8,0] = '2020-06-15'\n",
    "cerb_df.iloc[9,0] = '2020-06-22'\n",
    "cerb_df.iloc[10,0] = '2020-06-29'\n",
    "cerb_df.iloc[11,0] = '2020-07-06'\n",
    "cerb_df.iloc[12,0] = '2020-07-13'\n",
    "cerb_df.iloc[13,0] = '2020-07-20'\n",
    "cerb_df.iloc[14,0] = '2020-07-27'\n",
    "cerb_df.iloc[15,0] = '2020-08-03'\n",
    "cerb_df.iloc[16,0] = '2020-08-10'\n",
    "cerb_df.iloc[17,0] = '2020-08-17'\n",
    "cerb_df.iloc[18,0] = '2020-08-24'\n",
    "cerb_df.iloc[19,0] = '2020-08-31'\n",
    "cerb_df.iloc[20,0] = '2020-09-07'\n",
    "cerb_df.iloc[21,0] = '2020-09-14'\n",
    "cerb_df.iloc[22,0] = '2020-09-21'\n",
    "cerb_df.iloc[23,0] = '2020-09-28'\n",
    "cerb_df.iloc[24,0] = '2020-10-05'"
   ]
  },
  {
   "cell_type": "code",
   "execution_count": 309,
   "metadata": {},
   "outputs": [],
   "source": [
    "cerb_df = cerb_df.set_index('CERB Week End')"
   ]
  },
  {
   "cell_type": "code",
   "execution_count": 310,
   "metadata": {},
   "outputs": [],
   "source": [
    "cerb_df['Total Paid CAD'] = cerb_df['Total Paid CAD'] / 100000000"
   ]
  },
  {
   "cell_type": "code",
   "execution_count": 311,
   "metadata": {},
   "outputs": [],
   "source": [
    "cerb_df.to_csv('../../02-Data/Clean Data/cerb/Weekday_cerb.csv')"
   ]
  },
  {
   "cell_type": "code",
   "execution_count": 349,
   "metadata": {},
   "outputs": [],
   "source": [
    "cerb_df.index = pd.to_datetime(cerb_df.index)"
   ]
  },
  {
   "cell_type": "code",
   "execution_count": 361,
   "metadata": {},
   "outputs": [],
   "source": [
    "cerbfig = cerb_df.hvplot.line(legend=True)"
   ]
  },
  {
   "cell_type": "code",
   "execution_count": 351,
   "metadata": {},
   "outputs": [
    {
     "data": {
      "text/html": [
       "<div>\n",
       "<style scoped>\n",
       "    .dataframe tbody tr th:only-of-type {\n",
       "        vertical-align: middle;\n",
       "    }\n",
       "\n",
       "    .dataframe tbody tr th {\n",
       "        vertical-align: top;\n",
       "    }\n",
       "\n",
       "    .dataframe thead th {\n",
       "        text-align: right;\n",
       "    }\n",
       "</style>\n",
       "<table border=\"1\" class=\"dataframe\">\n",
       "  <thead>\n",
       "    <tr style=\"text-align: right;\">\n",
       "      <th></th>\n",
       "      <th>Total Paid CAD</th>\n",
       "    </tr>\n",
       "    <tr>\n",
       "      <th>CERB Week End</th>\n",
       "      <th></th>\n",
       "    </tr>\n",
       "  </thead>\n",
       "  <tbody>\n",
       "    <tr>\n",
       "      <th>2020-04-17</th>\n",
       "      <td>198.04</td>\n",
       "    </tr>\n",
       "    <tr>\n",
       "      <th>2020-04-24</th>\n",
       "      <td>242.50</td>\n",
       "    </tr>\n",
       "    <tr>\n",
       "      <th>2020-05-05</th>\n",
       "      <td>285.70</td>\n",
       "    </tr>\n",
       "    <tr>\n",
       "      <th>2020-05-11</th>\n",
       "      <td>304.82</td>\n",
       "    </tr>\n",
       "    <tr>\n",
       "      <th>2020-05-19</th>\n",
       "      <td>384.10</td>\n",
       "    </tr>\n",
       "  </tbody>\n",
       "</table>\n",
       "</div>"
      ],
      "text/plain": [
       "               Total Paid CAD\n",
       "CERB Week End                \n",
       "2020-04-17             198.04\n",
       "2020-04-24             242.50\n",
       "2020-05-05             285.70\n",
       "2020-05-11             304.82\n",
       "2020-05-19             384.10"
      ]
     },
     "execution_count": 351,
     "metadata": {},
     "output_type": "execute_result"
    }
   ],
   "source": [
    "cerb_df.head()"
   ]
  },
  {
   "cell_type": "code",
   "execution_count": 314,
   "metadata": {},
   "outputs": [
    {
     "data": {
      "text/html": [
       "<div>\n",
       "<style scoped>\n",
       "    .dataframe tbody tr th:only-of-type {\n",
       "        vertical-align: middle;\n",
       "    }\n",
       "\n",
       "    .dataframe tbody tr th {\n",
       "        vertical-align: top;\n",
       "    }\n",
       "\n",
       "    .dataframe thead th {\n",
       "        text-align: right;\n",
       "    }\n",
       "</style>\n",
       "<table border=\"1\" class=\"dataframe\">\n",
       "  <thead>\n",
       "    <tr style=\"text-align: right;\">\n",
       "      <th></th>\n",
       "      <th>New Cases</th>\n",
       "    </tr>\n",
       "    <tr>\n",
       "      <th>Date</th>\n",
       "      <th></th>\n",
       "    </tr>\n",
       "  </thead>\n",
       "  <tbody>\n",
       "    <tr>\n",
       "      <th>2020-01-01</th>\n",
       "      <td>2</td>\n",
       "    </tr>\n",
       "    <tr>\n",
       "      <th>2020-01-10</th>\n",
       "      <td>1</td>\n",
       "    </tr>\n",
       "    <tr>\n",
       "      <th>2020-01-16</th>\n",
       "      <td>1</td>\n",
       "    </tr>\n",
       "    <tr>\n",
       "      <th>2020-01-21</th>\n",
       "      <td>1</td>\n",
       "    </tr>\n",
       "    <tr>\n",
       "      <th>2020-01-22</th>\n",
       "      <td>1</td>\n",
       "    </tr>\n",
       "  </tbody>\n",
       "</table>\n",
       "</div>"
      ],
      "text/plain": [
       "            New Cases\n",
       "Date                 \n",
       "2020-01-01          2\n",
       "2020-01-10          1\n",
       "2020-01-16          1\n",
       "2020-01-21          1\n",
       "2020-01-22          1"
      ]
     },
     "execution_count": 314,
     "metadata": {},
     "output_type": "execute_result"
    }
   ],
   "source": [
    "covid_df.head()"
   ]
  },
  {
   "cell_type": "code",
   "execution_count": 315,
   "metadata": {},
   "outputs": [],
   "source": [
    "covid_df['New Cases'] = covid_df['New Cases'] /3"
   ]
  },
  {
   "cell_type": "code",
   "execution_count": 316,
   "metadata": {},
   "outputs": [],
   "source": [
    "covidfig = covid_df.hvplot()"
   ]
  },
  {
   "cell_type": "code",
   "execution_count": 317,
   "metadata": {},
   "outputs": [
    {
     "data": {
      "text/html": [
       "<div>\n",
       "<style scoped>\n",
       "    .dataframe tbody tr th:only-of-type {\n",
       "        vertical-align: middle;\n",
       "    }\n",
       "\n",
       "    .dataframe tbody tr th {\n",
       "        vertical-align: top;\n",
       "    }\n",
       "\n",
       "    .dataframe thead th {\n",
       "        text-align: right;\n",
       "    }\n",
       "</style>\n",
       "<table border=\"1\" class=\"dataframe\">\n",
       "  <thead>\n",
       "    <tr style=\"text-align: right;\">\n",
       "      <th></th>\n",
       "      <th>New Cases</th>\n",
       "    </tr>\n",
       "    <tr>\n",
       "      <th>Date</th>\n",
       "      <th></th>\n",
       "    </tr>\n",
       "  </thead>\n",
       "  <tbody>\n",
       "    <tr>\n",
       "      <th>2020-01-01</th>\n",
       "      <td>0.666667</td>\n",
       "    </tr>\n",
       "    <tr>\n",
       "      <th>2020-01-10</th>\n",
       "      <td>0.333333</td>\n",
       "    </tr>\n",
       "    <tr>\n",
       "      <th>2020-01-16</th>\n",
       "      <td>0.333333</td>\n",
       "    </tr>\n",
       "    <tr>\n",
       "      <th>2020-01-21</th>\n",
       "      <td>0.333333</td>\n",
       "    </tr>\n",
       "    <tr>\n",
       "      <th>2020-01-22</th>\n",
       "      <td>0.333333</td>\n",
       "    </tr>\n",
       "  </tbody>\n",
       "</table>\n",
       "</div>"
      ],
      "text/plain": [
       "            New Cases\n",
       "Date                 \n",
       "2020-01-01   0.666667\n",
       "2020-01-10   0.333333\n",
       "2020-01-16   0.333333\n",
       "2020-01-21   0.333333\n",
       "2020-01-22   0.333333"
      ]
     },
     "execution_count": 317,
     "metadata": {},
     "output_type": "execute_result"
    }
   ],
   "source": [
    "covid_df.head()"
   ]
  },
  {
   "cell_type": "code",
   "execution_count": 364,
   "metadata": {},
   "outputs": [],
   "source": [
    "joint_df = pd.concat([covid_df, tsx_df, cerb_df], axis=1, join='outer', sort=True)"
   ]
  },
  {
   "cell_type": "code",
   "execution_count": 325,
   "metadata": {},
   "outputs": [],
   "source": [
    "joint_df.dropna(inplace=True)"
   ]
  },
  {
   "cell_type": "code",
   "execution_count": 326,
   "metadata": {},
   "outputs": [],
   "source": [
    "jointfig = joint_df.hvplot()"
   ]
  },
  {
   "cell_type": "code",
   "execution_count": 327,
   "metadata": {},
   "outputs": [
    {
     "data": {},
     "metadata": {},
     "output_type": "display_data"
    },
    {
     "data": {
      "application/vnd.holoviews_exec.v0+json": "",
      "text/html": [
       "<div id='4809'>\n",
       "\n",
       "\n",
       "\n",
       "\n",
       "\n",
       "  <div class=\"bk-root\" id=\"5f6f7bd2-6180-4d8a-9bcb-3cb862a97136\" data-root-id=\"4809\"></div>\n",
       "</div>\n",
       "<script type=\"application/javascript\">(function(root) {\n",
       "  function embed_document(root) {\n",
       "  var docs_json = {\"0bd9b18b-cd28-43ad-9e27-57d849cee99d\":{\"roots\":{\"references\":[{\"attributes\":{\"active_drag\":\"auto\",\"active_inspect\":\"auto\",\"active_multi\":null,\"active_scroll\":\"auto\",\"active_tap\":\"auto\",\"tools\":[{\"id\":\"4813\"},{\"id\":\"4832\"},{\"id\":\"4833\"},{\"id\":\"4834\"},{\"id\":\"4835\"},{\"id\":\"4836\"}]},\"id\":\"4838\",\"type\":\"Toolbar\"},{\"attributes\":{\"data\":{\"Variable\":[\"New Cases\",\"New Cases\",\"New Cases\",\"New Cases\",\"New Cases\",\"New Cases\",\"New Cases\",\"New Cases\",\"New Cases\",\"New Cases\",\"New Cases\",\"New Cases\",\"New Cases\",\"New Cases\",\"New Cases\",\"New Cases\",\"New Cases\",\"New Cases\",\"New Cases\",\"New Cases\",\"New Cases\",\"New Cases\",\"New Cases\"],\"index\":[\"2020-04-17\",\"2020-04-24\",\"2020-05-05\",\"2020-05-11\",\"2020-05-19\",\"2020-05-25\",\"2020-06-01\",\"2020-06-08\",\"2020-06-15\",\"2020-06-22\",\"2020-06-29\",\"2020-07-06\",\"2020-07-13\",\"2020-07-20\",\"2020-07-27\",\"2020-08-10\",\"2020-08-17\",\"2020-08-24\",\"2020-08-31\",\"2020-09-14\",\"2020-09-21\",\"2020-09-28\",\"2020-10-05\"],\"value\":{\"__ndarray__\":\"q6qqqqq6g0AAAAAAAACAQKuqqqqq2nlAq6qqqqrKeECrqqqqqnp1QKuqqqqqSnRAVVVVVVU1akCrqqqqqopiQAAAAAAAwF9Aq6qqqqrqWECrqqqqqoplQAAAAAAAAFxAAAAAAABAYUCrqqqqqupkQFVVVVVVNWJAAAAAAAAAYkBVVVVVVfVgQFVVVVVVVWBAq6qqqqqqZkCrqqqqqqpzQFVVVVVVDYBAVVVVVVUlg0AAAAAAAOCIQA==\",\"dtype\":\"float64\",\"order\":\"little\",\"shape\":[23]}},\"selected\":{\"id\":\"4850\"},\"selection_policy\":{\"id\":\"4864\"}},\"id\":\"4849\",\"type\":\"ColumnDataSource\"},{\"attributes\":{},\"id\":\"4832\",\"type\":\"SaveTool\"},{\"attributes\":{\"source\":{\"id\":\"4886\"}},\"id\":\"4893\",\"type\":\"CDSView\"},{\"attributes\":{\"below\":[{\"id\":\"4825\"}],\"center\":[{\"id\":\"4827\"},{\"id\":\"4831\"}],\"left\":[{\"id\":\"4828\"}],\"margin\":null,\"min_border_bottom\":10,\"min_border_left\":10,\"min_border_right\":10,\"min_border_top\":10,\"plot_height\":300,\"plot_width\":700,\"renderers\":[{\"id\":\"4855\"},{\"id\":\"4873\"},{\"id\":\"4892\"}],\"right\":[{\"id\":\"4865\"}],\"sizing_mode\":\"fixed\",\"title\":{\"id\":\"4817\"},\"toolbar\":{\"id\":\"4838\"},\"x_range\":{\"id\":\"4811\"},\"x_scale\":{\"id\":\"4821\"},\"y_range\":{\"id\":\"4812\"},\"y_scale\":{\"id\":\"4823\"}},\"id\":\"4816\",\"subtype\":\"Figure\",\"type\":\"Plot\"},{\"attributes\":{},\"id\":\"4833\",\"type\":\"PanTool\"},{\"attributes\":{\"callback\":null,\"renderers\":[{\"id\":\"4855\"},{\"id\":\"4873\"},{\"id\":\"4892\"}],\"tags\":[\"hv_created\"],\"tooltips\":[[\"Variable\",\"@{Variable}\"],[\"index\",\"@{index}\"],[\"value\",\"@{value}\"]]},\"id\":\"4813\",\"type\":\"HoverTool\"},{\"attributes\":{},\"id\":\"4834\",\"type\":\"WheelZoomTool\"},{\"attributes\":{\"axis_label\":\"\",\"bounds\":\"auto\",\"formatter\":{\"id\":\"4846\"},\"major_label_orientation\":\"horizontal\",\"ticker\":{\"id\":\"4826\"}},\"id\":\"4825\",\"type\":\"CategoricalAxis\"},{\"attributes\":{\"line_color\":\"#1f77b3\",\"line_width\":2,\"x\":{\"field\":\"index\"},\"y\":{\"field\":\"value\"}},\"id\":\"4852\",\"type\":\"Line\"},{\"attributes\":{\"text\":\"\",\"text_color\":{\"value\":\"black\"},\"text_font_size\":{\"value\":\"12pt\"}},\"id\":\"4817\",\"type\":\"Title\"},{\"attributes\":{\"data_source\":{\"id\":\"4886\"},\"glyph\":{\"id\":\"4889\"},\"hover_glyph\":null,\"muted_glyph\":{\"id\":\"4891\"},\"nonselection_glyph\":{\"id\":\"4890\"},\"selection_glyph\":null,\"view\":{\"id\":\"4893\"}},\"id\":\"4892\",\"type\":\"GlyphRenderer\"},{\"attributes\":{\"overlay\":{\"id\":\"4837\"}},\"id\":\"4835\",\"type\":\"BoxZoomTool\"},{\"attributes\":{\"line_color\":\"#2ba02b\",\"line_width\":2,\"x\":{\"field\":\"index\"},\"y\":{\"field\":\"value\"}},\"id\":\"4889\",\"type\":\"Line\"},{\"attributes\":{\"click_policy\":\"mute\",\"items\":[{\"id\":\"4866\"},{\"id\":\"4885\"},{\"id\":\"4906\"}],\"location\":[0,0],\"title\":\"Variable\"},\"id\":\"4865\",\"type\":\"Legend\"},{\"attributes\":{\"margin\":[5,5,5,5],\"name\":\"HSpacer12680\",\"sizing_mode\":\"stretch_width\"},\"id\":\"4810\",\"type\":\"Spacer\"},{\"attributes\":{},\"id\":\"4836\",\"type\":\"ResetTool\"},{\"attributes\":{},\"id\":\"4905\",\"type\":\"UnionRenderers\"},{\"attributes\":{\"source\":{\"id\":\"4849\"}},\"id\":\"4856\",\"type\":\"CDSView\"},{\"attributes\":{},\"id\":\"4887\",\"type\":\"Selection\"},{\"attributes\":{\"data\":{\"Variable\":[\"Price\",\"Price\",\"Price\",\"Price\",\"Price\",\"Price\",\"Price\",\"Price\",\"Price\",\"Price\",\"Price\",\"Price\",\"Price\",\"Price\",\"Price\",\"Price\",\"Price\",\"Price\",\"Price\",\"Price\",\"Price\",\"Price\",\"Price\"],\"index\":[\"2020-04-17\",\"2020-04-24\",\"2020-05-05\",\"2020-05-11\",\"2020-05-19\",\"2020-05-25\",\"2020-06-01\",\"2020-06-08\",\"2020-06-15\",\"2020-06-22\",\"2020-06-29\",\"2020-07-06\",\"2020-07-13\",\"2020-07-20\",\"2020-07-27\",\"2020-08-10\",\"2020-08-17\",\"2020-08-24\",\"2020-08-31\",\"2020-09-14\",\"2020-09-21\",\"2020-09-28\",\"2020-10-05\"],\"value\":{\"__ndarray__\":\"zczMzMw+i0CF61G4HkmLQFK4HoXrB4xAhetRuB6njEAK16NwPRiMQGZmZmZmdoxAXI/C9Si+jEA9CtejcA2OQEjhehSu74xAAAAAAAA6jUDNzMzMzASNQFK4HoXrcY1A9ihcj8JtjUC4HoXrUWiOQLgehetRSI5AzczMzMwYj0DhehSuRzGPQLgehetRLo9AXI/C9Sj0jkCF61G4HqGOQEjhehSu7Y1AzczMzMyEjkAzMzMzM7uOQA==\",\"dtype\":\"float64\",\"order\":\"little\",\"shape\":[23]}},\"selected\":{\"id\":\"4868\"},\"selection_policy\":{\"id\":\"4884\"}},\"id\":\"4867\",\"type\":\"ColumnDataSource\"},{\"attributes\":{\"line_alpha\":0.2,\"line_color\":\"#2ba02b\",\"line_width\":2,\"x\":{\"field\":\"index\"},\"y\":{\"field\":\"value\"}},\"id\":\"4891\",\"type\":\"Line\"},{\"attributes\":{},\"id\":\"4826\",\"type\":\"CategoricalTicker\"},{\"attributes\":{\"label\":{\"value\":\"Total Paid CAD\"},\"renderers\":[{\"id\":\"4892\"}]},\"id\":\"4906\",\"type\":\"LegendItem\"},{\"attributes\":{},\"id\":\"4821\",\"type\":\"CategoricalScale\"},{\"attributes\":{\"axis\":{\"id\":\"4828\"},\"dimension\":1,\"grid_line_color\":null,\"ticker\":null},\"id\":\"4831\",\"type\":\"Grid\"},{\"attributes\":{\"line_alpha\":0.1,\"line_color\":\"#2ba02b\",\"line_width\":2,\"x\":{\"field\":\"index\"},\"y\":{\"field\":\"value\"}},\"id\":\"4890\",\"type\":\"Line\"},{\"attributes\":{},\"id\":\"4823\",\"type\":\"LinearScale\"},{\"attributes\":{\"line_alpha\":0.1,\"line_color\":\"#ff7e0e\",\"line_width\":2,\"x\":{\"field\":\"index\"},\"y\":{\"field\":\"value\"}},\"id\":\"4871\",\"type\":\"Line\"},{\"attributes\":{\"data_source\":{\"id\":\"4849\"},\"glyph\":{\"id\":\"4852\"},\"hover_glyph\":null,\"muted_glyph\":{\"id\":\"4854\"},\"nonselection_glyph\":{\"id\":\"4853\"},\"selection_glyph\":null,\"view\":{\"id\":\"4856\"}},\"id\":\"4855\",\"type\":\"GlyphRenderer\"},{\"attributes\":{\"line_alpha\":0.2,\"line_color\":\"#1f77b3\",\"line_width\":2,\"x\":{\"field\":\"index\"},\"y\":{\"field\":\"value\"}},\"id\":\"4854\",\"type\":\"Line\"},{\"attributes\":{},\"id\":\"4864\",\"type\":\"UnionRenderers\"},{\"attributes\":{\"axis\":{\"id\":\"4825\"},\"grid_line_color\":null,\"ticker\":null},\"id\":\"4827\",\"type\":\"Grid\"},{\"attributes\":{\"margin\":[5,5,5,5],\"name\":\"HSpacer12681\",\"sizing_mode\":\"stretch_width\"},\"id\":\"5015\",\"type\":\"Spacer\"},{\"attributes\":{\"line_alpha\":0.1,\"line_color\":\"#1f77b3\",\"line_width\":2,\"x\":{\"field\":\"index\"},\"y\":{\"field\":\"value\"}},\"id\":\"4853\",\"type\":\"Line\"},{\"attributes\":{\"end\":1088.0093333333334,\"reset_end\":1088.0093333333334,\"reset_start\":9.817333333333337,\"start\":9.817333333333337,\"tags\":[[[\"value\",\"value\",null]]]},\"id\":\"4812\",\"type\":\"Range1d\"},{\"attributes\":{},\"id\":\"4850\",\"type\":\"Selection\"},{\"attributes\":{},\"id\":\"4848\",\"type\":\"BasicTickFormatter\"},{\"attributes\":{},\"id\":\"4829\",\"type\":\"BasicTicker\"},{\"attributes\":{\"line_alpha\":0.2,\"line_color\":\"#ff7e0e\",\"line_width\":2,\"x\":{\"field\":\"index\"},\"y\":{\"field\":\"value\"}},\"id\":\"4872\",\"type\":\"Line\"},{\"attributes\":{\"line_color\":\"#ff7e0e\",\"line_width\":2,\"x\":{\"field\":\"index\"},\"y\":{\"field\":\"value\"}},\"id\":\"4870\",\"type\":\"Line\"},{\"attributes\":{\"axis_label\":\"\",\"bounds\":\"auto\",\"formatter\":{\"id\":\"4848\"},\"major_label_orientation\":\"horizontal\",\"ticker\":{\"id\":\"4829\"}},\"id\":\"4828\",\"type\":\"LinearAxis\"},{\"attributes\":{\"factors\":[\"2020-04-17\",\"2020-04-24\",\"2020-05-05\",\"2020-05-11\",\"2020-05-19\",\"2020-05-25\",\"2020-06-01\",\"2020-06-08\",\"2020-06-15\",\"2020-06-22\",\"2020-06-29\",\"2020-07-06\",\"2020-07-13\",\"2020-07-20\",\"2020-07-27\",\"2020-08-10\",\"2020-08-17\",\"2020-08-24\",\"2020-08-31\",\"2020-09-14\",\"2020-09-21\",\"2020-09-28\",\"2020-10-05\"],\"tags\":[[[\"index\",\"index\",null]]]},\"id\":\"4811\",\"type\":\"FactorRange\"},{\"attributes\":{\"data\":{\"Variable\":[\"Total Paid CAD\",\"Total Paid CAD\",\"Total Paid CAD\",\"Total Paid CAD\",\"Total Paid CAD\",\"Total Paid CAD\",\"Total Paid CAD\",\"Total Paid CAD\",\"Total Paid CAD\",\"Total Paid CAD\",\"Total Paid CAD\",\"Total Paid CAD\",\"Total Paid CAD\",\"Total Paid CAD\",\"Total Paid CAD\",\"Total Paid CAD\",\"Total Paid CAD\",\"Total Paid CAD\",\"Total Paid CAD\",\"Total Paid CAD\",\"Total Paid CAD\",\"Total Paid CAD\",\"Total Paid CAD\"],\"index\":[\"2020-04-17\",\"2020-04-24\",\"2020-05-05\",\"2020-05-11\",\"2020-05-19\",\"2020-05-25\",\"2020-06-01\",\"2020-06-08\",\"2020-06-15\",\"2020-06-22\",\"2020-06-29\",\"2020-07-06\",\"2020-07-13\",\"2020-07-20\",\"2020-07-27\",\"2020-08-10\",\"2020-08-17\",\"2020-08-24\",\"2020-08-31\",\"2020-09-14\",\"2020-09-21\",\"2020-09-28\",\"2020-10-05\"],\"value\":{\"__ndarray__\":\"4XoUrkfBaEAAAAAAAFBuQDMzMzMz23FAhetRuB4Nc0CamZmZmQF4QM3MzMzMNHlACtejcD2eekAK16NwPeZ7QGZmZmZmZn9A7FG4HoVLgEAK16NwPbqAQClcj8L1HoFAKVyPwvWQgkDNzMzMzCSDQAAAAAAAnINAzczMzMxkhUBmZmZmZuKFQAAAAAAARIZAAAAAAACshkAzMzMzM1+IQAAAAAAAyIhAmpmZmZkxiUAzMzMzM4OJQA==\",\"dtype\":\"float64\",\"order\":\"little\",\"shape\":[23]}},\"selected\":{\"id\":\"4887\"},\"selection_policy\":{\"id\":\"4905\"}},\"id\":\"4886\",\"type\":\"ColumnDataSource\"},{\"attributes\":{},\"id\":\"4884\",\"type\":\"UnionRenderers\"},{\"attributes\":{\"source\":{\"id\":\"4867\"}},\"id\":\"4874\",\"type\":\"CDSView\"},{\"attributes\":{\"children\":[{\"id\":\"4810\"},{\"id\":\"4816\"},{\"id\":\"5015\"}],\"margin\":[0,0,0,0],\"name\":\"Row12676\",\"tags\":[\"embedded\"]},\"id\":\"4809\",\"type\":\"Row\"},{\"attributes\":{\"label\":{\"value\":\"Price\"},\"renderers\":[{\"id\":\"4873\"}]},\"id\":\"4885\",\"type\":\"LegendItem\"},{\"attributes\":{},\"id\":\"4868\",\"type\":\"Selection\"},{\"attributes\":{\"label\":{\"value\":\"New Cases\"},\"renderers\":[{\"id\":\"4855\"}]},\"id\":\"4866\",\"type\":\"LegendItem\"},{\"attributes\":{\"bottom_units\":\"screen\",\"fill_alpha\":0.5,\"fill_color\":\"lightgrey\",\"left_units\":\"screen\",\"level\":\"overlay\",\"line_alpha\":1.0,\"line_color\":\"black\",\"line_dash\":[4,4],\"line_width\":2,\"right_units\":\"screen\",\"top_units\":\"screen\"},\"id\":\"4837\",\"type\":\"BoxAnnotation\"},{\"attributes\":{},\"id\":\"4846\",\"type\":\"CategoricalTickFormatter\"},{\"attributes\":{\"data_source\":{\"id\":\"4867\"},\"glyph\":{\"id\":\"4870\"},\"hover_glyph\":null,\"muted_glyph\":{\"id\":\"4872\"},\"nonselection_glyph\":{\"id\":\"4871\"},\"selection_glyph\":null,\"view\":{\"id\":\"4874\"}},\"id\":\"4873\",\"type\":\"GlyphRenderer\"}],\"root_ids\":[\"4809\"]},\"title\":\"Bokeh Application\",\"version\":\"2.2.3\"}};\n",
       "  var render_items = [{\"docid\":\"0bd9b18b-cd28-43ad-9e27-57d849cee99d\",\"root_ids\":[\"4809\"],\"roots\":{\"4809\":\"5f6f7bd2-6180-4d8a-9bcb-3cb862a97136\"}}];\n",
       "  root.Bokeh.embed.embed_items_notebook(docs_json, render_items);\n",
       "  }\n",
       "if (root.Bokeh !== undefined) {\n",
       "    embed_document(root);\n",
       "  } else {\n",
       "    var attempts = 0;\n",
       "    var timer = setInterval(function(root) {\n",
       "      if (root.Bokeh !== undefined) {\n",
       "        clearInterval(timer);\n",
       "        embed_document(root);\n",
       "      } else if (document.readyState == \"complete\") {\n",
       "        attempts++;\n",
       "        if (attempts > 100) {\n",
       "          clearInterval(timer);\n",
       "          console.log(\"Bokeh: ERROR: Unable to run BokehJS code because BokehJS library is missing\");\n",
       "        }\n",
       "      }\n",
       "    }, 10, root)\n",
       "  }\n",
       "})(window);</script>"
      ],
      "text/plain": [
       ":NdOverlay   [Variable]\n",
       "   :Curve   [index]   (value)"
      ]
     },
     "execution_count": 327,
     "metadata": {
      "application/vnd.holoviews_exec.v0+json": {
       "id": "4809"
      }
     },
     "output_type": "execute_result"
    }
   ],
   "source": [
    "joint_df.hvplot.line()"
   ]
  },
  {
   "cell_type": "code",
   "execution_count": 323,
   "metadata": {},
   "outputs": [
    {
     "data": {},
     "metadata": {},
     "output_type": "display_data"
    },
    {
     "data": {
      "application/vnd.holoviews_exec.v0+json": "",
      "text/html": [
       "<div id='4541'>\n",
       "\n",
       "\n",
       "\n",
       "\n",
       "\n",
       "  <div class=\"bk-root\" id=\"704fe2b2-6dc9-4654-811f-4db3e3b2b578\" data-root-id=\"4541\"></div>\n",
       "</div>\n",
       "<script type=\"application/javascript\">(function(root) {\n",
       "  function embed_document(root) {\n",
       "  var docs_json = {\"8a3e184e-e775-49be-abe2-224bc424b0a1\":{\"roots\":{\"references\":[{\"attributes\":{\"active_drag\":\"auto\",\"active_inspect\":\"auto\",\"active_multi\":null,\"active_scroll\":\"auto\",\"active_tap\":\"auto\",\"tools\":[{\"id\":\"4545\"},{\"id\":\"4564\"},{\"id\":\"4565\"},{\"id\":\"4566\"},{\"id\":\"4567\"},{\"id\":\"4568\"}]},\"id\":\"4570\",\"type\":\"Toolbar\"},{\"attributes\":{\"fill_color\":{\"value\":\"#1f77b3\"},\"line_color\":{\"value\":\"#1f77b3\"},\"size\":{\"units\":\"screen\",\"value\":5.477225575051661},\"x\":{\"field\":\"index\"},\"y\":{\"field\":\"value\"}},\"id\":\"4584\",\"type\":\"Scatter\"},{\"attributes\":{},\"id\":\"4564\",\"type\":\"SaveTool\"},{\"attributes\":{\"below\":[{\"id\":\"4557\"}],\"center\":[{\"id\":\"4559\"},{\"id\":\"4563\"}],\"left\":[{\"id\":\"4560\"}],\"margin\":null,\"min_border_bottom\":10,\"min_border_left\":10,\"min_border_right\":10,\"min_border_top\":10,\"plot_height\":300,\"plot_width\":700,\"renderers\":[{\"id\":\"4587\"},{\"id\":\"4605\"},{\"id\":\"4624\"}],\"right\":[{\"id\":\"4597\"}],\"sizing_mode\":\"fixed\",\"title\":{\"id\":\"4549\"},\"toolbar\":{\"id\":\"4570\"},\"x_range\":{\"id\":\"4543\"},\"x_scale\":{\"id\":\"4553\"},\"y_range\":{\"id\":\"4544\"},\"y_scale\":{\"id\":\"4555\"}},\"id\":\"4548\",\"subtype\":\"Figure\",\"type\":\"Plot\"},{\"attributes\":{\"children\":[{\"id\":\"4542\"},{\"id\":\"4548\"},{\"id\":\"4747\"}],\"margin\":[0,0,0,0],\"name\":\"Row11942\",\"tags\":[\"embedded\"]},\"id\":\"4541\",\"type\":\"Row\"},{\"attributes\":{},\"id\":\"4580\",\"type\":\"BasicTickFormatter\"},{\"attributes\":{},\"id\":\"4565\",\"type\":\"PanTool\"},{\"attributes\":{\"fill_alpha\":{\"value\":0.1},\"fill_color\":{\"value\":\"#2ba02b\"},\"line_alpha\":{\"value\":0.1},\"line_color\":{\"value\":\"#2ba02b\"},\"size\":{\"units\":\"screen\",\"value\":5.477225575051661},\"x\":{\"field\":\"index\"},\"y\":{\"field\":\"value\"}},\"id\":\"4622\",\"type\":\"Scatter\"},{\"attributes\":{\"margin\":[5,5,5,5],\"name\":\"HSpacer11946\",\"sizing_mode\":\"stretch_width\"},\"id\":\"4542\",\"type\":\"Spacer\"},{\"attributes\":{},\"id\":\"4566\",\"type\":\"WheelZoomTool\"},{\"attributes\":{},\"id\":\"4582\",\"type\":\"Selection\"},{\"attributes\":{\"source\":{\"id\":\"4618\"}},\"id\":\"4625\",\"type\":\"CDSView\"},{\"attributes\":{\"text\":\"\",\"text_color\":{\"value\":\"black\"},\"text_font_size\":{\"value\":\"12pt\"}},\"id\":\"4549\",\"type\":\"Title\"},{\"attributes\":{\"overlay\":{\"id\":\"4569\"}},\"id\":\"4567\",\"type\":\"BoxZoomTool\"},{\"attributes\":{},\"id\":\"4596\",\"type\":\"UnionRenderers\"},{\"attributes\":{\"source\":{\"id\":\"4581\"}},\"id\":\"4588\",\"type\":\"CDSView\"},{\"attributes\":{\"axis_label\":\"\",\"bounds\":\"auto\",\"formatter\":{\"id\":\"4578\"},\"major_label_orientation\":\"horizontal\",\"ticker\":{\"id\":\"4558\"}},\"id\":\"4557\",\"type\":\"CategoricalAxis\"},{\"attributes\":{\"label\":{\"value\":\"Total Paid CAD\"},\"renderers\":[{\"id\":\"4624\"}]},\"id\":\"4638\",\"type\":\"LegendItem\"},{\"attributes\":{\"fill_color\":{\"value\":\"#2ba02b\"},\"line_color\":{\"value\":\"#2ba02b\"},\"size\":{\"units\":\"screen\",\"value\":5.477225575051661},\"x\":{\"field\":\"index\"},\"y\":{\"field\":\"value\"}},\"id\":\"4621\",\"type\":\"Scatter\"},{\"attributes\":{\"end\":1176.1856666666667,\"reset_end\":1176.1856666666667,\"reset_start\":-106.56233333333334,\"start\":-106.56233333333334,\"tags\":[[[\"value\",\"value\",null]]]},\"id\":\"4544\",\"type\":\"Range1d\"},{\"attributes\":{},\"id\":\"4568\",\"type\":\"ResetTool\"},{\"attributes\":{\"click_policy\":\"mute\",\"items\":[{\"id\":\"4598\"},{\"id\":\"4617\"},{\"id\":\"4638\"}],\"location\":[0,0],\"title\":\"Variable\"},\"id\":\"4597\",\"type\":\"Legend\"},{\"attributes\":{\"data\":{\"Variable\":[\"New Cases\",\"New Cases\",\"New Cases\",\"New Cases\",\"New Cases\",\"New Cases\",\"New Cases\",\"New Cases\",\"New Cases\",\"New Cases\",\"New Cases\",\"New Cases\",\"New Cases\",\"New Cases\",\"New Cases\",\"New Cases\",\"New Cases\",\"New Cases\",\"New Cases\",\"New Cases\",\"New Cases\",\"New Cases\",\"New Cases\",\"New Cases\",\"New Cases\",\"New Cases\",\"New Cases\",\"New Cases\",\"New Cases\",\"New Cases\",\"New Cases\",\"New Cases\",\"New Cases\",\"New Cases\",\"New Cases\",\"New Cases\",\"New Cases\",\"New Cases\",\"New Cases\",\"New Cases\",\"New Cases\",\"New Cases\",\"New Cases\",\"New Cases\",\"New Cases\",\"New Cases\",\"New Cases\",\"New Cases\",\"New Cases\",\"New Cases\",\"New Cases\",\"New Cases\",\"New Cases\",\"New Cases\",\"New Cases\",\"New Cases\",\"New Cases\",\"New Cases\",\"New Cases\",\"New Cases\",\"New Cases\",\"New Cases\",\"New Cases\",\"New Cases\",\"New Cases\",\"New Cases\",\"New Cases\",\"New Cases\",\"New Cases\",\"New Cases\",\"New Cases\",\"New Cases\",\"New Cases\",\"New Cases\",\"New Cases\",\"New Cases\",\"New Cases\",\"New Cases\",\"New Cases\",\"New Cases\",\"New Cases\",\"New Cases\",\"New Cases\",\"New Cases\",\"New Cases\",\"New Cases\",\"New Cases\",\"New Cases\",\"New Cases\",\"New Cases\",\"New Cases\",\"New Cases\",\"New Cases\",\"New Cases\",\"New Cases\",\"New Cases\",\"New Cases\",\"New Cases\",\"New Cases\",\"New Cases\",\"New Cases\",\"New Cases\",\"New Cases\",\"New Cases\",\"New Cases\",\"New Cases\",\"New Cases\",\"New Cases\",\"New Cases\",\"New Cases\",\"New Cases\",\"New Cases\",\"New Cases\",\"New Cases\",\"New Cases\",\"New Cases\",\"New Cases\",\"New Cases\",\"New Cases\",\"New Cases\",\"New Cases\",\"New Cases\",\"New Cases\",\"New Cases\",\"New Cases\",\"New Cases\",\"New Cases\",\"New Cases\",\"New Cases\",\"New Cases\",\"New Cases\",\"New Cases\",\"New Cases\",\"New Cases\",\"New Cases\",\"New Cases\",\"New Cases\",\"New Cases\",\"New Cases\",\"New Cases\",\"New Cases\",\"New Cases\",\"New Cases\",\"New Cases\",\"New Cases\",\"New Cases\",\"New Cases\",\"New Cases\",\"New Cases\",\"New Cases\",\"New Cases\",\"New Cases\",\"New Cases\",\"New Cases\",\"New Cases\",\"New Cases\",\"New Cases\",\"New Cases\",\"New Cases\",\"New Cases\",\"New Cases\",\"New Cases\",\"New Cases\",\"New Cases\",\"New Cases\",\"New Cases\",\"New Cases\",\"New Cases\",\"New Cases\",\"New Cases\",\"New Cases\",\"New Cases\",\"New Cases\",\"New Cases\",\"New Cases\",\"New Cases\",\"New Cases\",\"New Cases\",\"New Cases\",\"New Cases\",\"New Cases\",\"New Cases\",\"New Cases\",\"New Cases\",\"New Cases\",\"New Cases\",\"New Cases\",\"New Cases\",\"New Cases\",\"New Cases\",\"New Cases\",\"New Cases\",\"New Cases\",\"New Cases\",\"New Cases\",\"New Cases\",\"New Cases\",\"New Cases\",\"New Cases\",\"New Cases\",\"New Cases\",\"New Cases\",\"New Cases\",\"New Cases\",\"New Cases\",\"New Cases\",\"New Cases\",\"New Cases\",\"New Cases\",\"New Cases\",\"New Cases\",\"New Cases\",\"New Cases\",\"New Cases\",\"New Cases\",\"New Cases\",\"New Cases\",\"New Cases\",\"New Cases\",\"New Cases\",\"New Cases\",\"New Cases\",\"New Cases\",\"New Cases\",\"New Cases\",\"New Cases\",\"New Cases\",\"New Cases\",\"New Cases\",\"New Cases\",\"New Cases\",\"New Cases\",\"New Cases\",\"New Cases\",\"New Cases\",\"New Cases\",\"New Cases\",\"New Cases\",\"New Cases\",\"New Cases\",\"New Cases\",\"New Cases\",\"New Cases\",\"New Cases\",\"New Cases\",\"New Cases\",\"New Cases\",\"New Cases\",\"New Cases\",\"New Cases\",\"New Cases\",\"New Cases\",\"New Cases\",\"New Cases\",\"New Cases\",\"New Cases\",\"New Cases\",\"New Cases\",\"New Cases\",\"New Cases\",\"New Cases\",\"New Cases\",\"New Cases\",\"New Cases\",\"New Cases\",\"New Cases\",\"New Cases\",\"New Cases\",\"New Cases\",\"New Cases\",\"New Cases\",\"New Cases\",\"New Cases\",\"New Cases\",\"New Cases\",\"New Cases\",\"New Cases\",\"New Cases\",\"New Cases\",\"New Cases\",\"New Cases\",\"New Cases\",\"New Cases\",\"New Cases\",\"New Cases\",\"New Cases\",\"New Cases\",\"New Cases\",\"New Cases\",\"New Cases\",\"New Cases\",\"New Cases\",\"New Cases\",\"New Cases\",\"New Cases\",\"New Cases\",\"New Cases\",\"New Cases\"],\"index\":[\"2020-01-01\",\"2020-01-02\",\"2020-01-03\",\"2020-01-06\",\"2020-01-07\",\"2020-01-08\",\"2020-01-09\",\"2020-01-10\",\"2020-01-13\",\"2020-01-14\",\"2020-01-15\",\"2020-01-16\",\"2020-01-17\",\"2020-01-20\",\"2020-01-21\",\"2020-01-22\",\"2020-01-23\",\"2020-01-24\",\"2020-01-27\",\"2020-01-28\",\"2020-01-29\",\"2020-01-30\",\"2020-01-31\",\"2020-02-01\",\"2020-02-02\",\"2020-02-03\",\"2020-02-04\",\"2020-02-05\",\"2020-02-06\",\"2020-02-07\",\"2020-02-10\",\"2020-02-11\",\"2020-02-12\",\"2020-02-13\",\"2020-02-14\",\"2020-02-15\",\"2020-02-16\",\"2020-02-17\",\"2020-02-18\",\"2020-02-19\",\"2020-02-20\",\"2020-02-21\",\"2020-02-22\",\"2020-02-23\",\"2020-02-24\",\"2020-02-25\",\"2020-02-26\",\"2020-02-27\",\"2020-02-28\",\"2020-02-29\",\"2020-03-01\",\"2020-03-02\",\"2020-03-03\",\"2020-03-04\",\"2020-03-05\",\"2020-03-06\",\"2020-03-07\",\"2020-03-08\",\"2020-03-09\",\"2020-03-10\",\"2020-03-11\",\"2020-03-12\",\"2020-03-13\",\"2020-03-14\",\"2020-03-15\",\"2020-03-16\",\"2020-03-17\",\"2020-03-18\",\"2020-03-19\",\"2020-03-20\",\"2020-03-21\",\"2020-03-22\",\"2020-03-23\",\"2020-03-24\",\"2020-03-25\",\"2020-03-26\",\"2020-03-27\",\"2020-03-28\",\"2020-03-29\",\"2020-03-30\",\"2020-03-31\",\"2020-04-01\",\"2020-04-02\",\"2020-04-03\",\"2020-04-04\",\"2020-04-05\",\"2020-04-06\",\"2020-04-07\",\"2020-04-08\",\"2020-04-09\",\"2020-04-10\",\"2020-04-11\",\"2020-04-12\",\"2020-04-13\",\"2020-04-14\",\"2020-04-15\",\"2020-04-16\",\"2020-04-17\",\"2020-04-18\",\"2020-04-19\",\"2020-04-20\",\"2020-04-21\",\"2020-04-22\",\"2020-04-23\",\"2020-04-24\",\"2020-04-25\",\"2020-04-26\",\"2020-04-27\",\"2020-04-28\",\"2020-04-29\",\"2020-04-30\",\"2020-05-01\",\"2020-05-02\",\"2020-05-03\",\"2020-05-04\",\"2020-05-05\",\"2020-05-06\",\"2020-05-07\",\"2020-05-08\",\"2020-05-09\",\"2020-05-10\",\"2020-05-11\",\"2020-05-12\",\"2020-05-13\",\"2020-05-14\",\"2020-05-15\",\"2020-05-16\",\"2020-05-17\",\"2020-05-18\",\"2020-05-19\",\"2020-05-20\",\"2020-05-21\",\"2020-05-22\",\"2020-05-23\",\"2020-05-24\",\"2020-05-25\",\"2020-05-26\",\"2020-05-27\",\"2020-05-28\",\"2020-05-29\",\"2020-05-30\",\"2020-05-31\",\"2020-06-01\",\"2020-06-02\",\"2020-06-03\",\"2020-06-04\",\"2020-06-05\",\"2020-06-06\",\"2020-06-07\",\"2020-06-08\",\"2020-06-09\",\"2020-06-10\",\"2020-06-11\",\"2020-06-12\",\"2020-06-13\",\"2020-06-14\",\"2020-06-15\",\"2020-06-16\",\"2020-06-17\",\"2020-06-18\",\"2020-06-19\",\"2020-06-20\",\"2020-06-21\",\"2020-06-22\",\"2020-06-23\",\"2020-06-24\",\"2020-06-25\",\"2020-06-26\",\"2020-06-27\",\"2020-06-28\",\"2020-06-29\",\"2020-06-30\",\"2020-07-01\",\"2020-07-02\",\"2020-07-03\",\"2020-07-04\",\"2020-07-05\",\"2020-07-06\",\"2020-07-07\",\"2020-07-08\",\"2020-07-09\",\"2020-07-10\",\"2020-07-11\",\"2020-07-12\",\"2020-07-13\",\"2020-07-14\",\"2020-07-15\",\"2020-07-16\",\"2020-07-17\",\"2020-07-18\",\"2020-07-19\",\"2020-07-20\",\"2020-07-21\",\"2020-07-22\",\"2020-07-23\",\"2020-07-24\",\"2020-07-25\",\"2020-07-26\",\"2020-07-27\",\"2020-07-28\",\"2020-07-29\",\"2020-07-30\",\"2020-07-31\",\"2020-08-01\",\"2020-08-02\",\"2020-08-03\",\"2020-08-04\",\"2020-08-05\",\"2020-08-06\",\"2020-08-07\",\"2020-08-08\",\"2020-08-09\",\"2020-08-10\",\"2020-08-11\",\"2020-08-12\",\"2020-08-13\",\"2020-08-14\",\"2020-08-15\",\"2020-08-16\",\"2020-08-17\",\"2020-08-18\",\"2020-08-19\",\"2020-08-20\",\"2020-08-21\",\"2020-08-22\",\"2020-08-23\",\"2020-08-24\",\"2020-08-25\",\"2020-08-26\",\"2020-08-27\",\"2020-08-28\",\"2020-08-29\",\"2020-08-30\",\"2020-08-31\",\"2020-09-01\",\"2020-09-02\",\"2020-09-03\",\"2020-09-04\",\"2020-09-05\",\"2020-09-06\",\"2020-09-07\",\"2020-09-08\",\"2020-09-09\",\"2020-09-10\",\"2020-09-11\",\"2020-09-12\",\"2020-09-13\",\"2020-09-14\",\"2020-09-15\",\"2020-09-16\",\"2020-09-17\",\"2020-09-18\",\"2020-09-19\",\"2020-09-20\",\"2020-09-21\",\"2020-09-22\",\"2020-09-23\",\"2020-09-24\",\"2020-09-25\",\"2020-09-26\",\"2020-09-27\",\"2020-09-28\",\"2020-09-29\",\"2020-09-30\",\"2020-10-01\",\"2020-10-02\",\"2020-10-03\",\"2020-10-04\",\"2020-10-05\",\"2020-10-06\",\"2020-10-07\",\"2020-10-08\",\"2020-10-09\",\"2020-10-10\",\"2020-10-11\",\"2020-10-12\",\"2020-10-13\",\"2020-10-14\",\"2020-10-15\",\"2020-10-16\",\"2020-10-17\",\"2020-10-18\",\"2020-10-19\",\"2020-10-20\",\"2020-10-21\",\"2020-10-22\",\"2020-10-23\",\"2020-10-24\",\"2020-10-25\",\"2020-10-26\",\"2020-10-27\",\"2020-10-28\",\"2020-10-29\",\"2020-10-30\",\"2020-10-31\",\"2020-11-01\",\"2020-11-02\",\"2020-11-03\"],\"value\":{\"__ndarray__\":\"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\",\"dtype\":\"float64\",\"order\":\"little\",\"shape\":[298]}},\"selected\":{\"id\":\"4582\"},\"selection_policy\":{\"id\":\"4596\"}},\"id\":\"4581\",\"type\":\"ColumnDataSource\"},{\"attributes\":{},\"id\":\"4558\",\"type\":\"CategoricalTicker\"},{\"attributes\":{},\"id\":\"4553\",\"type\":\"CategoricalScale\"},{\"attributes\":{\"axis\":{\"id\":\"4560\"},\"dimension\":1,\"grid_line_color\":null,\"ticker\":null},\"id\":\"4563\",\"type\":\"Grid\"},{\"attributes\":{\"data_source\":{\"id\":\"4581\"},\"glyph\":{\"id\":\"4584\"},\"hover_glyph\":null,\"muted_glyph\":{\"id\":\"4586\"},\"nonselection_glyph\":{\"id\":\"4585\"},\"selection_glyph\":null,\"view\":{\"id\":\"4588\"}},\"id\":\"4587\",\"type\":\"GlyphRenderer\"},{\"attributes\":{\"fill_color\":{\"value\":\"#ff7e0e\"},\"line_color\":{\"value\":\"#ff7e0e\"},\"size\":{\"units\":\"screen\",\"value\":5.477225575051661},\"x\":{\"field\":\"index\"},\"y\":{\"field\":\"value\"}},\"id\":\"4602\",\"type\":\"Scatter\"},{\"attributes\":{},\"id\":\"4555\",\"type\":\"LinearScale\"},{\"attributes\":{},\"id\":\"4616\",\"type\":\"UnionRenderers\"},{\"attributes\":{\"fill_alpha\":{\"value\":0.1},\"fill_color\":{\"value\":\"#ff7e0e\"},\"line_alpha\":{\"value\":0.1},\"line_color\":{\"value\":\"#ff7e0e\"},\"size\":{\"units\":\"screen\",\"value\":5.477225575051661},\"x\":{\"field\":\"index\"},\"y\":{\"field\":\"value\"}},\"id\":\"4603\",\"type\":\"Scatter\"},{\"attributes\":{\"label\":{\"value\":\"New Cases\"},\"renderers\":[{\"id\":\"4587\"}]},\"id\":\"4598\",\"type\":\"LegendItem\"},{\"attributes\":{\"callback\":null,\"renderers\":[{\"id\":\"4587\"},{\"id\":\"4605\"},{\"id\":\"4624\"}],\"tags\":[\"hv_created\"],\"tooltips\":[[\"Variable\",\"@{Variable}\"],[\"index\",\"@{index}\"],[\"value\",\"@{value}\"]]},\"id\":\"4545\",\"type\":\"HoverTool\"},{\"attributes\":{\"axis\":{\"id\":\"4557\"},\"grid_line_color\":null,\"ticker\":null},\"id\":\"4559\",\"type\":\"Grid\"},{\"attributes\":{\"data_source\":{\"id\":\"4599\"},\"glyph\":{\"id\":\"4602\"},\"hover_glyph\":null,\"muted_glyph\":{\"id\":\"4604\"},\"nonselection_glyph\":{\"id\":\"4603\"},\"selection_glyph\":null,\"view\":{\"id\":\"4606\"}},\"id\":\"4605\",\"type\":\"GlyphRenderer\"},{\"attributes\":{\"fill_alpha\":{\"value\":0.2},\"fill_color\":{\"value\":\"#1f77b3\"},\"line_alpha\":{\"value\":0.2},\"line_color\":{\"value\":\"#1f77b3\"},\"size\":{\"units\":\"screen\",\"value\":5.477225575051661},\"x\":{\"field\":\"index\"},\"y\":{\"field\":\"value\"}},\"id\":\"4586\",\"type\":\"Scatter\"},{\"attributes\":{\"fill_alpha\":{\"value\":0.2},\"fill_color\":{\"value\":\"#ff7e0e\"},\"line_alpha\":{\"value\":0.2},\"line_color\":{\"value\":\"#ff7e0e\"},\"size\":{\"units\":\"screen\",\"value\":5.477225575051661},\"x\":{\"field\":\"index\"},\"y\":{\"field\":\"value\"}},\"id\":\"4604\",\"type\":\"Scatter\"},{\"attributes\":{\"data\":{\"Variable\":[\"Total Paid CAD\",\"Total Paid CAD\",\"Total Paid CAD\",\"Total Paid CAD\",\"Total Paid CAD\",\"Total Paid CAD\",\"Total Paid CAD\",\"Total Paid CAD\",\"Total Paid CAD\",\"Total Paid CAD\",\"Total Paid CAD\",\"Total Paid CAD\",\"Total Paid CAD\",\"Total Paid CAD\",\"Total Paid CAD\",\"Total Paid CAD\",\"Total Paid CAD\",\"Total Paid CAD\",\"Total Paid CAD\",\"Total Paid CAD\",\"Total Paid CAD\",\"Total Paid CAD\",\"Total Paid CAD\",\"Total Paid CAD\",\"Total Paid CAD\",\"Total Paid CAD\",\"Total Paid CAD\",\"Total Paid CAD\",\"Total Paid CAD\",\"Total Paid CAD\",\"Total Paid CAD\",\"Total Paid CAD\",\"Total Paid CAD\",\"Total Paid CAD\",\"Total Paid CAD\",\"Total Paid CAD\",\"Total Paid CAD\",\"Total Paid CAD\",\"Total Paid CAD\",\"Total Paid CAD\",\"Total Paid CAD\",\"Total Paid CAD\",\"Total Paid CAD\",\"Total Paid CAD\",\"Total Paid CAD\",\"Total Paid CAD\",\"Total Paid CAD\",\"Total Paid CAD\",\"Total Paid CAD\",\"Total Paid CAD\",\"Total Paid CAD\",\"Total Paid CAD\",\"Total Paid CAD\",\"Total Paid CAD\",\"Total Paid CAD\",\"Total Paid CAD\",\"Total Paid CAD\",\"Total Paid CAD\",\"Total Paid CAD\",\"Total Paid CAD\",\"Total Paid CAD\",\"Total Paid CAD\",\"Total Paid CAD\",\"Total Paid CAD\",\"Total Paid CAD\",\"Total Paid CAD\",\"Total Paid CAD\",\"Total Paid CAD\",\"Total Paid CAD\",\"Total Paid CAD\",\"Total Paid CAD\",\"Total Paid CAD\",\"Total Paid CAD\",\"Total Paid CAD\",\"Total Paid CAD\",\"Total Paid CAD\",\"Total Paid CAD\",\"Total Paid CAD\",\"Total Paid CAD\",\"Total Paid CAD\",\"Total Paid CAD\",\"Total Paid CAD\",\"Total Paid CAD\",\"Total Paid CAD\",\"Total Paid CAD\",\"Total Paid CAD\",\"Total Paid CAD\",\"Total Paid CAD\",\"Total Paid CAD\",\"Total Paid CAD\",\"Total Paid CAD\",\"Total Paid CAD\",\"Total Paid CAD\",\"Total Paid CAD\",\"Total Paid CAD\",\"Total Paid CAD\",\"Total Paid CAD\",\"Total Paid CAD\",\"Total Paid CAD\",\"Total Paid CAD\",\"Total Paid CAD\",\"Total Paid CAD\",\"Total Paid CAD\",\"Total Paid CAD\",\"Total Paid CAD\",\"Total Paid CAD\",\"Total Paid CAD\",\"Total Paid CAD\",\"Total Paid CAD\",\"Total Paid CAD\",\"Total Paid CAD\",\"Total Paid CAD\",\"Total Paid CAD\",\"Total Paid CAD\",\"Total Paid CAD\",\"Total Paid CAD\",\"Total Paid CAD\",\"Total Paid CAD\",\"Total Paid CAD\",\"Total Paid CAD\",\"Total Paid CAD\",\"Total Paid CAD\",\"Total Paid CAD\",\"Total Paid CAD\",\"Total Paid CAD\",\"Total Paid CAD\",\"Total Paid CAD\",\"Total Paid CAD\",\"Total Paid CAD\",\"Total Paid CAD\",\"Total Paid CAD\",\"Total Paid CAD\",\"Total Paid CAD\",\"Total Paid CAD\",\"Total Paid CAD\",\"Total Paid CAD\",\"Total Paid CAD\",\"Total Paid CAD\",\"Total Paid CAD\",\"Total Paid CAD\",\"Total Paid CAD\",\"Total Paid CAD\",\"Total Paid CAD\",\"Total Paid CAD\",\"Total Paid CAD\",\"Total Paid CAD\",\"Total Paid CAD\",\"Total Paid CAD\",\"Total Paid CAD\",\"Total Paid CAD\",\"Total Paid CAD\",\"Total Paid CAD\",\"Total Paid CAD\",\"Total Paid CAD\",\"Total Paid CAD\",\"Total Paid CAD\",\"Total Paid CAD\",\"Total Paid CAD\",\"Total Paid CAD\",\"Total Paid CAD\",\"Total Paid CAD\",\"Total Paid CAD\",\"Total Paid CAD\",\"Total Paid CAD\",\"Total Paid CAD\",\"Total Paid CAD\",\"Total Paid CAD\",\"Total Paid CAD\",\"Total Paid CAD\",\"Total Paid CAD\",\"Total Paid CAD\",\"Total Paid CAD\",\"Total Paid CAD\",\"Total Paid CAD\",\"Total Paid CAD\",\"Total Paid CAD\",\"Total Paid CAD\",\"Total Paid CAD\",\"Total Paid CAD\",\"Total Paid CAD\",\"Total Paid CAD\",\"Total Paid CAD\",\"Total Paid CAD\",\"Total Paid CAD\",\"Total Paid CAD\",\"Total Paid CAD\",\"Total Paid CAD\",\"Total Paid CAD\",\"Total Paid CAD\",\"Total Paid CAD\",\"Total Paid CAD\",\"Total Paid CAD\",\"Total Paid CAD\",\"Total Paid CAD\",\"Total Paid CAD\",\"Total Paid CAD\",\"Total Paid CAD\",\"Total Paid CAD\",\"Total Paid CAD\",\"Total Paid CAD\",\"Total Paid CAD\",\"Total Paid CAD\",\"Total Paid CAD\",\"Total Paid CAD\",\"Total Paid CAD\",\"Total Paid CAD\",\"Total Paid CAD\",\"Total Paid CAD\",\"Total Paid CAD\",\"Total Paid CAD\",\"Total Paid CAD\",\"Total Paid CAD\",\"Total Paid CAD\",\"Total Paid CAD\",\"Total Paid CAD\",\"Total Paid CAD\",\"Total Paid CAD\",\"Total Paid CAD\",\"Total Paid CAD\",\"Total Paid CAD\",\"Total Paid CAD\",\"Total Paid CAD\",\"Total Paid CAD\",\"Total Paid CAD\",\"Total Paid CAD\",\"Total Paid CAD\",\"Total Paid CAD\",\"Total Paid CAD\",\"Total Paid CAD\",\"Total Paid CAD\",\"Total Paid CAD\",\"Total Paid CAD\",\"Total Paid CAD\",\"Total Paid CAD\",\"Total Paid CAD\",\"Total Paid CAD\",\"Total Paid CAD\",\"Total Paid CAD\",\"Total Paid CAD\",\"Total Paid CAD\",\"Total Paid CAD\",\"Total Paid CAD\",\"Total Paid CAD\",\"Total Paid CAD\",\"Total Paid CAD\",\"Total Paid CAD\",\"Total Paid CAD\",\"Total Paid CAD\",\"Total Paid CAD\",\"Total Paid CAD\",\"Total Paid CAD\",\"Total Paid CAD\",\"Total Paid CAD\",\"Total Paid CAD\",\"Total Paid CAD\",\"Total Paid CAD\",\"Total Paid CAD\",\"Total Paid CAD\",\"Total Paid CAD\",\"Total Paid CAD\",\"Total Paid CAD\",\"Total Paid CAD\",\"Total Paid CAD\",\"Total Paid CAD\",\"Total Paid CAD\",\"Total Paid CAD\",\"Total Paid CAD\",\"Total Paid CAD\",\"Total Paid CAD\",\"Total Paid CAD\",\"Total Paid CAD\",\"Total Paid CAD\",\"Total Paid CAD\",\"Total Paid CAD\",\"Total Paid CAD\",\"Total Paid CAD\",\"Total Paid CAD\",\"Total Paid CAD\",\"Total Paid CAD\",\"Total Paid CAD\",\"Total Paid CAD\",\"Total Paid CAD\",\"Total Paid CAD\",\"Total Paid CAD\",\"Total Paid CAD\",\"Total Paid CAD\",\"Total Paid CAD\",\"Total Paid CAD\",\"Total Paid CAD\",\"Total Paid CAD\",\"Total Paid CAD\",\"Total Paid CAD\",\"Total Paid CAD\",\"Total Paid CAD\",\"Total Paid CAD\",\"Total Paid CAD\",\"Total Paid CAD\",\"Total Paid CAD\"],\"index\":[\"2020-01-01\",\"2020-01-02\",\"2020-01-03\",\"2020-01-06\",\"2020-01-07\",\"2020-01-08\",\"2020-01-09\",\"2020-01-10\",\"2020-01-13\",\"2020-01-14\",\"2020-01-15\",\"2020-01-16\",\"2020-01-17\",\"2020-01-20\",\"2020-01-21\",\"2020-01-22\",\"2020-01-23\",\"2020-01-24\",\"2020-01-27\",\"2020-01-28\",\"2020-01-29\",\"2020-01-30\",\"2020-01-31\",\"2020-02-01\",\"2020-02-02\",\"2020-02-03\",\"2020-02-04\",\"2020-02-05\",\"2020-02-06\",\"2020-02-07\",\"2020-02-10\",\"2020-02-11\",\"2020-02-12\",\"2020-02-13\",\"2020-02-14\",\"2020-02-15\",\"2020-02-16\",\"2020-02-17\",\"2020-02-18\",\"2020-02-19\",\"2020-02-20\",\"2020-02-21\",\"2020-02-22\",\"2020-02-23\",\"2020-02-24\",\"2020-02-25\",\"2020-02-26\",\"2020-02-27\",\"2020-02-28\",\"2020-02-29\",\"2020-03-01\",\"2020-03-02\",\"2020-03-03\",\"2020-03-04\",\"2020-03-05\",\"2020-03-06\",\"2020-03-07\",\"2020-03-08\",\"2020-03-09\",\"2020-03-10\",\"2020-03-11\",\"2020-03-12\",\"2020-03-13\",\"2020-03-14\",\"2020-03-15\",\"2020-03-16\",\"2020-03-17\",\"2020-03-18\",\"2020-03-19\",\"2020-03-20\",\"2020-03-21\",\"2020-03-22\",\"2020-03-23\",\"2020-03-24\",\"2020-03-25\",\"2020-03-26\",\"2020-03-27\",\"2020-03-28\",\"2020-03-29\",\"2020-03-30\",\"2020-03-31\",\"2020-04-01\",\"2020-04-02\",\"2020-04-03\",\"2020-04-04\",\"2020-04-05\",\"2020-04-06\",\"2020-04-07\",\"2020-04-08\",\"2020-04-09\",\"2020-04-10\",\"2020-04-11\",\"2020-04-12\",\"2020-04-13\",\"2020-04-14\",\"2020-04-15\",\"2020-04-16\",\"2020-04-17\",\"2020-04-18\",\"2020-04-19\",\"2020-04-20\",\"2020-04-21\",\"2020-04-22\",\"2020-04-23\",\"2020-04-24\",\"2020-04-25\",\"2020-04-26\",\"2020-04-27\",\"2020-04-28\",\"2020-04-29\",\"2020-04-30\",\"2020-05-01\",\"2020-05-02\",\"2020-05-03\",\"2020-05-04\",\"2020-05-05\",\"2020-05-06\",\"2020-05-07\",\"2020-05-08\",\"2020-05-09\",\"2020-05-10\",\"2020-05-11\",\"2020-05-12\",\"2020-05-13\",\"2020-05-14\",\"2020-05-15\",\"2020-05-16\",\"2020-05-17\",\"2020-05-18\",\"2020-05-19\",\"2020-05-20\",\"2020-05-21\",\"2020-05-22\",\"2020-05-23\",\"2020-05-24\",\"2020-05-25\",\"2020-05-26\",\"2020-05-27\",\"2020-05-28\",\"2020-05-29\",\"2020-05-30\",\"2020-05-31\",\"2020-06-01\",\"2020-06-02\",\"2020-06-03\",\"2020-06-04\",\"2020-06-05\",\"2020-06-06\",\"2020-06-07\",\"2020-06-08\",\"2020-06-09\",\"2020-06-10\",\"2020-06-11\",\"2020-06-12\",\"2020-06-13\",\"2020-06-14\",\"2020-06-15\",\"2020-06-16\",\"2020-06-17\",\"2020-06-18\",\"2020-06-19\",\"2020-06-20\",\"2020-06-21\",\"2020-06-22\",\"2020-06-23\",\"2020-06-24\",\"2020-06-25\",\"2020-06-26\",\"2020-06-27\",\"2020-06-28\",\"2020-06-29\",\"2020-06-30\",\"2020-07-01\",\"2020-07-02\",\"2020-07-03\",\"2020-07-04\",\"2020-07-05\",\"2020-07-06\",\"2020-07-07\",\"2020-07-08\",\"2020-07-09\",\"2020-07-10\",\"2020-07-11\",\"2020-07-12\",\"2020-07-13\",\"2020-07-14\",\"2020-07-15\",\"2020-07-16\",\"2020-07-17\",\"2020-07-18\",\"2020-07-19\",\"2020-07-20\",\"2020-07-21\",\"2020-07-22\",\"2020-07-23\",\"2020-07-24\",\"2020-07-25\",\"2020-07-26\",\"2020-07-27\",\"2020-07-28\",\"2020-07-29\",\"2020-07-30\",\"2020-07-31\",\"2020-08-01\",\"2020-08-02\",\"2020-08-03\",\"2020-08-04\",\"2020-08-05\",\"2020-08-06\",\"2020-08-07\",\"2020-08-08\",\"2020-08-09\",\"2020-08-10\",\"2020-08-11\",\"2020-08-12\",\"2020-08-13\",\"2020-08-14\",\"2020-08-15\",\"2020-08-16\",\"2020-08-17\",\"2020-08-18\",\"2020-08-19\",\"2020-08-20\",\"2020-08-21\",\"2020-08-22\",\"2020-08-23\",\"2020-08-24\",\"2020-08-25\",\"2020-08-26\",\"2020-08-27\",\"2020-08-28\",\"2020-08-29\",\"2020-08-30\",\"2020-08-31\",\"2020-09-01\",\"2020-09-02\",\"2020-09-03\",\"2020-09-04\",\"2020-09-05\",\"2020-09-06\",\"2020-09-07\",\"2020-09-08\",\"2020-09-09\",\"2020-09-10\",\"2020-09-11\",\"2020-09-12\",\"2020-09-13\",\"2020-09-14\",\"2020-09-15\",\"2020-09-16\",\"2020-09-17\",\"2020-09-18\",\"2020-09-19\",\"2020-09-20\",\"2020-09-21\",\"2020-09-22\",\"2020-09-23\",\"2020-09-24\",\"2020-09-25\",\"2020-09-26\",\"2020-09-27\",\"2020-09-28\",\"2020-09-29\",\"2020-09-30\",\"2020-10-01\",\"2020-10-02\",\"2020-10-03\",\"2020-10-04\",\"2020-10-05\",\"2020-10-06\",\"2020-10-07\",\"2020-10-08\",\"2020-10-09\",\"2020-10-10\",\"2020-10-11\",\"2020-10-12\",\"2020-10-13\",\"2020-10-14\",\"2020-10-15\",\"2020-10-16\",\"2020-10-17\",\"2020-10-18\",\"2020-10-19\",\"2020-10-20\",\"2020-10-21\",\"2020-10-22\",\"2020-10-23\",\"2020-10-24\",\"2020-10-25\",\"2020-10-26\",\"2020-10-27\",\"2020-10-28\",\"2020-10-29\",\"2020-10-30\",\"2020-10-31\",\"2020-11-01\",\"2020-11-02\",\"2020-11-03\"],\"value\":{\"__ndarray__\":\"AAAAAAAA+H8AAAAAAAD4fwAAAAAAAPh/AAAAAAAA+H8AAAAAAAD4fwAAAAAAAPh/AAAAAAAA+H8AAAAAAAD4fwAAAAAAAPh/AAAAAAAA+H8AAAAAAAD4fwAAAAAAAPh/AAAAAAAA+H8AAAAAAAD4fwAAAAAAAPh/AAAAAAAA+H8AAAAAAAD4fwAAAAAAAPh/AAAAAAAA+H8AAAAAAAD4fwAAAAAAAPh/AAAAAAAA+H8AAAAAAAD4fwAAAAAAAPh/AAAAAAAA+H8AAAAAAAD4fwAAAAAAAPh/AAAAAAAA+H8AAAAAAAD4fwAAAAAAAPh/AAAAAAAA+H8AAAAAAAD4fwAAAAAAAPh/AAAAAAAA+H8AAAAAAAD4fwAAAAAAAPh/AAAAAAAA+H8AAAAAAAD4fwAAAAAAAPh/AAAAAAAA+H8AAAAAAAD4fwAAAAAAAPh/AAAAAAAA+H8AAAAAAAD4fwAAAAAAAPh/AAAAAAAA+H8AAAAAAAD4fwAAAAAAAPh/AAAAAAAA+H8AAAAAAAD4fwAAAAAAAPh/AAAAAAAA+H8AAAAAAAD4fwAAAAAAAPh/AAAAAAAA+H8AAAAAAAD4fwAAAAAAAPh/AAAAAAAA+H8AAAAAAAD4fwAAAAAAAPh/AAAAAAAA+H8AAAAAAAD4fwAAAAAAAPh/AAAAAAAA+H8AAAAAAAD4fwAAAAAAAPh/AAAAAAAA+H8AAAAAAAD4fwAAAAAAAPh/AAAAAAAA+H8AAAAAAAD4fwAAAAAAAPh/AAAAAAAA+H8AAAAAAAD4fwAAAAAAAPh/AAAAAAAA+H8AAAAAAAD4fwAAAAAAAPh/AAAAAAAA+H8AAAAAAAD4fwAAAAAAAPh/AAAAAAAA+H8AAAAAAAD4fwAAAAAAAPh/AAAAAAAA+H8AAAAAAAD4fwAAAAAAAPh/AAAAAAAA+H8AAAAAAAD4fwAAAAAAAPh/AAAAAAAA+H8AAAAAAAD4fwAAAAAAAPh/AAAAAAAA+H8AAAAAAAD4fwAAAAAAAPh/AAAAAAAA+H/hehSuR8FoQAAAAAAAAPh/AAAAAAAA+H8AAAAAAAD4fwAAAAAAAPh/AAAAAAAA+H8AAAAAAAD4fwAAAAAAUG5AAAAAAAAA+H8AAAAAAAD4fwAAAAAAAPh/AAAAAAAA+H8AAAAAAAD4fwAAAAAAAPh/AAAAAAAA+H8AAAAAAAD4fwAAAAAAAPh/AAAAAAAA+H8zMzMzM9txQAAAAAAAAPh/AAAAAAAA+H8AAAAAAAD4fwAAAAAAAPh/AAAAAAAA+H+F61G4Hg1zQAAAAAAAAPh/AAAAAAAA+H8AAAAAAAD4fwAAAAAAAPh/AAAAAAAA+H8AAAAAAAD4fwAAAAAAAPh/mpmZmZkBeEAAAAAAAAD4fwAAAAAAAPh/AAAAAAAA+H8AAAAAAAD4fwAAAAAAAPh/zczMzMw0eUAAAAAAAAD4fwAAAAAAAPh/AAAAAAAA+H8AAAAAAAD4fwAAAAAAAPh/AAAAAAAA+H8K16NwPZ56QAAAAAAAAPh/AAAAAAAA+H8AAAAAAAD4fwAAAAAAAPh/AAAAAAAA+H8AAAAAAAD4fwrXo3A95ntAAAAAAAAA+H8AAAAAAAD4fwAAAAAAAPh/AAAAAAAA+H8AAAAAAAD4fwAAAAAAAPh/ZmZmZmZmf0AAAAAAAAD4fwAAAAAAAPh/AAAAAAAA+H8AAAAAAAD4fwAAAAAAAPh/AAAAAAAA+H/sUbgehUuAQAAAAAAAAPh/AAAAAAAA+H8AAAAAAAD4fwAAAAAAAPh/AAAAAAAA+H8AAAAAAAD4fwrXo3A9uoBAAAAAAAAA+H8AAAAAAAD4fwAAAAAAAPh/AAAAAAAA+H8AAAAAAAD4fwAAAAAAAPh/KVyPwvUegUAAAAAAAAD4fwAAAAAAAPh/AAAAAAAA+H8AAAAAAAD4fwAAAAAAAPh/AAAAAAAA+H8pXI/C9ZCCQAAAAAAAAPh/AAAAAAAA+H8AAAAAAAD4fwAAAAAAAPh/AAAAAAAA+H8AAAAAAAD4f83MzMzMJINAAAAAAAAA+H8AAAAAAAD4fwAAAAAAAPh/AAAAAAAA+H8AAAAAAAD4fwAAAAAAAPh/AAAAAACcg0AAAAAAAAD4fwAAAAAAAPh/AAAAAAAA+H8AAAAAAAD4fwAAAAAAAPh/AAAAAAAA+H/NzMzMzBSEQAAAAAAAAPh/AAAAAAAA+H8AAAAAAAD4fwAAAAAAAPh/AAAAAAAA+H8AAAAAAAD4f83MzMzMZIVAAAAAAAAA+H8AAAAAAAD4fwAAAAAAAPh/AAAAAAAA+H8AAAAAAAD4fwAAAAAAAPh/ZmZmZmbihUAAAAAAAAD4fwAAAAAAAPh/AAAAAAAA+H8AAAAAAAD4fwAAAAAAAPh/AAAAAAAA+H8AAAAAAESGQAAAAAAAAPh/AAAAAAAA+H8AAAAAAAD4fwAAAAAAAPh/AAAAAAAA+H8AAAAAAAD4fwAAAAAArIZAAAAAAAAA+H8AAAAAAAD4fwAAAAAAAPh/AAAAAAAA+H8AAAAAAAD4fwAAAAAAAPh/ZmZmZmbih0AAAAAAAAD4fwAAAAAAAPh/AAAAAAAA+H8AAAAAAAD4fwAAAAAAAPh/AAAAAAAA+H8zMzMzM1+IQAAAAAAAAPh/AAAAAAAA+H8AAAAAAAD4fwAAAAAAAPh/AAAAAAAA+H8AAAAAAAD4fwAAAAAAyIhAAAAAAAAA+H8AAAAAAAD4fwAAAAAAAPh/AAAAAAAA+H8AAAAAAAD4fwAAAAAAAPh/mpmZmZkxiUAAAAAAAAD4fwAAAAAAAPh/AAAAAAAA+H8AAAAAAAD4fwAAAAAAAPh/AAAAAAAA+H8zMzMzM4OJQAAAAAAAAPh/AAAAAAAA+H8AAAAAAAD4fwAAAAAAAPh/AAAAAAAA+H8AAAAAAAD4fwAAAAAAAPh/AAAAAAAA+H8AAAAAAAD4fwAAAAAAAPh/AAAAAAAA+H8AAAAAAAD4fwAAAAAAAPh/AAAAAAAA+H8AAAAAAAD4fwAAAAAAAPh/AAAAAAAA+H8AAAAAAAD4fwAAAAAAAPh/AAAAAAAA+H8AAAAAAAD4fwAAAAAAAPh/AAAAAAAA+H8AAAAAAAD4fwAAAAAAAPh/AAAAAAAA+H8AAAAAAAD4fwAAAAAAAPh/AAAAAAAA+H8=\",\"dtype\":\"float64\",\"order\":\"little\",\"shape\":[298]}},\"selected\":{\"id\":\"4619\"},\"selection_policy\":{\"id\":\"4637\"}},\"id\":\"4618\",\"type\":\"ColumnDataSource\"},{\"attributes\":{},\"id\":\"4561\",\"type\":\"BasicTicker\"},{\"attributes\":{\"axis_label\":\"\",\"bounds\":\"auto\",\"formatter\":{\"id\":\"4580\"},\"major_label_orientation\":\"horizontal\",\"ticker\":{\"id\":\"4561\"}},\"id\":\"4560\",\"type\":\"LinearAxis\"},{\"attributes\":{},\"id\":\"4578\",\"type\":\"CategoricalTickFormatter\"},{\"attributes\":{},\"id\":\"4619\",\"type\":\"Selection\"},{\"attributes\":{\"margin\":[5,5,5,5],\"name\":\"HSpacer11947\",\"sizing_mode\":\"stretch_width\"},\"id\":\"4747\",\"type\":\"Spacer\"},{\"attributes\":{\"data\":{\"Variable\":[\"Price\",\"Price\",\"Price\",\"Price\",\"Price\",\"Price\",\"Price\",\"Price\",\"Price\",\"Price\",\"Price\",\"Price\",\"Price\",\"Price\",\"Price\",\"Price\",\"Price\",\"Price\",\"Price\",\"Price\",\"Price\",\"Price\",\"Price\",\"Price\",\"Price\",\"Price\",\"Price\",\"Price\",\"Price\",\"Price\",\"Price\",\"Price\",\"Price\",\"Price\",\"Price\",\"Price\",\"Price\",\"Price\",\"Price\",\"Price\",\"Price\",\"Price\",\"Price\",\"Price\",\"Price\",\"Price\",\"Price\",\"Price\",\"Price\",\"Price\",\"Price\",\"Price\",\"Price\",\"Price\",\"Price\",\"Price\",\"Price\",\"Price\",\"Price\",\"Price\",\"Price\",\"Price\",\"Price\",\"Price\",\"Price\",\"Price\",\"Price\",\"Price\",\"Price\",\"Price\",\"Price\",\"Price\",\"Price\",\"Price\",\"Price\",\"Price\",\"Price\",\"Price\",\"Price\",\"Price\",\"Price\",\"Price\",\"Price\",\"Price\",\"Price\",\"Price\",\"Price\",\"Price\",\"Price\",\"Price\",\"Price\",\"Price\",\"Price\",\"Price\",\"Price\",\"Price\",\"Price\",\"Price\",\"Price\",\"Price\",\"Price\",\"Price\",\"Price\",\"Price\",\"Price\",\"Price\",\"Price\",\"Price\",\"Price\",\"Price\",\"Price\",\"Price\",\"Price\",\"Price\",\"Price\",\"Price\",\"Price\",\"Price\",\"Price\",\"Price\",\"Price\",\"Price\",\"Price\",\"Price\",\"Price\",\"Price\",\"Price\",\"Price\",\"Price\",\"Price\",\"Price\",\"Price\",\"Price\",\"Price\",\"Price\",\"Price\",\"Price\",\"Price\",\"Price\",\"Price\",\"Price\",\"Price\",\"Price\",\"Price\",\"Price\",\"Price\",\"Price\",\"Price\",\"Price\",\"Price\",\"Price\",\"Price\",\"Price\",\"Price\",\"Price\",\"Price\",\"Price\",\"Price\",\"Price\",\"Price\",\"Price\",\"Price\",\"Price\",\"Price\",\"Price\",\"Price\",\"Price\",\"Price\",\"Price\",\"Price\",\"Price\",\"Price\",\"Price\",\"Price\",\"Price\",\"Price\",\"Price\",\"Price\",\"Price\",\"Price\",\"Price\",\"Price\",\"Price\",\"Price\",\"Price\",\"Price\",\"Price\",\"Price\",\"Price\",\"Price\",\"Price\",\"Price\",\"Price\",\"Price\",\"Price\",\"Price\",\"Price\",\"Price\",\"Price\",\"Price\",\"Price\",\"Price\",\"Price\",\"Price\",\"Price\",\"Price\",\"Price\",\"Price\",\"Price\",\"Price\",\"Price\",\"Price\",\"Price\",\"Price\",\"Price\",\"Price\",\"Price\",\"Price\",\"Price\",\"Price\",\"Price\",\"Price\",\"Price\",\"Price\",\"Price\",\"Price\",\"Price\",\"Price\",\"Price\",\"Price\",\"Price\",\"Price\",\"Price\",\"Price\",\"Price\",\"Price\",\"Price\",\"Price\",\"Price\",\"Price\",\"Price\",\"Price\",\"Price\",\"Price\",\"Price\",\"Price\",\"Price\",\"Price\",\"Price\",\"Price\",\"Price\",\"Price\",\"Price\",\"Price\",\"Price\",\"Price\",\"Price\",\"Price\",\"Price\",\"Price\",\"Price\",\"Price\",\"Price\",\"Price\",\"Price\",\"Price\",\"Price\",\"Price\",\"Price\",\"Price\",\"Price\",\"Price\",\"Price\",\"Price\",\"Price\",\"Price\",\"Price\",\"Price\",\"Price\",\"Price\",\"Price\",\"Price\",\"Price\",\"Price\",\"Price\",\"Price\",\"Price\",\"Price\",\"Price\",\"Price\",\"Price\",\"Price\",\"Price\",\"Price\",\"Price\",\"Price\",\"Price\",\"Price\"],\"index\":[\"2020-01-01\",\"2020-01-02\",\"2020-01-03\",\"2020-01-06\",\"2020-01-07\",\"2020-01-08\",\"2020-01-09\",\"2020-01-10\",\"2020-01-13\",\"2020-01-14\",\"2020-01-15\",\"2020-01-16\",\"2020-01-17\",\"2020-01-20\",\"2020-01-21\",\"2020-01-22\",\"2020-01-23\",\"2020-01-24\",\"2020-01-27\",\"2020-01-28\",\"2020-01-29\",\"2020-01-30\",\"2020-01-31\",\"2020-02-01\",\"2020-02-02\",\"2020-02-03\",\"2020-02-04\",\"2020-02-05\",\"2020-02-06\",\"2020-02-07\",\"2020-02-10\",\"2020-02-11\",\"2020-02-12\",\"2020-02-13\",\"2020-02-14\",\"2020-02-15\",\"2020-02-16\",\"2020-02-17\",\"2020-02-18\",\"2020-02-19\",\"2020-02-20\",\"2020-02-21\",\"2020-02-22\",\"2020-02-23\",\"2020-02-24\",\"2020-02-25\",\"2020-02-26\",\"2020-02-27\",\"2020-02-28\",\"2020-02-29\",\"2020-03-01\",\"2020-03-02\",\"2020-03-03\",\"2020-03-04\",\"2020-03-05\",\"2020-03-06\",\"2020-03-07\",\"2020-03-08\",\"2020-03-09\",\"2020-03-10\",\"2020-03-11\",\"2020-03-12\",\"2020-03-13\",\"2020-03-14\",\"2020-03-15\",\"2020-03-16\",\"2020-03-17\",\"2020-03-18\",\"2020-03-19\",\"2020-03-20\",\"2020-03-21\",\"2020-03-22\",\"2020-03-23\",\"2020-03-24\",\"2020-03-25\",\"2020-03-26\",\"2020-03-27\",\"2020-03-28\",\"2020-03-29\",\"2020-03-30\",\"2020-03-31\",\"2020-04-01\",\"2020-04-02\",\"2020-04-03\",\"2020-04-04\",\"2020-04-05\",\"2020-04-06\",\"2020-04-07\",\"2020-04-08\",\"2020-04-09\",\"2020-04-10\",\"2020-04-11\",\"2020-04-12\",\"2020-04-13\",\"2020-04-14\",\"2020-04-15\",\"2020-04-16\",\"2020-04-17\",\"2020-04-18\",\"2020-04-19\",\"2020-04-20\",\"2020-04-21\",\"2020-04-22\",\"2020-04-23\",\"2020-04-24\",\"2020-04-25\",\"2020-04-26\",\"2020-04-27\",\"2020-04-28\",\"2020-04-29\",\"2020-04-30\",\"2020-05-01\",\"2020-05-02\",\"2020-05-03\",\"2020-05-04\",\"2020-05-05\",\"2020-05-06\",\"2020-05-07\",\"2020-05-08\",\"2020-05-09\",\"2020-05-10\",\"2020-05-11\",\"2020-05-12\",\"2020-05-13\",\"2020-05-14\",\"2020-05-15\",\"2020-05-16\",\"2020-05-17\",\"2020-05-18\",\"2020-05-19\",\"2020-05-20\",\"2020-05-21\",\"2020-05-22\",\"2020-05-23\",\"2020-05-24\",\"2020-05-25\",\"2020-05-26\",\"2020-05-27\",\"2020-05-28\",\"2020-05-29\",\"2020-05-30\",\"2020-05-31\",\"2020-06-01\",\"2020-06-02\",\"2020-06-03\",\"2020-06-04\",\"2020-06-05\",\"2020-06-06\",\"2020-06-07\",\"2020-06-08\",\"2020-06-09\",\"2020-06-10\",\"2020-06-11\",\"2020-06-12\",\"2020-06-13\",\"2020-06-14\",\"2020-06-15\",\"2020-06-16\",\"2020-06-17\",\"2020-06-18\",\"2020-06-19\",\"2020-06-20\",\"2020-06-21\",\"2020-06-22\",\"2020-06-23\",\"2020-06-24\",\"2020-06-25\",\"2020-06-26\",\"2020-06-27\",\"2020-06-28\",\"2020-06-29\",\"2020-06-30\",\"2020-07-01\",\"2020-07-02\",\"2020-07-03\",\"2020-07-04\",\"2020-07-05\",\"2020-07-06\",\"2020-07-07\",\"2020-07-08\",\"2020-07-09\",\"2020-07-10\",\"2020-07-11\",\"2020-07-12\",\"2020-07-13\",\"2020-07-14\",\"2020-07-15\",\"2020-07-16\",\"2020-07-17\",\"2020-07-18\",\"2020-07-19\",\"2020-07-20\",\"2020-07-21\",\"2020-07-22\",\"2020-07-23\",\"2020-07-24\",\"2020-07-25\",\"2020-07-26\",\"2020-07-27\",\"2020-07-28\",\"2020-07-29\",\"2020-07-30\",\"2020-07-31\",\"2020-08-01\",\"2020-08-02\",\"2020-08-03\",\"2020-08-04\",\"2020-08-05\",\"2020-08-06\",\"2020-08-07\",\"2020-08-08\",\"2020-08-09\",\"2020-08-10\",\"2020-08-11\",\"2020-08-12\",\"2020-08-13\",\"2020-08-14\",\"2020-08-15\",\"2020-08-16\",\"2020-08-17\",\"2020-08-18\",\"2020-08-19\",\"2020-08-20\",\"2020-08-21\",\"2020-08-22\",\"2020-08-23\",\"2020-08-24\",\"2020-08-25\",\"2020-08-26\",\"2020-08-27\",\"2020-08-28\",\"2020-08-29\",\"2020-08-30\",\"2020-08-31\",\"2020-09-01\",\"2020-09-02\",\"2020-09-03\",\"2020-09-04\",\"2020-09-05\",\"2020-09-06\",\"2020-09-07\",\"2020-09-08\",\"2020-09-09\",\"2020-09-10\",\"2020-09-11\",\"2020-09-12\",\"2020-09-13\",\"2020-09-14\",\"2020-09-15\",\"2020-09-16\",\"2020-09-17\",\"2020-09-18\",\"2020-09-19\",\"2020-09-20\",\"2020-09-21\",\"2020-09-22\",\"2020-09-23\",\"2020-09-24\",\"2020-09-25\",\"2020-09-26\",\"2020-09-27\",\"2020-09-28\",\"2020-09-29\",\"2020-09-30\",\"2020-10-01\",\"2020-10-02\",\"2020-10-03\",\"2020-10-04\",\"2020-10-05\",\"2020-10-06\",\"2020-10-07\",\"2020-10-08\",\"2020-10-09\",\"2020-10-10\",\"2020-10-11\",\"2020-10-12\",\"2020-10-13\",\"2020-10-14\",\"2020-10-15\",\"2020-10-16\",\"2020-10-17\",\"2020-10-18\",\"2020-10-19\",\"2020-10-20\",\"2020-10-21\",\"2020-10-22\",\"2020-10-23\",\"2020-10-24\",\"2020-10-25\",\"2020-10-26\",\"2020-10-27\",\"2020-10-28\",\"2020-10-29\",\"2020-10-30\",\"2020-10-31\",\"2020-11-01\",\"2020-11-02\",\"2020-11-03\"],\"value\":{\"__ndarray__\":\"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\",\"dtype\":\"float64\",\"order\":\"little\",\"shape\":[298]}},\"selected\":{\"id\":\"4600\"},\"selection_policy\":{\"id\":\"4616\"}},\"id\":\"4599\",\"type\":\"ColumnDataSource\"},{\"attributes\":{},\"id\":\"4600\",\"type\":\"Selection\"},{\"attributes\":{},\"id\":\"4637\",\"type\":\"UnionRenderers\"},{\"attributes\":{\"label\":{\"value\":\"Price\"},\"renderers\":[{\"id\":\"4605\"}]},\"id\":\"4617\",\"type\":\"LegendItem\"},{\"attributes\":{\"bottom_units\":\"screen\",\"fill_alpha\":0.5,\"fill_color\":\"lightgrey\",\"left_units\":\"screen\",\"level\":\"overlay\",\"line_alpha\":1.0,\"line_color\":\"black\",\"line_dash\":[4,4],\"line_width\":2,\"right_units\":\"screen\",\"top_units\":\"screen\"},\"id\":\"4569\",\"type\":\"BoxAnnotation\"},{\"attributes\":{\"factors\":[\"2020-01-01\",\"2020-01-02\",\"2020-01-03\",\"2020-01-06\",\"2020-01-07\",\"2020-01-08\",\"2020-01-09\",\"2020-01-10\",\"2020-01-13\",\"2020-01-14\",\"2020-01-15\",\"2020-01-16\",\"2020-01-17\",\"2020-01-20\",\"2020-01-21\",\"2020-01-22\",\"2020-01-23\",\"2020-01-24\",\"2020-01-27\",\"2020-01-28\",\"2020-01-29\",\"2020-01-30\",\"2020-01-31\",\"2020-02-01\",\"2020-02-02\",\"2020-02-03\",\"2020-02-04\",\"2020-02-05\",\"2020-02-06\",\"2020-02-07\",\"2020-02-10\",\"2020-02-11\",\"2020-02-12\",\"2020-02-13\",\"2020-02-14\",\"2020-02-15\",\"2020-02-16\",\"2020-02-17\",\"2020-02-18\",\"2020-02-19\",\"2020-02-20\",\"2020-02-21\",\"2020-02-22\",\"2020-02-23\",\"2020-02-24\",\"2020-02-25\",\"2020-02-26\",\"2020-02-27\",\"2020-02-28\",\"2020-02-29\",\"2020-03-01\",\"2020-03-02\",\"2020-03-03\",\"2020-03-04\",\"2020-03-05\",\"2020-03-06\",\"2020-03-07\",\"2020-03-08\",\"2020-03-09\",\"2020-03-10\",\"2020-03-11\",\"2020-03-12\",\"2020-03-13\",\"2020-03-14\",\"2020-03-15\",\"2020-03-16\",\"2020-03-17\",\"2020-03-18\",\"2020-03-19\",\"2020-03-20\",\"2020-03-21\",\"2020-03-22\",\"2020-03-23\",\"2020-03-24\",\"2020-03-25\",\"2020-03-26\",\"2020-03-27\",\"2020-03-28\",\"2020-03-29\",\"2020-03-30\",\"2020-03-31\",\"2020-04-01\",\"2020-04-02\",\"2020-04-03\",\"2020-04-04\",\"2020-04-05\",\"2020-04-06\",\"2020-04-07\",\"2020-04-08\",\"2020-04-09\",\"2020-04-10\",\"2020-04-11\",\"2020-04-12\",\"2020-04-13\",\"2020-04-14\",\"2020-04-15\",\"2020-04-16\",\"2020-04-17\",\"2020-04-18\",\"2020-04-19\",\"2020-04-20\",\"2020-04-21\",\"2020-04-22\",\"2020-04-23\",\"2020-04-24\",\"2020-04-25\",\"2020-04-26\",\"2020-04-27\",\"2020-04-28\",\"2020-04-29\",\"2020-04-30\",\"2020-05-01\",\"2020-05-02\",\"2020-05-03\",\"2020-05-04\",\"2020-05-05\",\"2020-05-06\",\"2020-05-07\",\"2020-05-08\",\"2020-05-09\",\"2020-05-10\",\"2020-05-11\",\"2020-05-12\",\"2020-05-13\",\"2020-05-14\",\"2020-05-15\",\"2020-05-16\",\"2020-05-17\",\"2020-05-18\",\"2020-05-19\",\"2020-05-20\",\"2020-05-21\",\"2020-05-22\",\"2020-05-23\",\"2020-05-24\",\"2020-05-25\",\"2020-05-26\",\"2020-05-27\",\"2020-05-28\",\"2020-05-29\",\"2020-05-30\",\"2020-05-31\",\"2020-06-01\",\"2020-06-02\",\"2020-06-03\",\"2020-06-04\",\"2020-06-05\",\"2020-06-06\",\"2020-06-07\",\"2020-06-08\",\"2020-06-09\",\"2020-06-10\",\"2020-06-11\",\"2020-06-12\",\"2020-06-13\",\"2020-06-14\",\"2020-06-15\",\"2020-06-16\",\"2020-06-17\",\"2020-06-18\",\"2020-06-19\",\"2020-06-20\",\"2020-06-21\",\"2020-06-22\",\"2020-06-23\",\"2020-06-24\",\"2020-06-25\",\"2020-06-26\",\"2020-06-27\",\"2020-06-28\",\"2020-06-29\",\"2020-06-30\",\"2020-07-01\",\"2020-07-02\",\"2020-07-03\",\"2020-07-04\",\"2020-07-05\",\"2020-07-06\",\"2020-07-07\",\"2020-07-08\",\"2020-07-09\",\"2020-07-10\",\"2020-07-11\",\"2020-07-12\",\"2020-07-13\",\"2020-07-14\",\"2020-07-15\",\"2020-07-16\",\"2020-07-17\",\"2020-07-18\",\"2020-07-19\",\"2020-07-20\",\"2020-07-21\",\"2020-07-22\",\"2020-07-23\",\"2020-07-24\",\"2020-07-25\",\"2020-07-26\",\"2020-07-27\",\"2020-07-28\",\"2020-07-29\",\"2020-07-30\",\"2020-07-31\",\"2020-08-01\",\"2020-08-02\",\"2020-08-03\",\"2020-08-04\",\"2020-08-05\",\"2020-08-06\",\"2020-08-07\",\"2020-08-08\",\"2020-08-09\",\"2020-08-10\",\"2020-08-11\",\"2020-08-12\",\"2020-08-13\",\"2020-08-14\",\"2020-08-15\",\"2020-08-16\",\"2020-08-17\",\"2020-08-18\",\"2020-08-19\",\"2020-08-20\",\"2020-08-21\",\"2020-08-22\",\"2020-08-23\",\"2020-08-24\",\"2020-08-25\",\"2020-08-26\",\"2020-08-27\",\"2020-08-28\",\"2020-08-29\",\"2020-08-30\",\"2020-08-31\",\"2020-09-01\",\"2020-09-02\",\"2020-09-03\",\"2020-09-04\",\"2020-09-05\",\"2020-09-06\",\"2020-09-07\",\"2020-09-08\",\"2020-09-09\",\"2020-09-10\",\"2020-09-11\",\"2020-09-12\",\"2020-09-13\",\"2020-09-14\",\"2020-09-15\",\"2020-09-16\",\"2020-09-17\",\"2020-09-18\",\"2020-09-19\",\"2020-09-20\",\"2020-09-21\",\"2020-09-22\",\"2020-09-23\",\"2020-09-24\",\"2020-09-25\",\"2020-09-26\",\"2020-09-27\",\"2020-09-28\",\"2020-09-29\",\"2020-09-30\",\"2020-10-01\",\"2020-10-02\",\"2020-10-03\",\"2020-10-04\",\"2020-10-05\",\"2020-10-06\",\"2020-10-07\",\"2020-10-08\",\"2020-10-09\",\"2020-10-10\",\"2020-10-11\",\"2020-10-12\",\"2020-10-13\",\"2020-10-14\",\"2020-10-15\",\"2020-10-16\",\"2020-10-17\",\"2020-10-18\",\"2020-10-19\",\"2020-10-20\",\"2020-10-21\",\"2020-10-22\",\"2020-10-23\",\"2020-10-24\",\"2020-10-25\",\"2020-10-26\",\"2020-10-27\",\"2020-10-28\",\"2020-10-29\",\"2020-10-30\",\"2020-10-31\",\"2020-11-01\",\"2020-11-02\",\"2020-11-03\"],\"tags\":[[[\"index\",\"index\",null]]]},\"id\":\"4543\",\"type\":\"FactorRange\"},{\"attributes\":{\"fill_alpha\":{\"value\":0.1},\"fill_color\":{\"value\":\"#1f77b3\"},\"line_alpha\":{\"value\":0.1},\"line_color\":{\"value\":\"#1f77b3\"},\"size\":{\"units\":\"screen\",\"value\":5.477225575051661},\"x\":{\"field\":\"index\"},\"y\":{\"field\":\"value\"}},\"id\":\"4585\",\"type\":\"Scatter\"},{\"attributes\":{\"source\":{\"id\":\"4599\"}},\"id\":\"4606\",\"type\":\"CDSView\"},{\"attributes\":{\"data_source\":{\"id\":\"4618\"},\"glyph\":{\"id\":\"4621\"},\"hover_glyph\":null,\"muted_glyph\":{\"id\":\"4623\"},\"nonselection_glyph\":{\"id\":\"4622\"},\"selection_glyph\":null,\"view\":{\"id\":\"4625\"}},\"id\":\"4624\",\"type\":\"GlyphRenderer\"},{\"attributes\":{\"fill_alpha\":{\"value\":0.2},\"fill_color\":{\"value\":\"#2ba02b\"},\"line_alpha\":{\"value\":0.2},\"line_color\":{\"value\":\"#2ba02b\"},\"size\":{\"units\":\"screen\",\"value\":5.477225575051661},\"x\":{\"field\":\"index\"},\"y\":{\"field\":\"value\"}},\"id\":\"4623\",\"type\":\"Scatter\"}],\"root_ids\":[\"4541\"]},\"title\":\"Bokeh Application\",\"version\":\"2.2.3\"}};\n",
       "  var render_items = [{\"docid\":\"8a3e184e-e775-49be-abe2-224bc424b0a1\",\"root_ids\":[\"4541\"],\"roots\":{\"4541\":\"704fe2b2-6dc9-4654-811f-4db3e3b2b578\"}}];\n",
       "  root.Bokeh.embed.embed_items_notebook(docs_json, render_items);\n",
       "  }\n",
       "if (root.Bokeh !== undefined) {\n",
       "    embed_document(root);\n",
       "  } else {\n",
       "    var attempts = 0;\n",
       "    var timer = setInterval(function(root) {\n",
       "      if (root.Bokeh !== undefined) {\n",
       "        clearInterval(timer);\n",
       "        embed_document(root);\n",
       "      } else if (document.readyState == \"complete\") {\n",
       "        attempts++;\n",
       "        if (attempts > 100) {\n",
       "          clearInterval(timer);\n",
       "          console.log(\"Bokeh: ERROR: Unable to run BokehJS code because BokehJS library is missing\");\n",
       "        }\n",
       "      }\n",
       "    }, 10, root)\n",
       "  }\n",
       "})(window);</script>"
      ],
      "text/plain": [
       ":NdOverlay   [Variable]\n",
       "   :Scatter   [index]   (value)"
      ]
     },
     "execution_count": 323,
     "metadata": {
      "application/vnd.holoviews_exec.v0+json": {
       "id": "4541"
      }
     },
     "output_type": "execute_result"
    }
   ],
   "source": [
    "joint_df.hvplot.scatter()"
   ]
  },
  {
   "cell_type": "code",
   "execution_count": 328,
   "metadata": {},
   "outputs": [],
   "source": [
    "tsx_covid_df = pd.concat([covid_df, tsx_df], axis=1, join='outer', sort=True)"
   ]
  },
  {
   "cell_type": "code",
   "execution_count": 329,
   "metadata": {},
   "outputs": [],
   "source": [
    "tsx_covid_df.dropna(inplace=True)"
   ]
  },
  {
   "cell_type": "code",
   "execution_count": 330,
   "metadata": {},
   "outputs": [
    {
     "data": {},
     "metadata": {},
     "output_type": "display_data"
    },
    {
     "data": {
      "application/vnd.holoviews_exec.v0+json": "",
      "text/html": [
       "<div id='5077'>\n",
       "\n",
       "\n",
       "\n",
       "\n",
       "\n",
       "  <div class=\"bk-root\" id=\"8775971c-0f03-4b50-ad77-64856b824f25\" data-root-id=\"5077\"></div>\n",
       "</div>\n",
       "<script type=\"application/javascript\">(function(root) {\n",
       "  function embed_document(root) {\n",
       "  var docs_json = {\"16b45be9-a6de-49b0-92dd-c056377fdca9\":{\"roots\":{\"references\":[{\"attributes\":{\"margin\":[5,5,5,5],\"name\":\"HSpacer13271\",\"sizing_mode\":\"stretch_width\"},\"id\":\"5243\",\"type\":\"Spacer\"},{\"attributes\":{\"axis\":{\"id\":\"5095\"},\"dimension\":1,\"grid_line_color\":null,\"ticker\":null},\"id\":\"5098\",\"type\":\"Grid\"},{\"attributes\":{\"end\":1176.1856666666667,\"reset_end\":1176.1856666666667,\"reset_start\":-106.56233333333334,\"start\":-106.56233333333334,\"tags\":[[[\"value\",\"value\",null]]]},\"id\":\"5080\",\"type\":\"Range1d\"},{\"attributes\":{},\"id\":\"5151\",\"type\":\"UnionRenderers\"},{\"attributes\":{},\"id\":\"5093\",\"type\":\"CategoricalTicker\"},{\"attributes\":{\"line_alpha\":0.2,\"line_color\":\"#ff7e0e\",\"line_width\":2,\"x\":{\"field\":\"index\"},\"y\":{\"field\":\"value\"}},\"id\":\"5139\",\"type\":\"Line\"},{\"attributes\":{},\"id\":\"5117\",\"type\":\"Selection\"},{\"attributes\":{\"children\":[{\"id\":\"5078\"},{\"id\":\"5083\"},{\"id\":\"5243\"}],\"margin\":[0,0,0,0],\"name\":\"Row13266\",\"tags\":[\"embedded\"]},\"id\":\"5077\",\"type\":\"Row\"},{\"attributes\":{\"axis\":{\"id\":\"5092\"},\"grid_line_color\":null,\"ticker\":null},\"id\":\"5094\",\"type\":\"Grid\"},{\"attributes\":{\"source\":{\"id\":\"5134\"}},\"id\":\"5141\",\"type\":\"CDSView\"},{\"attributes\":{},\"id\":\"5113\",\"type\":\"CategoricalTickFormatter\"},{\"attributes\":{\"callback\":null,\"renderers\":[{\"id\":\"5122\"},{\"id\":\"5140\"}],\"tags\":[\"hv_created\"],\"tooltips\":[[\"Variable\",\"@{Variable}\"],[\"index\",\"@{index}\"],[\"value\",\"@{value}\"]]},\"id\":\"5081\",\"type\":\"HoverTool\"},{\"attributes\":{\"label\":{\"value\":\"New Cases\"},\"renderers\":[{\"id\":\"5122\"}]},\"id\":\"5133\",\"type\":\"LegendItem\"},{\"attributes\":{},\"id\":\"5096\",\"type\":\"BasicTicker\"},{\"attributes\":{\"axis_label\":\"\",\"bounds\":\"auto\",\"formatter\":{\"id\":\"5115\"},\"major_label_orientation\":\"horizontal\",\"ticker\":{\"id\":\"5096\"}},\"id\":\"5095\",\"type\":\"LinearAxis\"},{\"attributes\":{\"data\":{\"Variable\":[\"New Cases\",\"New Cases\",\"New Cases\",\"New Cases\",\"New Cases\",\"New Cases\",\"New Cases\",\"New Cases\",\"New Cases\",\"New Cases\",\"New Cases\",\"New Cases\",\"New Cases\",\"New Cases\",\"New Cases\",\"New Cases\",\"New Cases\",\"New Cases\",\"New Cases\",\"New Cases\",\"New Cases\",\"New Cases\",\"New Cases\",\"New Cases\",\"New Cases\",\"New Cases\",\"New Cases\",\"New Cases\",\"New Cases\",\"New Cases\",\"New Cases\",\"New Cases\",\"New Cases\",\"New Cases\",\"New Cases\",\"New Cases\",\"New Cases\",\"New Cases\",\"New Cases\",\"New Cases\",\"New Cases\",\"New Cases\",\"New Cases\",\"New Cases\",\"New Cases\",\"New Cases\",\"New Cases\",\"New Cases\",\"New Cases\",\"New Cases\",\"New Cases\",\"New Cases\",\"New Cases\",\"New Cases\",\"New Cases\",\"New Cases\",\"New Cases\",\"New Cases\",\"New Cases\",\"New Cases\",\"New Cases\",\"New Cases\",\"New Cases\",\"New Cases\",\"New Cases\",\"New Cases\",\"New Cases\",\"New Cases\",\"New Cases\",\"New Cases\",\"New Cases\",\"New Cases\",\"New Cases\",\"New Cases\",\"New Cases\",\"New Cases\",\"New Cases\",\"New Cases\",\"New Cases\",\"New Cases\",\"New Cases\",\"New Cases\",\"New Cases\",\"New Cases\",\"New Cases\",\"New Cases\",\"New Cases\",\"New Cases\",\"New Cases\",\"New Cases\",\"New Cases\",\"New Cases\",\"New Cases\",\"New Cases\",\"New Cases\",\"New Cases\",\"New Cases\",\"New Cases\",\"New Cases\",\"New Cases\",\"New Cases\",\"New Cases\",\"New Cases\",\"New Cases\",\"New Cases\",\"New Cases\",\"New Cases\",\"New Cases\",\"New Cases\",\"New Cases\",\"New Cases\",\"New Cases\",\"New Cases\",\"New Cases\",\"New Cases\",\"New Cases\",\"New Cases\",\"New Cases\",\"New Cases\",\"New Cases\",\"New Cases\",\"New Cases\",\"New Cases\",\"New Cases\",\"New Cases\",\"New Cases\",\"New Cases\",\"New Cases\",\"New Cases\",\"New Cases\",\"New Cases\",\"New Cases\",\"New Cases\",\"New Cases\",\"New Cases\",\"New Cases\",\"New Cases\",\"New Cases\",\"New Cases\",\"New Cases\",\"New Cases\",\"New Cases\",\"New Cases\",\"New Cases\",\"New Cases\",\"New Cases\",\"New Cases\",\"New Cases\",\"New Cases\",\"New Cases\",\"New Cases\",\"New Cases\",\"New Cases\",\"New Cases\",\"New Cases\",\"New Cases\",\"New Cases\",\"New Cases\",\"New Cases\",\"New Cases\",\"New Cases\",\"New Cases\",\"New Cases\",\"New Cases\",\"New Cases\",\"New Cases\",\"New Cases\",\"New Cases\",\"New Cases\",\"New Cases\",\"New Cases\",\"New Cases\",\"New Cases\",\"New Cases\",\"New Cases\",\"New Cases\",\"New Cases\",\"New Cases\",\"New Cases\",\"New Cases\",\"New Cases\",\"New Cases\",\"New Cases\",\"New Cases\",\"New Cases\",\"New Cases\",\"New Cases\",\"New Cases\"],\"index\":[\"2020-01-10\",\"2020-01-16\",\"2020-01-21\",\"2020-01-22\",\"2020-01-24\",\"2020-01-31\",\"2020-02-05\",\"2020-02-07\",\"2020-02-10\",\"2020-02-11\",\"2020-02-14\",\"2020-02-19\",\"2020-02-20\",\"2020-02-21\",\"2020-02-24\",\"2020-02-25\",\"2020-02-26\",\"2020-02-27\",\"2020-02-28\",\"2020-03-02\",\"2020-03-03\",\"2020-03-04\",\"2020-03-05\",\"2020-03-06\",\"2020-03-09\",\"2020-03-10\",\"2020-03-11\",\"2020-03-12\",\"2020-03-13\",\"2020-03-16\",\"2020-03-17\",\"2020-03-18\",\"2020-03-19\",\"2020-03-20\",\"2020-03-23\",\"2020-03-24\",\"2020-03-25\",\"2020-03-26\",\"2020-03-27\",\"2020-03-30\",\"2020-03-31\",\"2020-04-01\",\"2020-04-02\",\"2020-04-03\",\"2020-04-06\",\"2020-04-07\",\"2020-04-08\",\"2020-04-09\",\"2020-04-13\",\"2020-04-14\",\"2020-04-15\",\"2020-04-16\",\"2020-04-17\",\"2020-04-20\",\"2020-04-21\",\"2020-04-22\",\"2020-04-23\",\"2020-04-24\",\"2020-04-27\",\"2020-04-28\",\"2020-04-29\",\"2020-04-30\",\"2020-05-01\",\"2020-05-04\",\"2020-05-05\",\"2020-05-06\",\"2020-05-07\",\"2020-05-08\",\"2020-05-11\",\"2020-05-12\",\"2020-05-13\",\"2020-05-14\",\"2020-05-15\",\"2020-05-19\",\"2020-05-20\",\"2020-05-21\",\"2020-05-22\",\"2020-05-25\",\"2020-05-26\",\"2020-05-27\",\"2020-05-28\",\"2020-05-29\",\"2020-06-01\",\"2020-06-02\",\"2020-06-03\",\"2020-06-04\",\"2020-06-05\",\"2020-06-08\",\"2020-06-09\",\"2020-06-10\",\"2020-06-11\",\"2020-06-12\",\"2020-06-15\",\"2020-06-16\",\"2020-06-17\",\"2020-06-18\",\"2020-06-19\",\"2020-06-22\",\"2020-06-23\",\"2020-06-24\",\"2020-06-25\",\"2020-06-26\",\"2020-06-29\",\"2020-06-30\",\"2020-07-02\",\"2020-07-03\",\"2020-07-06\",\"2020-07-07\",\"2020-07-08\",\"2020-07-09\",\"2020-07-10\",\"2020-07-13\",\"2020-07-14\",\"2020-07-15\",\"2020-07-16\",\"2020-07-17\",\"2020-07-20\",\"2020-07-21\",\"2020-07-22\",\"2020-07-23\",\"2020-07-24\",\"2020-07-27\",\"2020-07-28\",\"2020-07-29\",\"2020-07-30\",\"2020-07-31\",\"2020-08-04\",\"2020-08-05\",\"2020-08-06\",\"2020-08-07\",\"2020-08-10\",\"2020-08-11\",\"2020-08-12\",\"2020-08-13\",\"2020-08-14\",\"2020-08-17\",\"2020-08-18\",\"2020-08-19\",\"2020-08-20\",\"2020-08-21\",\"2020-08-24\",\"2020-08-25\",\"2020-08-26\",\"2020-08-27\",\"2020-08-28\",\"2020-08-31\",\"2020-09-01\",\"2020-09-02\",\"2020-09-03\",\"2020-09-04\",\"2020-09-08\",\"2020-09-09\",\"2020-09-10\",\"2020-09-11\",\"2020-09-14\",\"2020-09-15\",\"2020-09-16\",\"2020-09-17\",\"2020-09-18\",\"2020-09-21\",\"2020-09-22\",\"2020-09-23\",\"2020-09-24\",\"2020-09-25\",\"2020-09-28\",\"2020-09-29\",\"2020-09-30\",\"2020-10-01\",\"2020-10-02\",\"2020-10-05\",\"2020-10-06\",\"2020-10-07\",\"2020-10-08\",\"2020-10-09\",\"2020-10-13\",\"2020-10-14\",\"2020-10-15\",\"2020-10-16\",\"2020-10-19\",\"2020-10-20\",\"2020-10-21\",\"2020-10-22\",\"2020-10-23\",\"2020-10-26\",\"2020-10-27\",\"2020-10-28\",\"2020-10-29\",\"2020-10-30\"],\"value\":{\"__ndarray__\":\"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\",\"dtype\":\"float64\",\"order\":\"little\",\"shape\":[188]}},\"selected\":{\"id\":\"5117\"},\"selection_policy\":{\"id\":\"5131\"}},\"id\":\"5116\",\"type\":\"ColumnDataSource\"},{\"attributes\":{\"line_color\":\"#ff7e0e\",\"line_width\":2,\"x\":{\"field\":\"index\"},\"y\":{\"field\":\"value\"}},\"id\":\"5137\",\"type\":\"Line\"},{\"attributes\":{\"bottom_units\":\"screen\",\"fill_alpha\":0.5,\"fill_color\":\"lightgrey\",\"left_units\":\"screen\",\"level\":\"overlay\",\"line_alpha\":1.0,\"line_color\":\"black\",\"line_dash\":[4,4],\"line_width\":2,\"right_units\":\"screen\",\"top_units\":\"screen\"},\"id\":\"5104\",\"type\":\"BoxAnnotation\"},{\"attributes\":{\"data_source\":{\"id\":\"5134\"},\"glyph\":{\"id\":\"5137\"},\"hover_glyph\":null,\"muted_glyph\":{\"id\":\"5139\"},\"nonselection_glyph\":{\"id\":\"5138\"},\"selection_glyph\":null,\"view\":{\"id\":\"5141\"}},\"id\":\"5140\",\"type\":\"GlyphRenderer\"},{\"attributes\":{\"below\":[{\"id\":\"5092\"}],\"center\":[{\"id\":\"5094\"},{\"id\":\"5098\"}],\"left\":[{\"id\":\"5095\"}],\"margin\":null,\"min_border_bottom\":10,\"min_border_left\":10,\"min_border_right\":10,\"min_border_top\":10,\"plot_height\":300,\"plot_width\":700,\"renderers\":[{\"id\":\"5122\"},{\"id\":\"5140\"}],\"right\":[{\"id\":\"5132\"}],\"sizing_mode\":\"fixed\",\"title\":{\"id\":\"5084\"},\"toolbar\":{\"id\":\"5105\"},\"x_range\":{\"id\":\"5079\"},\"x_scale\":{\"id\":\"5088\"},\"y_range\":{\"id\":\"5080\"},\"y_scale\":{\"id\":\"5090\"}},\"id\":\"5083\",\"subtype\":\"Figure\",\"type\":\"Plot\"},{\"attributes\":{\"click_policy\":\"mute\",\"items\":[{\"id\":\"5133\"},{\"id\":\"5152\"}],\"location\":[0,0],\"title\":\"Variable\"},\"id\":\"5132\",\"type\":\"Legend\"},{\"attributes\":{\"label\":{\"value\":\"Price\"},\"renderers\":[{\"id\":\"5140\"}]},\"id\":\"5152\",\"type\":\"LegendItem\"},{\"attributes\":{\"active_drag\":\"auto\",\"active_inspect\":\"auto\",\"active_multi\":null,\"active_scroll\":\"auto\",\"active_tap\":\"auto\",\"tools\":[{\"id\":\"5081\"},{\"id\":\"5099\"},{\"id\":\"5100\"},{\"id\":\"5101\"},{\"id\":\"5102\"},{\"id\":\"5103\"}]},\"id\":\"5105\",\"type\":\"Toolbar\"},{\"attributes\":{},\"id\":\"5099\",\"type\":\"SaveTool\"},{\"attributes\":{},\"id\":\"5131\",\"type\":\"UnionRenderers\"},{\"attributes\":{\"margin\":[5,5,5,5],\"name\":\"HSpacer13270\",\"sizing_mode\":\"stretch_width\"},\"id\":\"5078\",\"type\":\"Spacer\"},{\"attributes\":{\"line_color\":\"#1f77b3\",\"line_width\":2,\"x\":{\"field\":\"index\"},\"y\":{\"field\":\"value\"}},\"id\":\"5119\",\"type\":\"Line\"},{\"attributes\":{\"data\":{\"Variable\":[\"Price\",\"Price\",\"Price\",\"Price\",\"Price\",\"Price\",\"Price\",\"Price\",\"Price\",\"Price\",\"Price\",\"Price\",\"Price\",\"Price\",\"Price\",\"Price\",\"Price\",\"Price\",\"Price\",\"Price\",\"Price\",\"Price\",\"Price\",\"Price\",\"Price\",\"Price\",\"Price\",\"Price\",\"Price\",\"Price\",\"Price\",\"Price\",\"Price\",\"Price\",\"Price\",\"Price\",\"Price\",\"Price\",\"Price\",\"Price\",\"Price\",\"Price\",\"Price\",\"Price\",\"Price\",\"Price\",\"Price\",\"Price\",\"Price\",\"Price\",\"Price\",\"Price\",\"Price\",\"Price\",\"Price\",\"Price\",\"Price\",\"Price\",\"Price\",\"Price\",\"Price\",\"Price\",\"Price\",\"Price\",\"Price\",\"Price\",\"Price\",\"Price\",\"Price\",\"Price\",\"Price\",\"Price\",\"Price\",\"Price\",\"Price\",\"Price\",\"Price\",\"Price\",\"Price\",\"Price\",\"Price\",\"Price\",\"Price\",\"Price\",\"Price\",\"Price\",\"Price\",\"Price\",\"Price\",\"Price\",\"Price\",\"Price\",\"Price\",\"Price\",\"Price\",\"Price\",\"Price\",\"Price\",\"Price\",\"Price\",\"Price\",\"Price\",\"Price\",\"Price\",\"Price\",\"Price\",\"Price\",\"Price\",\"Price\",\"Price\",\"Price\",\"Price\",\"Price\",\"Price\",\"Price\",\"Price\",\"Price\",\"Price\",\"Price\",\"Price\",\"Price\",\"Price\",\"Price\",\"Price\",\"Price\",\"Price\",\"Price\",\"Price\",\"Price\",\"Price\",\"Price\",\"Price\",\"Price\",\"Price\",\"Price\",\"Price\",\"Price\",\"Price\",\"Price\",\"Price\",\"Price\",\"Price\",\"Price\",\"Price\",\"Price\",\"Price\",\"Price\",\"Price\",\"Price\",\"Price\",\"Price\",\"Price\",\"Price\",\"Price\",\"Price\",\"Price\",\"Price\",\"Price\",\"Price\",\"Price\",\"Price\",\"Price\",\"Price\",\"Price\",\"Price\",\"Price\",\"Price\",\"Price\",\"Price\",\"Price\",\"Price\",\"Price\",\"Price\",\"Price\",\"Price\",\"Price\",\"Price\",\"Price\",\"Price\",\"Price\",\"Price\",\"Price\",\"Price\",\"Price\",\"Price\",\"Price\",\"Price\",\"Price\"],\"index\":[\"2020-01-10\",\"2020-01-16\",\"2020-01-21\",\"2020-01-22\",\"2020-01-24\",\"2020-01-31\",\"2020-02-05\",\"2020-02-07\",\"2020-02-10\",\"2020-02-11\",\"2020-02-14\",\"2020-02-19\",\"2020-02-20\",\"2020-02-21\",\"2020-02-24\",\"2020-02-25\",\"2020-02-26\",\"2020-02-27\",\"2020-02-28\",\"2020-03-02\",\"2020-03-03\",\"2020-03-04\",\"2020-03-05\",\"2020-03-06\",\"2020-03-09\",\"2020-03-10\",\"2020-03-11\",\"2020-03-12\",\"2020-03-13\",\"2020-03-16\",\"2020-03-17\",\"2020-03-18\",\"2020-03-19\",\"2020-03-20\",\"2020-03-23\",\"2020-03-24\",\"2020-03-25\",\"2020-03-26\",\"2020-03-27\",\"2020-03-30\",\"2020-03-31\",\"2020-04-01\",\"2020-04-02\",\"2020-04-03\",\"2020-04-06\",\"2020-04-07\",\"2020-04-08\",\"2020-04-09\",\"2020-04-13\",\"2020-04-14\",\"2020-04-15\",\"2020-04-16\",\"2020-04-17\",\"2020-04-20\",\"2020-04-21\",\"2020-04-22\",\"2020-04-23\",\"2020-04-24\",\"2020-04-27\",\"2020-04-28\",\"2020-04-29\",\"2020-04-30\",\"2020-05-01\",\"2020-05-04\",\"2020-05-05\",\"2020-05-06\",\"2020-05-07\",\"2020-05-08\",\"2020-05-11\",\"2020-05-12\",\"2020-05-13\",\"2020-05-14\",\"2020-05-15\",\"2020-05-19\",\"2020-05-20\",\"2020-05-21\",\"2020-05-22\",\"2020-05-25\",\"2020-05-26\",\"2020-05-27\",\"2020-05-28\",\"2020-05-29\",\"2020-06-01\",\"2020-06-02\",\"2020-06-03\",\"2020-06-04\",\"2020-06-05\",\"2020-06-08\",\"2020-06-09\",\"2020-06-10\",\"2020-06-11\",\"2020-06-12\",\"2020-06-15\",\"2020-06-16\",\"2020-06-17\",\"2020-06-18\",\"2020-06-19\",\"2020-06-22\",\"2020-06-23\",\"2020-06-24\",\"2020-06-25\",\"2020-06-26\",\"2020-06-29\",\"2020-06-30\",\"2020-07-02\",\"2020-07-03\",\"2020-07-06\",\"2020-07-07\",\"2020-07-08\",\"2020-07-09\",\"2020-07-10\",\"2020-07-13\",\"2020-07-14\",\"2020-07-15\",\"2020-07-16\",\"2020-07-17\",\"2020-07-20\",\"2020-07-21\",\"2020-07-22\",\"2020-07-23\",\"2020-07-24\",\"2020-07-27\",\"2020-07-28\",\"2020-07-29\",\"2020-07-30\",\"2020-07-31\",\"2020-08-04\",\"2020-08-05\",\"2020-08-06\",\"2020-08-07\",\"2020-08-10\",\"2020-08-11\",\"2020-08-12\",\"2020-08-13\",\"2020-08-14\",\"2020-08-17\",\"2020-08-18\",\"2020-08-19\",\"2020-08-20\",\"2020-08-21\",\"2020-08-24\",\"2020-08-25\",\"2020-08-26\",\"2020-08-27\",\"2020-08-28\",\"2020-08-31\",\"2020-09-01\",\"2020-09-02\",\"2020-09-03\",\"2020-09-04\",\"2020-09-08\",\"2020-09-09\",\"2020-09-10\",\"2020-09-11\",\"2020-09-14\",\"2020-09-15\",\"2020-09-16\",\"2020-09-17\",\"2020-09-18\",\"2020-09-21\",\"2020-09-22\",\"2020-09-23\",\"2020-09-24\",\"2020-09-25\",\"2020-09-28\",\"2020-09-29\",\"2020-09-30\",\"2020-10-01\",\"2020-10-02\",\"2020-10-05\",\"2020-10-06\",\"2020-10-07\",\"2020-10-08\",\"2020-10-09\",\"2020-10-13\",\"2020-10-14\",\"2020-10-15\",\"2020-10-16\",\"2020-10-19\",\"2020-10-20\",\"2020-10-21\",\"2020-10-22\",\"2020-10-23\",\"2020-10-26\",\"2020-10-27\",\"2020-10-28\",\"2020-10-29\",\"2020-10-30\"],\"value\":{\"__ndarray__\":\"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\",\"dtype\":\"float64\",\"order\":\"little\",\"shape\":[188]}},\"selected\":{\"id\":\"5135\"},\"selection_policy\":{\"id\":\"5151\"}},\"id\":\"5134\",\"type\":\"ColumnDataSource\"},{\"attributes\":{},\"id\":\"5100\",\"type\":\"PanTool\"},{\"attributes\":{\"line_alpha\":0.1,\"line_color\":\"#ff7e0e\",\"line_width\":2,\"x\":{\"field\":\"index\"},\"y\":{\"field\":\"value\"}},\"id\":\"5138\",\"type\":\"Line\"},{\"attributes\":{},\"id\":\"5135\",\"type\":\"Selection\"},{\"attributes\":{\"data_source\":{\"id\":\"5116\"},\"glyph\":{\"id\":\"5119\"},\"hover_glyph\":null,\"muted_glyph\":{\"id\":\"5121\"},\"nonselection_glyph\":{\"id\":\"5120\"},\"selection_glyph\":null,\"view\":{\"id\":\"5123\"}},\"id\":\"5122\",\"type\":\"GlyphRenderer\"},{\"attributes\":{\"axis_label\":\"\",\"bounds\":\"auto\",\"formatter\":{\"id\":\"5113\"},\"major_label_orientation\":\"horizontal\",\"ticker\":{\"id\":\"5093\"}},\"id\":\"5092\",\"type\":\"CategoricalAxis\"},{\"attributes\":{},\"id\":\"5101\",\"type\":\"WheelZoomTool\"},{\"attributes\":{\"line_alpha\":0.2,\"line_color\":\"#1f77b3\",\"line_width\":2,\"x\":{\"field\":\"index\"},\"y\":{\"field\":\"value\"}},\"id\":\"5121\",\"type\":\"Line\"},{\"attributes\":{\"factors\":[\"2020-01-10\",\"2020-01-16\",\"2020-01-21\",\"2020-01-22\",\"2020-01-24\",\"2020-01-31\",\"2020-02-05\",\"2020-02-07\",\"2020-02-10\",\"2020-02-11\",\"2020-02-14\",\"2020-02-19\",\"2020-02-20\",\"2020-02-21\",\"2020-02-24\",\"2020-02-25\",\"2020-02-26\",\"2020-02-27\",\"2020-02-28\",\"2020-03-02\",\"2020-03-03\",\"2020-03-04\",\"2020-03-05\",\"2020-03-06\",\"2020-03-09\",\"2020-03-10\",\"2020-03-11\",\"2020-03-12\",\"2020-03-13\",\"2020-03-16\",\"2020-03-17\",\"2020-03-18\",\"2020-03-19\",\"2020-03-20\",\"2020-03-23\",\"2020-03-24\",\"2020-03-25\",\"2020-03-26\",\"2020-03-27\",\"2020-03-30\",\"2020-03-31\",\"2020-04-01\",\"2020-04-02\",\"2020-04-03\",\"2020-04-06\",\"2020-04-07\",\"2020-04-08\",\"2020-04-09\",\"2020-04-13\",\"2020-04-14\",\"2020-04-15\",\"2020-04-16\",\"2020-04-17\",\"2020-04-20\",\"2020-04-21\",\"2020-04-22\",\"2020-04-23\",\"2020-04-24\",\"2020-04-27\",\"2020-04-28\",\"2020-04-29\",\"2020-04-30\",\"2020-05-01\",\"2020-05-04\",\"2020-05-05\",\"2020-05-06\",\"2020-05-07\",\"2020-05-08\",\"2020-05-11\",\"2020-05-12\",\"2020-05-13\",\"2020-05-14\",\"2020-05-15\",\"2020-05-19\",\"2020-05-20\",\"2020-05-21\",\"2020-05-22\",\"2020-05-25\",\"2020-05-26\",\"2020-05-27\",\"2020-05-28\",\"2020-05-29\",\"2020-06-01\",\"2020-06-02\",\"2020-06-03\",\"2020-06-04\",\"2020-06-05\",\"2020-06-08\",\"2020-06-09\",\"2020-06-10\",\"2020-06-11\",\"2020-06-12\",\"2020-06-15\",\"2020-06-16\",\"2020-06-17\",\"2020-06-18\",\"2020-06-19\",\"2020-06-22\",\"2020-06-23\",\"2020-06-24\",\"2020-06-25\",\"2020-06-26\",\"2020-06-29\",\"2020-06-30\",\"2020-07-02\",\"2020-07-03\",\"2020-07-06\",\"2020-07-07\",\"2020-07-08\",\"2020-07-09\",\"2020-07-10\",\"2020-07-13\",\"2020-07-14\",\"2020-07-15\",\"2020-07-16\",\"2020-07-17\",\"2020-07-20\",\"2020-07-21\",\"2020-07-22\",\"2020-07-23\",\"2020-07-24\",\"2020-07-27\",\"2020-07-28\",\"2020-07-29\",\"2020-07-30\",\"2020-07-31\",\"2020-08-04\",\"2020-08-05\",\"2020-08-06\",\"2020-08-07\",\"2020-08-10\",\"2020-08-11\",\"2020-08-12\",\"2020-08-13\",\"2020-08-14\",\"2020-08-17\",\"2020-08-18\",\"2020-08-19\",\"2020-08-20\",\"2020-08-21\",\"2020-08-24\",\"2020-08-25\",\"2020-08-26\",\"2020-08-27\",\"2020-08-28\",\"2020-08-31\",\"2020-09-01\",\"2020-09-02\",\"2020-09-03\",\"2020-09-04\",\"2020-09-08\",\"2020-09-09\",\"2020-09-10\",\"2020-09-11\",\"2020-09-14\",\"2020-09-15\",\"2020-09-16\",\"2020-09-17\",\"2020-09-18\",\"2020-09-21\",\"2020-09-22\",\"2020-09-23\",\"2020-09-24\",\"2020-09-25\",\"2020-09-28\",\"2020-09-29\",\"2020-09-30\",\"2020-10-01\",\"2020-10-02\",\"2020-10-05\",\"2020-10-06\",\"2020-10-07\",\"2020-10-08\",\"2020-10-09\",\"2020-10-13\",\"2020-10-14\",\"2020-10-15\",\"2020-10-16\",\"2020-10-19\",\"2020-10-20\",\"2020-10-21\",\"2020-10-22\",\"2020-10-23\",\"2020-10-26\",\"2020-10-27\",\"2020-10-28\",\"2020-10-29\",\"2020-10-30\"],\"tags\":[[[\"index\",\"index\",null]]]},\"id\":\"5079\",\"type\":\"FactorRange\"},{\"attributes\":{\"overlay\":{\"id\":\"5104\"}},\"id\":\"5102\",\"type\":\"BoxZoomTool\"},{\"attributes\":{},\"id\":\"5088\",\"type\":\"CategoricalScale\"},{\"attributes\":{},\"id\":\"5103\",\"type\":\"ResetTool\"},{\"attributes\":{},\"id\":\"5090\",\"type\":\"LinearScale\"},{\"attributes\":{\"source\":{\"id\":\"5116\"}},\"id\":\"5123\",\"type\":\"CDSView\"},{\"attributes\":{},\"id\":\"5115\",\"type\":\"BasicTickFormatter\"},{\"attributes\":{\"text\":\"\",\"text_color\":{\"value\":\"black\"},\"text_font_size\":{\"value\":\"12pt\"}},\"id\":\"5084\",\"type\":\"Title\"},{\"attributes\":{\"line_alpha\":0.1,\"line_color\":\"#1f77b3\",\"line_width\":2,\"x\":{\"field\":\"index\"},\"y\":{\"field\":\"value\"}},\"id\":\"5120\",\"type\":\"Line\"}],\"root_ids\":[\"5077\"]},\"title\":\"Bokeh Application\",\"version\":\"2.2.3\"}};\n",
       "  var render_items = [{\"docid\":\"16b45be9-a6de-49b0-92dd-c056377fdca9\",\"root_ids\":[\"5077\"],\"roots\":{\"5077\":\"8775971c-0f03-4b50-ad77-64856b824f25\"}}];\n",
       "  root.Bokeh.embed.embed_items_notebook(docs_json, render_items);\n",
       "  }\n",
       "if (root.Bokeh !== undefined) {\n",
       "    embed_document(root);\n",
       "  } else {\n",
       "    var attempts = 0;\n",
       "    var timer = setInterval(function(root) {\n",
       "      if (root.Bokeh !== undefined) {\n",
       "        clearInterval(timer);\n",
       "        embed_document(root);\n",
       "      } else if (document.readyState == \"complete\") {\n",
       "        attempts++;\n",
       "        if (attempts > 100) {\n",
       "          clearInterval(timer);\n",
       "          console.log(\"Bokeh: ERROR: Unable to run BokehJS code because BokehJS library is missing\");\n",
       "        }\n",
       "      }\n",
       "    }, 10, root)\n",
       "  }\n",
       "})(window);</script>"
      ],
      "text/plain": [
       ":NdOverlay   [Variable]\n",
       "   :Curve   [index]   (value)"
      ]
     },
     "execution_count": 330,
     "metadata": {
      "application/vnd.holoviews_exec.v0+json": {
       "id": "5077"
      }
     },
     "output_type": "execute_result"
    }
   ],
   "source": [
    "tsx_covid_df.hvplot()"
   ]
  },
  {
   "cell_type": "code",
   "execution_count": 338,
   "metadata": {},
   "outputs": [
    {
     "data": {
      "text/html": [
       "<div>\n",
       "<style scoped>\n",
       "    .dataframe tbody tr th:only-of-type {\n",
       "        vertical-align: middle;\n",
       "    }\n",
       "\n",
       "    .dataframe tbody tr th {\n",
       "        vertical-align: top;\n",
       "    }\n",
       "\n",
       "    .dataframe thead th {\n",
       "        text-align: right;\n",
       "    }\n",
       "</style>\n",
       "<table border=\"1\" class=\"dataframe\">\n",
       "  <thead>\n",
       "    <tr style=\"text-align: right;\">\n",
       "      <th></th>\n",
       "      <th>index</th>\n",
       "      <th>New Cases</th>\n",
       "      <th>Price</th>\n",
       "    </tr>\n",
       "  </thead>\n",
       "  <tbody>\n",
       "    <tr>\n",
       "      <th>0</th>\n",
       "      <td>2020-01-10</td>\n",
       "      <td>0.333333</td>\n",
       "      <td>1025.66</td>\n",
       "    </tr>\n",
       "    <tr>\n",
       "      <th>1</th>\n",
       "      <td>2020-01-16</td>\n",
       "      <td>0.333333</td>\n",
       "      <td>1041.37</td>\n",
       "    </tr>\n",
       "    <tr>\n",
       "      <th>2</th>\n",
       "      <td>2020-01-21</td>\n",
       "      <td>0.333333</td>\n",
       "      <td>1047.14</td>\n",
       "    </tr>\n",
       "    <tr>\n",
       "      <th>3</th>\n",
       "      <td>2020-01-22</td>\n",
       "      <td>0.333333</td>\n",
       "      <td>1049.41</td>\n",
       "    </tr>\n",
       "    <tr>\n",
       "      <th>4</th>\n",
       "      <td>2020-01-24</td>\n",
       "      <td>0.333333</td>\n",
       "      <td>1047.97</td>\n",
       "    </tr>\n",
       "    <tr>\n",
       "      <th>5</th>\n",
       "      <td>2020-01-31</td>\n",
       "      <td>0.333333</td>\n",
       "      <td>1032.97</td>\n",
       "    </tr>\n",
       "    <tr>\n",
       "      <th>6</th>\n",
       "      <td>2020-02-05</td>\n",
       "      <td>0.333333</td>\n",
       "      <td>1052.46</td>\n",
       "    </tr>\n",
       "    <tr>\n",
       "      <th>7</th>\n",
       "      <td>2020-02-07</td>\n",
       "      <td>0.333333</td>\n",
       "      <td>1053.03</td>\n",
       "    </tr>\n",
       "    <tr>\n",
       "      <th>8</th>\n",
       "      <td>2020-02-10</td>\n",
       "      <td>0.666667</td>\n",
       "      <td>1058.92</td>\n",
       "    </tr>\n",
       "    <tr>\n",
       "      <th>9</th>\n",
       "      <td>2020-02-11</td>\n",
       "      <td>0.333333</td>\n",
       "      <td>1060.47</td>\n",
       "    </tr>\n",
       "    <tr>\n",
       "      <th>10</th>\n",
       "      <td>2020-02-14</td>\n",
       "      <td>0.666667</td>\n",
       "      <td>1064.88</td>\n",
       "    </tr>\n",
       "    <tr>\n",
       "      <th>11</th>\n",
       "      <td>2020-02-19</td>\n",
       "      <td>0.333333</td>\n",
       "      <td>1068.28</td>\n",
       "    </tr>\n",
       "    <tr>\n",
       "      <th>12</th>\n",
       "      <td>2020-02-20</td>\n",
       "      <td>2.000000</td>\n",
       "      <td>1069.29</td>\n",
       "    </tr>\n",
       "    <tr>\n",
       "      <th>13</th>\n",
       "      <td>2020-02-21</td>\n",
       "      <td>0.666667</td>\n",
       "      <td>1062.86</td>\n",
       "    </tr>\n",
       "    <tr>\n",
       "      <th>14</th>\n",
       "      <td>2020-02-24</td>\n",
       "      <td>1.333333</td>\n",
       "      <td>1046.04</td>\n",
       "    </tr>\n",
       "    <tr>\n",
       "      <th>15</th>\n",
       "      <td>2020-02-25</td>\n",
       "      <td>1.000000</td>\n",
       "      <td>1023.72</td>\n",
       "    </tr>\n",
       "    <tr>\n",
       "      <th>16</th>\n",
       "      <td>2020-02-26</td>\n",
       "      <td>0.666667</td>\n",
       "      <td>1016.17</td>\n",
       "    </tr>\n",
       "    <tr>\n",
       "      <th>17</th>\n",
       "      <td>2020-02-27</td>\n",
       "      <td>1.333333</td>\n",
       "      <td>997.73</td>\n",
       "    </tr>\n",
       "    <tr>\n",
       "      <th>18</th>\n",
       "      <td>2020-02-28</td>\n",
       "      <td>2.000000</td>\n",
       "      <td>972.15</td>\n",
       "    </tr>\n",
       "    <tr>\n",
       "      <th>19</th>\n",
       "      <td>2020-03-02</td>\n",
       "      <td>4.666667</td>\n",
       "      <td>988.97</td>\n",
       "    </tr>\n",
       "    <tr>\n",
       "      <th>20</th>\n",
       "      <td>2020-03-03</td>\n",
       "      <td>6.000000</td>\n",
       "      <td>979.43</td>\n",
       "    </tr>\n",
       "    <tr>\n",
       "      <th>21</th>\n",
       "      <td>2020-03-04</td>\n",
       "      <td>6.000000</td>\n",
       "      <td>1001.16</td>\n",
       "    </tr>\n",
       "    <tr>\n",
       "      <th>22</th>\n",
       "      <td>2020-03-05</td>\n",
       "      <td>10.000000</td>\n",
       "      <td>987.40</td>\n",
       "    </tr>\n",
       "    <tr>\n",
       "      <th>23</th>\n",
       "      <td>2020-03-06</td>\n",
       "      <td>14.000000</td>\n",
       "      <td>965.55</td>\n",
       "    </tr>\n",
       "    <tr>\n",
       "      <th>24</th>\n",
       "      <td>2020-03-09</td>\n",
       "      <td>27.000000</td>\n",
       "      <td>863.33</td>\n",
       "    </tr>\n",
       "    <tr>\n",
       "      <th>25</th>\n",
       "      <td>2020-03-10</td>\n",
       "      <td>42.000000</td>\n",
       "      <td>893.62</td>\n",
       "    </tr>\n",
       "    <tr>\n",
       "      <th>26</th>\n",
       "      <td>2020-03-11</td>\n",
       "      <td>44.666667</td>\n",
       "      <td>854.67</td>\n",
       "    </tr>\n",
       "    <tr>\n",
       "      <th>27</th>\n",
       "      <td>2020-03-12</td>\n",
       "      <td>51.666667</td>\n",
       "      <td>747.75</td>\n",
       "    </tr>\n",
       "    <tr>\n",
       "      <th>28</th>\n",
       "      <td>2020-03-13</td>\n",
       "      <td>64.000000</td>\n",
       "      <td>828.77</td>\n",
       "    </tr>\n",
       "    <tr>\n",
       "      <th>29</th>\n",
       "      <td>2020-03-16</td>\n",
       "      <td>119.333333</td>\n",
       "      <td>745.79</td>\n",
       "    </tr>\n",
       "    <tr>\n",
       "      <th>...</th>\n",
       "      <td>...</td>\n",
       "      <td>...</td>\n",
       "      <td>...</td>\n",
       "    </tr>\n",
       "    <tr>\n",
       "      <th>158</th>\n",
       "      <td>2020-09-18</td>\n",
       "      <td>362.666667</td>\n",
       "      <td>968.21</td>\n",
       "    </tr>\n",
       "    <tr>\n",
       "      <th>159</th>\n",
       "      <td>2020-09-21</td>\n",
       "      <td>513.666667</td>\n",
       "      <td>957.71</td>\n",
       "    </tr>\n",
       "    <tr>\n",
       "      <th>160</th>\n",
       "      <td>2020-09-22</td>\n",
       "      <td>461.333333</td>\n",
       "      <td>967.76</td>\n",
       "    </tr>\n",
       "    <tr>\n",
       "      <th>161</th>\n",
       "      <td>2020-09-23</td>\n",
       "      <td>476.666667</td>\n",
       "      <td>950.82</td>\n",
       "    </tr>\n",
       "    <tr>\n",
       "      <th>162</th>\n",
       "      <td>2020-09-24</td>\n",
       "      <td>511.333333</td>\n",
       "      <td>956.22</td>\n",
       "    </tr>\n",
       "    <tr>\n",
       "      <th>163</th>\n",
       "      <td>2020-09-25</td>\n",
       "      <td>542.333333</td>\n",
       "      <td>966.18</td>\n",
       "    </tr>\n",
       "    <tr>\n",
       "      <th>164</th>\n",
       "      <td>2020-09-28</td>\n",
       "      <td>612.666667</td>\n",
       "      <td>976.60</td>\n",
       "    </tr>\n",
       "    <tr>\n",
       "      <th>165</th>\n",
       "      <td>2020-09-29</td>\n",
       "      <td>619.666667</td>\n",
       "      <td>973.77</td>\n",
       "    </tr>\n",
       "    <tr>\n",
       "      <th>166</th>\n",
       "      <td>2020-09-30</td>\n",
       "      <td>627.333333</td>\n",
       "      <td>967.27</td>\n",
       "    </tr>\n",
       "    <tr>\n",
       "      <th>167</th>\n",
       "      <td>2020-10-01</td>\n",
       "      <td>624.000000</td>\n",
       "      <td>969.49</td>\n",
       "    </tr>\n",
       "    <tr>\n",
       "      <th>168</th>\n",
       "      <td>2020-10-02</td>\n",
       "      <td>657.333333</td>\n",
       "      <td>971.32</td>\n",
       "    </tr>\n",
       "    <tr>\n",
       "      <th>169</th>\n",
       "      <td>2020-10-05</td>\n",
       "      <td>796.000000</td>\n",
       "      <td>983.40</td>\n",
       "    </tr>\n",
       "    <tr>\n",
       "      <th>170</th>\n",
       "      <td>2020-10-06</td>\n",
       "      <td>793.333333</td>\n",
       "      <td>973.01</td>\n",
       "    </tr>\n",
       "    <tr>\n",
       "      <th>171</th>\n",
       "      <td>2020-10-07</td>\n",
       "      <td>718.000000</td>\n",
       "      <td>985.81</td>\n",
       "    </tr>\n",
       "    <tr>\n",
       "      <th>172</th>\n",
       "      <td>2020-10-08</td>\n",
       "      <td>750.333333</td>\n",
       "      <td>991.28</td>\n",
       "    </tr>\n",
       "    <tr>\n",
       "      <th>173</th>\n",
       "      <td>2020-10-09</td>\n",
       "      <td>801.000000</td>\n",
       "      <td>990.95</td>\n",
       "    </tr>\n",
       "    <tr>\n",
       "      <th>174</th>\n",
       "      <td>2020-10-13</td>\n",
       "      <td>717.666667</td>\n",
       "      <td>987.83</td>\n",
       "    </tr>\n",
       "    <tr>\n",
       "      <th>175</th>\n",
       "      <td>2020-10-14</td>\n",
       "      <td>846.666667</td>\n",
       "      <td>983.99</td>\n",
       "    </tr>\n",
       "    <tr>\n",
       "      <th>176</th>\n",
       "      <td>2020-10-15</td>\n",
       "      <td>789.666667</td>\n",
       "      <td>986.63</td>\n",
       "    </tr>\n",
       "    <tr>\n",
       "      <th>177</th>\n",
       "      <td>2020-10-16</td>\n",
       "      <td>818.666667</td>\n",
       "      <td>982.67</td>\n",
       "    </tr>\n",
       "    <tr>\n",
       "      <th>178</th>\n",
       "      <td>2020-10-19</td>\n",
       "      <td>836.333333</td>\n",
       "      <td>972.22</td>\n",
       "    </tr>\n",
       "    <tr>\n",
       "      <th>179</th>\n",
       "      <td>2020-10-20</td>\n",
       "      <td>840.666667</td>\n",
       "      <td>971.53</td>\n",
       "    </tr>\n",
       "    <tr>\n",
       "      <th>180</th>\n",
       "      <td>2020-10-21</td>\n",
       "      <td>952.333333</td>\n",
       "      <td>966.63</td>\n",
       "    </tr>\n",
       "    <tr>\n",
       "      <th>181</th>\n",
       "      <td>2020-10-22</td>\n",
       "      <td>913.000000</td>\n",
       "      <td>970.52</td>\n",
       "    </tr>\n",
       "    <tr>\n",
       "      <th>182</th>\n",
       "      <td>2020-10-23</td>\n",
       "      <td>877.666667</td>\n",
       "      <td>972.54</td>\n",
       "    </tr>\n",
       "    <tr>\n",
       "      <th>183</th>\n",
       "      <td>2020-10-26</td>\n",
       "      <td>766.000000</td>\n",
       "      <td>959.91</td>\n",
       "    </tr>\n",
       "    <tr>\n",
       "      <th>184</th>\n",
       "      <td>2020-10-27</td>\n",
       "      <td>865.666667</td>\n",
       "      <td>954.81</td>\n",
       "    </tr>\n",
       "    <tr>\n",
       "      <th>185</th>\n",
       "      <td>2020-10-28</td>\n",
       "      <td>887.666667</td>\n",
       "      <td>930.90</td>\n",
       "    </tr>\n",
       "    <tr>\n",
       "      <th>186</th>\n",
       "      <td>2020-10-29</td>\n",
       "      <td>929.666667</td>\n",
       "      <td>934.83</td>\n",
       "    </tr>\n",
       "    <tr>\n",
       "      <th>187</th>\n",
       "      <td>2020-10-30</td>\n",
       "      <td>1051.000000</td>\n",
       "      <td>928.90</td>\n",
       "    </tr>\n",
       "  </tbody>\n",
       "</table>\n",
       "<p>188 rows × 3 columns</p>\n",
       "</div>"
      ],
      "text/plain": [
       "          index    New Cases    Price\n",
       "0    2020-01-10     0.333333  1025.66\n",
       "1    2020-01-16     0.333333  1041.37\n",
       "2    2020-01-21     0.333333  1047.14\n",
       "3    2020-01-22     0.333333  1049.41\n",
       "4    2020-01-24     0.333333  1047.97\n",
       "5    2020-01-31     0.333333  1032.97\n",
       "6    2020-02-05     0.333333  1052.46\n",
       "7    2020-02-07     0.333333  1053.03\n",
       "8    2020-02-10     0.666667  1058.92\n",
       "9    2020-02-11     0.333333  1060.47\n",
       "10   2020-02-14     0.666667  1064.88\n",
       "11   2020-02-19     0.333333  1068.28\n",
       "12   2020-02-20     2.000000  1069.29\n",
       "13   2020-02-21     0.666667  1062.86\n",
       "14   2020-02-24     1.333333  1046.04\n",
       "15   2020-02-25     1.000000  1023.72\n",
       "16   2020-02-26     0.666667  1016.17\n",
       "17   2020-02-27     1.333333   997.73\n",
       "18   2020-02-28     2.000000   972.15\n",
       "19   2020-03-02     4.666667   988.97\n",
       "20   2020-03-03     6.000000   979.43\n",
       "21   2020-03-04     6.000000  1001.16\n",
       "22   2020-03-05    10.000000   987.40\n",
       "23   2020-03-06    14.000000   965.55\n",
       "24   2020-03-09    27.000000   863.33\n",
       "25   2020-03-10    42.000000   893.62\n",
       "26   2020-03-11    44.666667   854.67\n",
       "27   2020-03-12    51.666667   747.75\n",
       "28   2020-03-13    64.000000   828.77\n",
       "29   2020-03-16   119.333333   745.79\n",
       "..          ...          ...      ...\n",
       "158  2020-09-18   362.666667   968.21\n",
       "159  2020-09-21   513.666667   957.71\n",
       "160  2020-09-22   461.333333   967.76\n",
       "161  2020-09-23   476.666667   950.82\n",
       "162  2020-09-24   511.333333   956.22\n",
       "163  2020-09-25   542.333333   966.18\n",
       "164  2020-09-28   612.666667   976.60\n",
       "165  2020-09-29   619.666667   973.77\n",
       "166  2020-09-30   627.333333   967.27\n",
       "167  2020-10-01   624.000000   969.49\n",
       "168  2020-10-02   657.333333   971.32\n",
       "169  2020-10-05   796.000000   983.40\n",
       "170  2020-10-06   793.333333   973.01\n",
       "171  2020-10-07   718.000000   985.81\n",
       "172  2020-10-08   750.333333   991.28\n",
       "173  2020-10-09   801.000000   990.95\n",
       "174  2020-10-13   717.666667   987.83\n",
       "175  2020-10-14   846.666667   983.99\n",
       "176  2020-10-15   789.666667   986.63\n",
       "177  2020-10-16   818.666667   982.67\n",
       "178  2020-10-19   836.333333   972.22\n",
       "179  2020-10-20   840.666667   971.53\n",
       "180  2020-10-21   952.333333   966.63\n",
       "181  2020-10-22   913.000000   970.52\n",
       "182  2020-10-23   877.666667   972.54\n",
       "183  2020-10-26   766.000000   959.91\n",
       "184  2020-10-27   865.666667   954.81\n",
       "185  2020-10-28   887.666667   930.90\n",
       "186  2020-10-29   929.666667   934.83\n",
       "187  2020-10-30  1051.000000   928.90\n",
       "\n",
       "[188 rows x 3 columns]"
      ]
     },
     "execution_count": 338,
     "metadata": {},
     "output_type": "execute_result"
    }
   ],
   "source": [
    "tsx_covid_df.reset_index()"
   ]
  },
  {
   "cell_type": "code",
   "execution_count": 342,
   "metadata": {},
   "outputs": [],
   "source": [
    "tsx_covid_df.head()"
   ]
  },
  {
   "cell_type": "code",
   "execution_count": 344,
   "metadata": {},
   "outputs": [],
   "source": [
    "tsx_covid_df.index = pd.to_datetime(tsx_covid_df.index)"
   ]
  },
  {
   "cell_type": "code",
   "execution_count": 345,
   "metadata": {},
   "outputs": [
    {
     "data": {
      "text/plain": [
       "DatetimeIndex(['2020-01-10', '2020-01-16', '2020-01-21', '2020-01-22',\n",
       "               '2020-01-24', '2020-01-31', '2020-02-05', '2020-02-07',\n",
       "               '2020-02-10', '2020-02-11',\n",
       "               ...\n",
       "               '2020-10-19', '2020-10-20', '2020-10-21', '2020-10-22',\n",
       "               '2020-10-23', '2020-10-26', '2020-10-27', '2020-10-28',\n",
       "               '2020-10-29', '2020-10-30'],\n",
       "              dtype='datetime64[ns]', length=188, freq=None)"
      ]
     },
     "execution_count": 345,
     "metadata": {},
     "output_type": "execute_result"
    }
   ],
   "source": [
    "tsx_covid_df.index"
   ]
  },
  {
   "cell_type": "code",
   "execution_count": 353,
   "metadata": {},
   "outputs": [],
   "source": [
    "tsx_cov_fig  = tsx_covid_df.hvplot()"
   ]
  },
  {
   "cell_type": "code",
   "execution_count": 362,
   "metadata": {},
   "outputs": [
    {
     "data": {},
     "metadata": {},
     "output_type": "display_data"
    },
    {
     "data": {
      "application/vnd.holoviews_exec.v0+json": "",
      "text/html": [
       "<div id='7808'>\n",
       "\n",
       "\n",
       "\n",
       "\n",
       "\n",
       "  <div class=\"bk-root\" id=\"60bb73ec-6fa0-40d0-8781-02504f6db6c2\" data-root-id=\"7808\"></div>\n",
       "</div>\n",
       "<script type=\"application/javascript\">(function(root) {\n",
       "  function embed_document(root) {\n",
       "  var docs_json = {\"f5f99991-2b1f-4824-9d45-3338244fa59c\":{\"roots\":{\"references\":[{\"attributes\":{\"days\":[1,2,3,4,5,6,7,8,9,10,11,12,13,14,15,16,17,18,19,20,21,22,23,24,25,26,27,28,29,30,31]},\"id\":\"7866\",\"type\":\"DaysTicker\"},{\"attributes\":{},\"id\":\"7820\",\"type\":\"LinearScale\"},{\"attributes\":{\"base\":60,\"mantissas\":[1,2,5,10,15,20,30],\"max_interval\":1800000.0,\"min_interval\":1000.0,\"num_minor_ticks\":0},\"id\":\"7864\",\"type\":\"AdaptiveTicker\"},{\"attributes\":{\"overlay\":{\"id\":\"7835\"}},\"id\":\"7833\",\"type\":\"BoxZoomTool\"},{\"attributes\":{\"days\":[1,4,7,10,13,16,19,22,25,28]},\"id\":\"7867\",\"type\":\"DaysTicker\"},{\"attributes\":{\"days\":[1,8,15,22]},\"id\":\"7868\",\"type\":\"DaysTicker\"},{\"attributes\":{},\"id\":\"7827\",\"type\":\"BasicTicker\"},{\"attributes\":{\"days\":[1,15]},\"id\":\"7869\",\"type\":\"DaysTicker\"},{\"attributes\":{\"data_source\":{\"id\":\"7843\"},\"glyph\":{\"id\":\"7846\"},\"hover_glyph\":null,\"muted_glyph\":{\"id\":\"7848\"},\"nonselection_glyph\":{\"id\":\"7847\"},\"selection_glyph\":null,\"view\":{\"id\":\"7850\"}},\"id\":\"7849\",\"type\":\"GlyphRenderer\"},{\"attributes\":{},\"id\":\"7834\",\"type\":\"ResetTool\"},{\"attributes\":{},\"id\":\"7844\",\"type\":\"Selection\"},{\"attributes\":{\"months\":[0,1,2,3,4,5,6,7,8,9,10,11]},\"id\":\"7870\",\"type\":\"MonthsTicker\"},{\"attributes\":{},\"id\":\"7854\",\"type\":\"BasicTickFormatter\"},{\"attributes\":{\"base\":24,\"mantissas\":[1,2,4,6,8,12],\"max_interval\":43200000.0,\"min_interval\":3600000.0,\"num_minor_ticks\":0},\"id\":\"7865\",\"type\":\"AdaptiveTicker\"},{\"attributes\":{\"margin\":[5,5,5,5],\"name\":\"HSpacer16612\",\"sizing_mode\":\"stretch_width\"},\"id\":\"7895\",\"type\":\"Spacer\"},{\"attributes\":{},\"id\":\"7862\",\"type\":\"UnionRenderers\"},{\"attributes\":{\"months\":[0,2,4,6,8,10]},\"id\":\"7871\",\"type\":\"MonthsTicker\"},{\"attributes\":{\"axis\":{\"id\":\"7822\"},\"grid_line_color\":null,\"ticker\":null},\"id\":\"7825\",\"type\":\"Grid\"},{\"attributes\":{\"data\":{\"CERB Week End\":{\"__ndarray__\":\"AADA9VYYd0IAAAC+lxp3QgAAQB0iHndCAADAfxAgd0IAAMCtoyJ3QgAAQBCSJHdCAACA2NImd0IAAMCgEyl3QgAAAGlUK3dCAABAMZUtd0IAAID51S93QgAAwMEWMndCAAAAilc0d0IAAEBSmDZ3QgAAgBrZOHdCAADA4hk7d0IAAACrWj13QgAAQHObP3dCAACAO9xBd0IAAMADHUR3QgAAAMxdRndCAABAlJ5Id0IAAIBc30p3QgAAwCQgTXdCAAAA7WBPd0I=\",\"dtype\":\"float64\",\"order\":\"little\",\"shape\":[25]},\"CERB_Week_End\":{\"__ndarray__\":\"AADA9VYYd0IAAAC+lxp3QgAAQB0iHndCAADAfxAgd0IAAMCtoyJ3QgAAQBCSJHdCAACA2NImd0IAAMCgEyl3QgAAAGlUK3dCAABAMZUtd0IAAID51S93QgAAwMEWMndCAAAAilc0d0IAAEBSmDZ3QgAAgBrZOHdCAADA4hk7d0IAAACrWj13QgAAQHObP3dCAACAO9xBd0IAAMADHUR3QgAAAMxdRndCAABAlJ5Id0IAAIBc30p3QgAAwCQgTXdCAAAA7WBPd0I=\",\"dtype\":\"float64\",\"order\":\"little\",\"shape\":[25]},\"Total Paid CAD\":{\"__ndarray__\":\"4XoUrkfBaEAAAAAAAFBuQDMzMzMz23FAhetRuB4Nc0CamZmZmQF4QM3MzMzMNHlACtejcD2eekAK16NwPeZ7QGZmZmZmZn9A7FG4HoVLgEAK16NwPbqAQClcj8L1HoFAKVyPwvWQgkDNzMzMzCSDQAAAAAAAnINAzczMzMwUhEDNzMzMzGSFQGZmZmZm4oVAAAAAAABEhkAAAAAAAKyGQGZmZmZm4odAMzMzMzNfiEAAAAAAAMiIQJqZmZmZMYlAMzMzMzODiUA=\",\"dtype\":\"float64\",\"order\":\"little\",\"shape\":[25]},\"Total_Paid_CAD\":{\"__ndarray__\":\"4XoUrkfBaEAAAAAAAFBuQDMzMzMz23FAhetRuB4Nc0CamZmZmQF4QM3MzMzMNHlACtejcD2eekAK16NwPeZ7QGZmZmZmZn9A7FG4HoVLgEAK16NwPbqAQClcj8L1HoFAKVyPwvWQgkDNzMzMzCSDQAAAAAAAnINAzczMzMwUhEDNzMzMzGSFQGZmZmZm4oVAAAAAAABEhkAAAAAAAKyGQGZmZmZm4odAMzMzMzNfiEAAAAAAAMiIQJqZmZmZMYlAMzMzMzODiUA=\",\"dtype\":\"float64\",\"order\":\"little\",\"shape\":[25]}},\"selected\":{\"id\":\"7844\"},\"selection_policy\":{\"id\":\"7862\"}},\"id\":\"7843\",\"type\":\"ColumnDataSource\"},{\"attributes\":{\"months\":[0,4,8]},\"id\":\"7872\",\"type\":\"MonthsTicker\"},{\"attributes\":{\"axis_label\":\"CERB Week End\",\"bounds\":\"auto\",\"formatter\":{\"id\":\"7852\"},\"major_label_orientation\":\"horizontal\",\"ticker\":{\"id\":\"7823\"}},\"id\":\"7822\",\"type\":\"DatetimeAxis\"},{\"attributes\":{\"months\":[0,6]},\"id\":\"7873\",\"type\":\"MonthsTicker\"},{\"attributes\":{\"axis\":{\"id\":\"7826\"},\"dimension\":1,\"grid_line_color\":null,\"ticker\":null},\"id\":\"7829\",\"type\":\"Grid\"},{\"attributes\":{\"below\":[{\"id\":\"7822\"}],\"center\":[{\"id\":\"7825\"},{\"id\":\"7829\"}],\"left\":[{\"id\":\"7826\"}],\"margin\":null,\"min_border_bottom\":10,\"min_border_left\":10,\"min_border_right\":10,\"min_border_top\":10,\"plot_height\":300,\"plot_width\":700,\"renderers\":[{\"id\":\"7849\"}],\"sizing_mode\":\"fixed\",\"title\":{\"id\":\"7814\"},\"toolbar\":{\"id\":\"7836\"},\"x_range\":{\"id\":\"7810\"},\"x_scale\":{\"id\":\"7818\"},\"y_range\":{\"id\":\"7811\"},\"y_scale\":{\"id\":\"7820\"}},\"id\":\"7813\",\"subtype\":\"Figure\",\"type\":\"Plot\"},{\"attributes\":{\"axis_label\":\"Total Paid CAD\",\"bounds\":\"auto\",\"formatter\":{\"id\":\"7854\"},\"major_label_orientation\":\"horizontal\",\"ticker\":{\"id\":\"7827\"}},\"id\":\"7826\",\"type\":\"LinearAxis\"},{\"attributes\":{},\"id\":\"7874\",\"type\":\"YearsTicker\"},{\"attributes\":{\"source\":{\"id\":\"7843\"}},\"id\":\"7850\",\"type\":\"CDSView\"},{\"attributes\":{\"end\":1601856000000.0,\"reset_end\":1601856000000.0,\"reset_start\":1587081600000.0,\"start\":1587081600000.0,\"tags\":[[[\"CERB Week End\",\"CERB Week End\",null]]]},\"id\":\"7810\",\"type\":\"Range1d\"},{\"attributes\":{\"line_alpha\":0.2,\"line_color\":\"#1f77b3\",\"line_width\":2,\"x\":{\"field\":\"CERB Week End\"},\"y\":{\"field\":\"Total Paid CAD\"}},\"id\":\"7848\",\"type\":\"Line\"},{\"attributes\":{},\"id\":\"7852\",\"type\":\"DatetimeTickFormatter\"},{\"attributes\":{\"mantissas\":[1,2,5],\"max_interval\":500.0,\"num_minor_ticks\":0},\"id\":\"7863\",\"type\":\"AdaptiveTicker\"},{\"attributes\":{\"text\":\"\",\"text_color\":{\"value\":\"black\"},\"text_font_size\":{\"value\":\"12pt\"}},\"id\":\"7814\",\"type\":\"Title\"},{\"attributes\":{\"bottom_units\":\"screen\",\"fill_alpha\":0.5,\"fill_color\":\"lightgrey\",\"left_units\":\"screen\",\"level\":\"overlay\",\"line_alpha\":1.0,\"line_color\":\"black\",\"line_dash\":[4,4],\"line_width\":2,\"right_units\":\"screen\",\"top_units\":\"screen\"},\"id\":\"7835\",\"type\":\"BoxAnnotation\"},{\"attributes\":{\"line_alpha\":0.1,\"line_color\":\"#1f77b3\",\"line_width\":2,\"x\":{\"field\":\"CERB Week End\"},\"y\":{\"field\":\"Total Paid CAD\"}},\"id\":\"7847\",\"type\":\"Line\"},{\"attributes\":{\"line_color\":\"#1f77b3\",\"line_width\":2,\"x\":{\"field\":\"CERB Week End\"},\"y\":{\"field\":\"Total Paid CAD\"}},\"id\":\"7846\",\"type\":\"Line\"},{\"attributes\":{},\"id\":\"7818\",\"type\":\"LinearScale\"},{\"attributes\":{\"active_drag\":\"auto\",\"active_inspect\":\"auto\",\"active_multi\":null,\"active_scroll\":\"auto\",\"active_tap\":\"auto\",\"tools\":[{\"id\":\"7812\"},{\"id\":\"7830\"},{\"id\":\"7831\"},{\"id\":\"7832\"},{\"id\":\"7833\"},{\"id\":\"7834\"}]},\"id\":\"7836\",\"type\":\"Toolbar\"},{\"attributes\":{\"end\":878.236,\"reset_end\":878.236,\"reset_start\":136.20399999999998,\"start\":136.20399999999998,\"tags\":[[[\"Total Paid CAD\",\"Total Paid CAD\",null]]]},\"id\":\"7811\",\"type\":\"Range1d\"},{\"attributes\":{},\"id\":\"7830\",\"type\":\"SaveTool\"},{\"attributes\":{\"children\":[{\"id\":\"7809\"},{\"id\":\"7813\"},{\"id\":\"7895\"}],\"margin\":[0,0,0,0],\"name\":\"Row16607\",\"tags\":[\"embedded\"]},\"id\":\"7808\",\"type\":\"Row\"},{\"attributes\":{\"margin\":[5,5,5,5],\"name\":\"HSpacer16611\",\"sizing_mode\":\"stretch_width\"},\"id\":\"7809\",\"type\":\"Spacer\"},{\"attributes\":{\"callback\":null,\"formatters\":{\"@{CERB Week End}\":\"datetime\",\"@{CERB_Week_End}\":\"datetime\"},\"renderers\":[{\"id\":\"7849\"}],\"tags\":[\"hv_created\"],\"tooltips\":[[\"CERB Week End\",\"@{CERB_Week_End}{%F %T}\"],[\"Total Paid CAD\",\"@{Total_Paid_CAD}\"]]},\"id\":\"7812\",\"type\":\"HoverTool\"},{\"attributes\":{},\"id\":\"7831\",\"type\":\"PanTool\"},{\"attributes\":{},\"id\":\"7832\",\"type\":\"WheelZoomTool\"},{\"attributes\":{\"num_minor_ticks\":5,\"tickers\":[{\"id\":\"7863\"},{\"id\":\"7864\"},{\"id\":\"7865\"},{\"id\":\"7866\"},{\"id\":\"7867\"},{\"id\":\"7868\"},{\"id\":\"7869\"},{\"id\":\"7870\"},{\"id\":\"7871\"},{\"id\":\"7872\"},{\"id\":\"7873\"},{\"id\":\"7874\"}]},\"id\":\"7823\",\"type\":\"DatetimeTicker\"}],\"root_ids\":[\"7808\"]},\"title\":\"Bokeh Application\",\"version\":\"2.2.3\"}};\n",
       "  var render_items = [{\"docid\":\"f5f99991-2b1f-4824-9d45-3338244fa59c\",\"root_ids\":[\"7808\"],\"roots\":{\"7808\":\"60bb73ec-6fa0-40d0-8781-02504f6db6c2\"}}];\n",
       "  root.Bokeh.embed.embed_items_notebook(docs_json, render_items);\n",
       "  }\n",
       "if (root.Bokeh !== undefined) {\n",
       "    embed_document(root);\n",
       "  } else {\n",
       "    var attempts = 0;\n",
       "    var timer = setInterval(function(root) {\n",
       "      if (root.Bokeh !== undefined) {\n",
       "        clearInterval(timer);\n",
       "        embed_document(root);\n",
       "      } else if (document.readyState == \"complete\") {\n",
       "        attempts++;\n",
       "        if (attempts > 100) {\n",
       "          clearInterval(timer);\n",
       "          console.log(\"Bokeh: ERROR: Unable to run BokehJS code because BokehJS library is missing\");\n",
       "        }\n",
       "      }\n",
       "    }, 10, root)\n",
       "  }\n",
       "})(window);</script>"
      ],
      "text/plain": [
       ":Curve   [CERB Week End]   (Total Paid CAD)"
      ]
     },
     "execution_count": 362,
     "metadata": {
      "application/vnd.holoviews_exec.v0+json": {
       "id": "7808"
      }
     },
     "output_type": "execute_result"
    }
   ],
   "source": [
    "cerbfig"
   ]
  },
  {
   "cell_type": "code",
   "execution_count": 363,
   "metadata": {},
   "outputs": [
    {
     "data": {},
     "metadata": {},
     "output_type": "display_data"
    },
    {
     "data": {
      "application/vnd.holoviews_exec.v0+json": "",
      "text/html": [
       "<div id='7997'>\n",
       "\n",
       "\n",
       "\n",
       "\n",
       "\n",
       "  <div class=\"bk-root\" id=\"79f0ccb2-0af8-40a0-a939-cd8e1c4a2c82\" data-root-id=\"7997\"></div>\n",
       "</div>\n",
       "<script type=\"application/javascript\">(function(root) {\n",
       "  function embed_document(root) {\n",
       "  var docs_json = {\"31349201-cba5-411b-a0dc-facb70713683\":{\"roots\":{\"references\":[{\"attributes\":{\"data_source\":{\"id\":\"8254\"},\"glyph\":{\"id\":\"8257\"},\"hover_glyph\":null,\"muted_glyph\":{\"id\":\"8259\"},\"nonselection_glyph\":{\"id\":\"8258\"},\"selection_glyph\":null,\"view\":{\"id\":\"8261\"}},\"id\":\"8260\",\"type\":\"GlyphRenderer\"},{\"attributes\":{\"label\":{\"value\":\"New Cases\"},\"renderers\":[{\"id\":\"8045\"}]},\"id\":\"8068\",\"type\":\"LegendItem\"},{\"attributes\":{},\"id\":\"8021\",\"type\":\"SaveTool\"},{\"attributes\":{},\"id\":\"8040\",\"type\":\"Selection\"},{\"attributes\":{\"data\":{\"Variable\":[\"New Cases\",\"New Cases\",\"New Cases\",\"New Cases\",\"New Cases\",\"New Cases\",\"New Cases\",\"New Cases\",\"New Cases\",\"New Cases\",\"New Cases\",\"New Cases\",\"New Cases\",\"New Cases\",\"New Cases\",\"New Cases\",\"New Cases\",\"New Cases\",\"New Cases\",\"New Cases\",\"New Cases\",\"New Cases\",\"New Cases\",\"New Cases\",\"New Cases\",\"New Cases\",\"New Cases\",\"New Cases\",\"New Cases\",\"New Cases\",\"New Cases\",\"New Cases\",\"New Cases\",\"New Cases\",\"New Cases\",\"New Cases\",\"New Cases\",\"New Cases\",\"New Cases\",\"New Cases\",\"New Cases\",\"New Cases\",\"New Cases\",\"New Cases\",\"New Cases\",\"New Cases\",\"New Cases\",\"New Cases\",\"New Cases\",\"New Cases\",\"New Cases\",\"New Cases\",\"New Cases\",\"New Cases\",\"New Cases\",\"New Cases\",\"New Cases\",\"New Cases\",\"New Cases\",\"New Cases\",\"New Cases\",\"New Cases\",\"New Cases\",\"New Cases\",\"New Cases\",\"New Cases\",\"New Cases\",\"New Cases\",\"New Cases\",\"New Cases\",\"New Cases\",\"New Cases\",\"New Cases\",\"New Cases\",\"New Cases\",\"New Cases\",\"New Cases\",\"New Cases\",\"New Cases\",\"New Cases\",\"New Cases\",\"New Cases\",\"New Cases\",\"New Cases\",\"New Cases\",\"New Cases\",\"New Cases\",\"New Cases\",\"New Cases\",\"New Cases\",\"New Cases\",\"New Cases\",\"New Cases\",\"New Cases\",\"New Cases\",\"New Cases\",\"New Cases\",\"New Cases\",\"New Cases\",\"New Cases\",\"New Cases\",\"New Cases\",\"New Cases\",\"New Cases\",\"New Cases\",\"New Cases\",\"New Cases\",\"New Cases\",\"New Cases\",\"New Cases\",\"New Cases\",\"New Cases\",\"New Cases\",\"New Cases\",\"New Cases\",\"New Cases\",\"New Cases\",\"New Cases\",\"New Cases\",\"New Cases\",\"New Cases\",\"New Cases\",\"New Cases\",\"New Cases\",\"New Cases\",\"New Cases\",\"New Cases\",\"New Cases\",\"New Cases\",\"New Cases\",\"New Cases\",\"New Cases\",\"New Cases\",\"New Cases\",\"New Cases\",\"New Cases\",\"New Cases\",\"New Cases\",\"New Cases\",\"New Cases\",\"New Cases\",\"New Cases\",\"New Cases\",\"New Cases\",\"New Cases\",\"New Cases\",\"New Cases\",\"New Cases\",\"New Cases\",\"New Cases\",\"New Cases\",\"New Cases\",\"New Cases\",\"New Cases\",\"New Cases\",\"New Cases\",\"New Cases\",\"New Cases\",\"New Cases\",\"New Cases\",\"New Cases\",\"New Cases\",\"New Cases\",\"New Cases\",\"New Cases\",\"New Cases\",\"New Cases\",\"New Cases\",\"New Cases\",\"New Cases\",\"New Cases\",\"New Cases\",\"New Cases\",\"New Cases\",\"New Cases\",\"New Cases\",\"New Cases\",\"New Cases\",\"New Cases\",\"New Cases\",\"New Cases\",\"New Cases\",\"New Cases\",\"New Cases\",\"New Cases\",\"New Cases\",\"New Cases\",\"New Cases\"],\"index\":{\"__ndarray__\":\"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\",\"dtype\":\"float64\",\"order\":\"little\",\"shape\":[188]},\"value\":{\"__ndarray__\":\"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\",\"dtype\":\"float64\",\"order\":\"little\",\"shape\":[188]}},\"selected\":{\"id\":\"8040\"},\"selection_policy\":{\"id\":\"8054\"}},\"id\":\"8039\",\"type\":\"ColumnDataSource\"},{\"attributes\":{\"source\":{\"id\":\"8254\"}},\"id\":\"8261\",\"type\":\"CDSView\"},{\"attributes\":{},\"id\":\"8025\",\"type\":\"ResetTool\"},{\"attributes\":{\"margin\":[5,5,5,5],\"name\":\"HSpacer16721\",\"sizing_mode\":\"stretch_width\"},\"id\":\"8478\",\"type\":\"Spacer\"},{\"attributes\":{\"end\":1604016000000.0,\"reset_end\":1604016000000.0,\"reset_start\":1578614400000.0,\"start\":1578614400000.0,\"tags\":[[[\"index\",\"index\",null]]]},\"id\":\"7999\",\"type\":\"Range1d\"},{\"attributes\":{\"line_alpha\":0.2,\"line_color\":\"#ff7e0e\",\"line_width\":2,\"x\":{\"field\":\"index\"},\"y\":{\"field\":\"value\"}},\"id\":\"8074\",\"type\":\"Line\"},{\"attributes\":{\"line_alpha\":0.2,\"line_color\":\"#2ba02b\",\"line_width\":2,\"x\":{\"field\":\"CERB Week End\"},\"y\":{\"field\":\"Total Paid CAD\"}},\"id\":\"8259\",\"type\":\"Line\"},{\"attributes\":{\"axis\":{\"id\":\"8017\"},\"dimension\":1,\"grid_line_color\":null,\"ticker\":null},\"id\":\"8020\",\"type\":\"Grid\"},{\"attributes\":{},\"id\":\"8273\",\"type\":\"UnionRenderers\"},{\"attributes\":{},\"id\":\"8036\",\"type\":\"DatetimeTickFormatter\"},{\"attributes\":{},\"id\":\"8054\",\"type\":\"UnionRenderers\"},{\"attributes\":{\"data_source\":{\"id\":\"8039\"},\"glyph\":{\"id\":\"8042\"},\"hover_glyph\":null,\"muted_glyph\":{\"id\":\"8044\"},\"nonselection_glyph\":{\"id\":\"8043\"},\"selection_glyph\":null,\"view\":{\"id\":\"8046\"}},\"id\":\"8045\",\"type\":\"GlyphRenderer\"},{\"attributes\":{\"click_policy\":\"mute\",\"items\":[{\"id\":\"8068\"},{\"id\":\"8099\"}],\"location\":[0,0]},\"id\":\"8067\",\"type\":\"Legend\"},{\"attributes\":{\"overlay\":{\"id\":\"8026\"}},\"id\":\"8024\",\"type\":\"BoxZoomTool\"},{\"attributes\":{\"line_alpha\":0.1,\"line_color\":\"#ff7e0e\",\"line_width\":2,\"x\":{\"field\":\"index\"},\"y\":{\"field\":\"value\"}},\"id\":\"8073\",\"type\":\"Line\"},{\"attributes\":{\"axis_label\":\"\",\"bounds\":\"auto\",\"formatter\":{\"id\":\"8036\"},\"major_label_orientation\":\"horizontal\",\"ticker\":{\"id\":\"8014\"}},\"id\":\"8013\",\"type\":\"DatetimeAxis\"},{\"attributes\":{\"base\":24,\"mantissas\":[1,2,4,6,8,12],\"max_interval\":43200000.0,\"min_interval\":3600000.0,\"num_minor_ticks\":0},\"id\":\"8057\",\"type\":\"AdaptiveTicker\"},{\"attributes\":{\"line_alpha\":0.2,\"line_color\":\"#1f77b3\",\"line_width\":2,\"x\":{\"field\":\"index\"},\"y\":{\"field\":\"value\"}},\"id\":\"8044\",\"type\":\"Line\"},{\"attributes\":{\"base\":60,\"mantissas\":[1,2,5,10,15,20,30],\"max_interval\":1800000.0,\"min_interval\":1000.0,\"num_minor_ticks\":0},\"id\":\"8056\",\"type\":\"AdaptiveTicker\"},{\"attributes\":{},\"id\":\"8022\",\"type\":\"PanTool\"},{\"attributes\":{\"label\":{\"value\":\"Price\"},\"renderers\":[{\"id\":\"8075\"}]},\"id\":\"8099\",\"type\":\"LegendItem\"},{\"attributes\":{\"bottom_units\":\"screen\",\"fill_alpha\":0.5,\"fill_color\":\"lightgrey\",\"left_units\":\"screen\",\"level\":\"overlay\",\"line_alpha\":1.0,\"line_color\":\"black\",\"line_dash\":[4,4],\"line_width\":2,\"right_units\":\"screen\",\"top_units\":\"screen\"},\"id\":\"8026\",\"type\":\"BoxAnnotation\"},{\"attributes\":{},\"id\":\"8009\",\"type\":\"LinearScale\"},{\"attributes\":{},\"id\":\"8255\",\"type\":\"Selection\"},{\"attributes\":{\"line_alpha\":0.1,\"line_color\":\"#1f77b3\",\"line_width\":2,\"x\":{\"field\":\"index\"},\"y\":{\"field\":\"value\"}},\"id\":\"8043\",\"type\":\"Line\"},{\"attributes\":{\"num_minor_ticks\":5,\"tickers\":[{\"id\":\"8055\"},{\"id\":\"8056\"},{\"id\":\"8057\"},{\"id\":\"8058\"},{\"id\":\"8059\"},{\"id\":\"8060\"},{\"id\":\"8061\"},{\"id\":\"8062\"},{\"id\":\"8063\"},{\"id\":\"8064\"},{\"id\":\"8065\"},{\"id\":\"8066\"}]},\"id\":\"8014\",\"type\":\"DatetimeTicker\"},{\"attributes\":{\"axis_label\":\"\",\"bounds\":\"auto\",\"formatter\":{\"id\":\"8038\"},\"major_label_orientation\":\"horizontal\",\"ticker\":{\"id\":\"8018\"}},\"id\":\"8017\",\"type\":\"LinearAxis\"},{\"attributes\":{},\"id\":\"8038\",\"type\":\"BasicTickFormatter\"},{\"attributes\":{\"source\":{\"id\":\"8039\"}},\"id\":\"8046\",\"type\":\"CDSView\"},{\"attributes\":{},\"id\":\"8086\",\"type\":\"UnionRenderers\"},{\"attributes\":{\"axis\":{\"id\":\"8013\"},\"grid_line_color\":null,\"ticker\":null},\"id\":\"8016\",\"type\":\"Grid\"},{\"attributes\":{\"days\":[1,8,15,22]},\"id\":\"8060\",\"type\":\"DaysTicker\"},{\"attributes\":{\"data\":{\"CERB Week End\":{\"__ndarray__\":\"AADA9VYYd0IAAAC+lxp3QgAAQB0iHndCAADAfxAgd0IAAMCtoyJ3QgAAQBCSJHdCAACA2NImd0IAAMCgEyl3QgAAAGlUK3dCAABAMZUtd0IAAID51S93QgAAwMEWMndCAAAAilc0d0IAAEBSmDZ3QgAAgBrZOHdCAADA4hk7d0IAAACrWj13QgAAQHObP3dCAACAO9xBd0IAAMADHUR3QgAAAMxdRndCAABAlJ5Id0IAAIBc30p3QgAAwCQgTXdCAAAA7WBPd0I=\",\"dtype\":\"float64\",\"order\":\"little\",\"shape\":[25]},\"CERB_Week_End\":{\"__ndarray__\":\"AADA9VYYd0IAAAC+lxp3QgAAQB0iHndCAADAfxAgd0IAAMCtoyJ3QgAAQBCSJHdCAACA2NImd0IAAMCgEyl3QgAAAGlUK3dCAABAMZUtd0IAAID51S93QgAAwMEWMndCAAAAilc0d0IAAEBSmDZ3QgAAgBrZOHdCAADA4hk7d0IAAACrWj13QgAAQHObP3dCAACAO9xBd0IAAMADHUR3QgAAAMxdRndCAABAlJ5Id0IAAIBc30p3QgAAwCQgTXdCAAAA7WBPd0I=\",\"dtype\":\"float64\",\"order\":\"little\",\"shape\":[25]},\"Total Paid CAD\":{\"__ndarray__\":\"4XoUrkfBaEAAAAAAAFBuQDMzMzMz23FAhetRuB4Nc0CamZmZmQF4QM3MzMzMNHlACtejcD2eekAK16NwPeZ7QGZmZmZmZn9A7FG4HoVLgEAK16NwPbqAQClcj8L1HoFAKVyPwvWQgkDNzMzMzCSDQAAAAAAAnINAzczMzMwUhEDNzMzMzGSFQGZmZmZm4oVAAAAAAABEhkAAAAAAAKyGQGZmZmZm4odAMzMzMzNfiEAAAAAAAMiIQJqZmZmZMYlAMzMzMzODiUA=\",\"dtype\":\"float64\",\"order\":\"little\",\"shape\":[25]},\"Total_Paid_CAD\":{\"__ndarray__\":\"4XoUrkfBaEAAAAAAAFBuQDMzMzMz23FAhetRuB4Nc0CamZmZmQF4QM3MzMzMNHlACtejcD2eekAK16NwPeZ7QGZmZmZmZn9A7FG4HoVLgEAK16NwPbqAQClcj8L1HoFAKVyPwvWQgkDNzMzMzCSDQAAAAAAAnINAzczMzMwUhEDNzMzMzGSFQGZmZmZm4oVAAAAAAABEhkAAAAAAAKyGQGZmZmZm4odAMzMzMzNfiEAAAAAAAMiIQJqZmZmZMYlAMzMzMzODiUA=\",\"dtype\":\"float64\",\"order\":\"little\",\"shape\":[25]}},\"selected\":{\"id\":\"8255\"},\"selection_policy\":{\"id\":\"8273\"}},\"id\":\"8254\",\"type\":\"ColumnDataSource\"},{\"attributes\":{\"mantissas\":[1,2,5],\"max_interval\":500.0,\"num_minor_ticks\":0},\"id\":\"8055\",\"type\":\"AdaptiveTicker\"},{\"attributes\":{\"line_color\":\"#ff7e0e\",\"line_width\":2,\"x\":{\"field\":\"index\"},\"y\":{\"field\":\"value\"}},\"id\":\"8072\",\"type\":\"Line\"},{\"attributes\":{\"text\":\"\",\"text_color\":{\"value\":\"black\"},\"text_font_size\":{\"value\":\"12pt\"}},\"id\":\"8005\",\"type\":\"Title\"},{\"attributes\":{},\"id\":\"8011\",\"type\":\"LinearScale\"},{\"attributes\":{\"months\":[0,1,2,3,4,5,6,7,8,9,10,11]},\"id\":\"8062\",\"type\":\"MonthsTicker\"},{\"attributes\":{\"data_source\":{\"id\":\"8069\"},\"glyph\":{\"id\":\"8072\"},\"hover_glyph\":null,\"muted_glyph\":{\"id\":\"8074\"},\"nonselection_glyph\":{\"id\":\"8073\"},\"selection_glyph\":null,\"view\":{\"id\":\"8076\"}},\"id\":\"8075\",\"type\":\"GlyphRenderer\"},{\"attributes\":{\"days\":[1,15]},\"id\":\"8061\",\"type\":\"DaysTicker\"},{\"attributes\":{\"days\":[1,2,3,4,5,6,7,8,9,10,11,12,13,14,15,16,17,18,19,20,21,22,23,24,25,26,27,28,29,30,31]},\"id\":\"8058\",\"type\":\"DaysTicker\"},{\"attributes\":{\"margin\":[5,5,5,5],\"name\":\"HSpacer16720\",\"sizing_mode\":\"stretch_width\"},\"id\":\"7998\",\"type\":\"Spacer\"},{\"attributes\":{},\"id\":\"8018\",\"type\":\"BasicTicker\"},{\"attributes\":{\"source\":{\"id\":\"8069\"}},\"id\":\"8076\",\"type\":\"CDSView\"},{\"attributes\":{\"days\":[1,4,7,10,13,16,19,22,25,28]},\"id\":\"8059\",\"type\":\"DaysTicker\"},{\"attributes\":{\"months\":[0,2,4,6,8,10]},\"id\":\"8063\",\"type\":\"MonthsTicker\"},{\"attributes\":{\"callback\":null,\"formatters\":{\"@{index}\":\"datetime\"},\"renderers\":[{\"id\":\"8045\"},{\"id\":\"8075\"}],\"tags\":[\"hv_created\"],\"tooltips\":[[\"Variable\",\"@{Variable}\"],[\"index\",\"@{index}{%F %T}\"],[\"value\",\"@{value}\"]]},\"id\":\"8001\",\"type\":\"HoverTool\"},{\"attributes\":{\"active_drag\":\"auto\",\"active_inspect\":\"auto\",\"active_multi\":null,\"active_scroll\":\"auto\",\"active_tap\":\"auto\",\"tools\":[{\"id\":\"8001\"},{\"id\":\"8003\"},{\"id\":\"8021\"},{\"id\":\"8022\"},{\"id\":\"8023\"},{\"id\":\"8024\"},{\"id\":\"8025\"}]},\"id\":\"8027\",\"type\":\"Toolbar\"},{\"attributes\":{\"data\":{\"Variable\":[\"Price\",\"Price\",\"Price\",\"Price\",\"Price\",\"Price\",\"Price\",\"Price\",\"Price\",\"Price\",\"Price\",\"Price\",\"Price\",\"Price\",\"Price\",\"Price\",\"Price\",\"Price\",\"Price\",\"Price\",\"Price\",\"Price\",\"Price\",\"Price\",\"Price\",\"Price\",\"Price\",\"Price\",\"Price\",\"Price\",\"Price\",\"Price\",\"Price\",\"Price\",\"Price\",\"Price\",\"Price\",\"Price\",\"Price\",\"Price\",\"Price\",\"Price\",\"Price\",\"Price\",\"Price\",\"Price\",\"Price\",\"Price\",\"Price\",\"Price\",\"Price\",\"Price\",\"Price\",\"Price\",\"Price\",\"Price\",\"Price\",\"Price\",\"Price\",\"Price\",\"Price\",\"Price\",\"Price\",\"Price\",\"Price\",\"Price\",\"Price\",\"Price\",\"Price\",\"Price\",\"Price\",\"Price\",\"Price\",\"Price\",\"Price\",\"Price\",\"Price\",\"Price\",\"Price\",\"Price\",\"Price\",\"Price\",\"Price\",\"Price\",\"Price\",\"Price\",\"Price\",\"Price\",\"Price\",\"Price\",\"Price\",\"Price\",\"Price\",\"Price\",\"Price\",\"Price\",\"Price\",\"Price\",\"Price\",\"Price\",\"Price\",\"Price\",\"Price\",\"Price\",\"Price\",\"Price\",\"Price\",\"Price\",\"Price\",\"Price\",\"Price\",\"Price\",\"Price\",\"Price\",\"Price\",\"Price\",\"Price\",\"Price\",\"Price\",\"Price\",\"Price\",\"Price\",\"Price\",\"Price\",\"Price\",\"Price\",\"Price\",\"Price\",\"Price\",\"Price\",\"Price\",\"Price\",\"Price\",\"Price\",\"Price\",\"Price\",\"Price\",\"Price\",\"Price\",\"Price\",\"Price\",\"Price\",\"Price\",\"Price\",\"Price\",\"Price\",\"Price\",\"Price\",\"Price\",\"Price\",\"Price\",\"Price\",\"Price\",\"Price\",\"Price\",\"Price\",\"Price\",\"Price\",\"Price\",\"Price\",\"Price\",\"Price\",\"Price\",\"Price\",\"Price\",\"Price\",\"Price\",\"Price\",\"Price\",\"Price\",\"Price\",\"Price\",\"Price\",\"Price\",\"Price\",\"Price\",\"Price\",\"Price\",\"Price\",\"Price\",\"Price\",\"Price\",\"Price\",\"Price\",\"Price\",\"Price\",\"Price\",\"Price\"],\"index\":{\"__ndarray__\":\"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\",\"dtype\":\"float64\",\"order\":\"little\",\"shape\":[188]},\"value\":{\"__ndarray__\":\"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\",\"dtype\":\"float64\",\"order\":\"little\",\"shape\":[188]}},\"selected\":{\"id\":\"8070\"},\"selection_policy\":{\"id\":\"8086\"}},\"id\":\"8069\",\"type\":\"ColumnDataSource\"},{\"attributes\":{\"months\":[0,4,8]},\"id\":\"8064\",\"type\":\"MonthsTicker\"},{\"attributes\":{\"line_color\":\"#2ba02b\",\"line_width\":2,\"x\":{\"field\":\"CERB Week End\"},\"y\":{\"field\":\"Total Paid CAD\"}},\"id\":\"8257\",\"type\":\"Line\"},{\"attributes\":{},\"id\":\"8070\",\"type\":\"Selection\"},{\"attributes\":{\"below\":[{\"id\":\"8013\"}],\"center\":[{\"id\":\"8016\"},{\"id\":\"8020\"}],\"left\":[{\"id\":\"8017\"}],\"margin\":null,\"min_border_bottom\":10,\"min_border_left\":10,\"min_border_right\":10,\"min_border_top\":10,\"plot_height\":300,\"plot_width\":700,\"renderers\":[{\"id\":\"8045\"},{\"id\":\"8075\"},{\"id\":\"8260\"}],\"right\":[{\"id\":\"8067\"}],\"sizing_mode\":\"fixed\",\"title\":{\"id\":\"8005\"},\"toolbar\":{\"id\":\"8027\"},\"x_range\":{\"id\":\"7999\"},\"x_scale\":{\"id\":\"8009\"},\"y_range\":{\"id\":\"8000\"},\"y_scale\":{\"id\":\"8011\"}},\"id\":\"8004\",\"subtype\":\"Figure\",\"type\":\"Plot\"},{\"attributes\":{\"months\":[0,6]},\"id\":\"8065\",\"type\":\"MonthsTicker\"},{\"attributes\":{},\"id\":\"8066\",\"type\":\"YearsTicker\"},{\"attributes\":{\"end\":1176.1856666666667,\"reset_end\":1176.1856666666667,\"reset_start\":-106.56233333333334,\"start\":-106.56233333333334,\"tags\":[[[\"value\",\"value\",null]]]},\"id\":\"8000\",\"type\":\"Range1d\"},{\"attributes\":{\"callback\":null,\"formatters\":{\"@{CERB Week End}\":\"datetime\",\"@{CERB_Week_End}\":\"datetime\"},\"renderers\":[{\"id\":\"8260\"}],\"tags\":[\"hv_created\"],\"tooltips\":[[\"CERB Week End\",\"@{CERB_Week_End}{%F %T}\"],[\"Total Paid CAD\",\"@{Total_Paid_CAD}\"]]},\"id\":\"8003\",\"type\":\"HoverTool\"},{\"attributes\":{\"line_color\":\"#1f77b3\",\"line_width\":2,\"x\":{\"field\":\"index\"},\"y\":{\"field\":\"value\"}},\"id\":\"8042\",\"type\":\"Line\"},{\"attributes\":{\"children\":[{\"id\":\"7998\"},{\"id\":\"8004\"},{\"id\":\"8478\"}],\"margin\":[0,0,0,0],\"name\":\"Row16716\",\"tags\":[\"embedded\"]},\"id\":\"7997\",\"type\":\"Row\"},{\"attributes\":{},\"id\":\"8023\",\"type\":\"WheelZoomTool\"},{\"attributes\":{\"line_alpha\":0.1,\"line_color\":\"#2ba02b\",\"line_width\":2,\"x\":{\"field\":\"CERB Week End\"},\"y\":{\"field\":\"Total Paid CAD\"}},\"id\":\"8258\",\"type\":\"Line\"}],\"root_ids\":[\"7997\"]},\"title\":\"Bokeh Application\",\"version\":\"2.2.3\"}};\n",
       "  var render_items = [{\"docid\":\"31349201-cba5-411b-a0dc-facb70713683\",\"root_ids\":[\"7997\"],\"roots\":{\"7997\":\"79f0ccb2-0af8-40a0-a939-cd8e1c4a2c82\"}}];\n",
       "  root.Bokeh.embed.embed_items_notebook(docs_json, render_items);\n",
       "  }\n",
       "if (root.Bokeh !== undefined) {\n",
       "    embed_document(root);\n",
       "  } else {\n",
       "    var attempts = 0;\n",
       "    var timer = setInterval(function(root) {\n",
       "      if (root.Bokeh !== undefined) {\n",
       "        clearInterval(timer);\n",
       "        embed_document(root);\n",
       "      } else if (document.readyState == \"complete\") {\n",
       "        attempts++;\n",
       "        if (attempts > 100) {\n",
       "          clearInterval(timer);\n",
       "          console.log(\"Bokeh: ERROR: Unable to run BokehJS code because BokehJS library is missing\");\n",
       "        }\n",
       "      }\n",
       "    }, 10, root)\n",
       "  }\n",
       "})(window);</script>"
      ],
      "text/plain": [
       ":Overlay\n",
       "   .NdOverlay.I :NdOverlay   [Variable]\n",
       "      :Curve   [index]   (value)\n",
       "   .Curve.I     :Curve   [CERB Week End]   (Total Paid CAD)"
      ]
     },
     "execution_count": 363,
     "metadata": {
      "application/vnd.holoviews_exec.v0+json": {
       "id": "7997"
      }
     },
     "output_type": "execute_result"
    }
   ],
   "source": [
    "tsx_cov_fig * cerbfig"
   ]
  },
  {
   "cell_type": "code",
   "execution_count": 360,
   "metadata": {},
   "outputs": [
    {
     "data": {},
     "metadata": {},
     "output_type": "display_data"
    },
    {
     "data": {
      "application/vnd.holoviews_exec.v0+json": "",
      "text/html": [
       "<div id='7205'>\n",
       "\n",
       "\n",
       "\n",
       "\n",
       "\n",
       "  <div class=\"bk-root\" id=\"4fc07ab3-d160-4e9e-b043-8e655afb1ef8\" data-root-id=\"7205\"></div>\n",
       "</div>\n",
       "<script type=\"application/javascript\">(function(root) {\n",
       "  function embed_document(root) {\n",
       "  var docs_json = {\"a73c6eac-069f-4b9b-b860-cb950bdf4611\":{\"roots\":{\"references\":[{\"attributes\":{\"text\":\"\",\"text_color\":{\"value\":\"black\"},\"text_font_size\":{\"value\":\"12pt\"}},\"id\":\"7213\",\"type\":\"Title\"},{\"attributes\":{\"label\":{\"value\":\"Price\"},\"renderers\":[{\"id\":\"7283\"}]},\"id\":\"7307\",\"type\":\"LegendItem\"},{\"attributes\":{},\"id\":\"7246\",\"type\":\"BasicTickFormatter\"},{\"attributes\":{},\"id\":\"7294\",\"type\":\"UnionRenderers\"},{\"attributes\":{\"line_color\":\"#ff7e0e\",\"line_width\":2,\"x\":{\"field\":\"index\"},\"y\":{\"field\":\"value\"}},\"id\":\"7280\",\"type\":\"Line\"},{\"attributes\":{\"bottom_units\":\"screen\",\"fill_alpha\":0.5,\"fill_color\":\"lightgrey\",\"left_units\":\"screen\",\"level\":\"overlay\",\"line_alpha\":1.0,\"line_color\":\"black\",\"line_dash\":[4,4],\"line_width\":2,\"right_units\":\"screen\",\"top_units\":\"screen\"},\"id\":\"7234\",\"type\":\"BoxAnnotation\"},{\"attributes\":{\"click_policy\":\"mute\",\"items\":[{\"id\":\"7276\"},{\"id\":\"7307\"}],\"location\":[0,0]},\"id\":\"7275\",\"type\":\"Legend\"},{\"attributes\":{\"margin\":[5,5,5,5],\"name\":\"HSpacer15938\",\"sizing_mode\":\"stretch_width\"},\"id\":\"7686\",\"type\":\"Spacer\"},{\"attributes\":{\"months\":[0,1,2,3,4,5,6,7,8,9,10,11]},\"id\":\"7270\",\"type\":\"MonthsTicker\"},{\"attributes\":{\"data\":{\"Variable\":[\"Price\",\"Price\",\"Price\",\"Price\",\"Price\",\"Price\",\"Price\",\"Price\",\"Price\",\"Price\",\"Price\",\"Price\",\"Price\",\"Price\",\"Price\",\"Price\",\"Price\",\"Price\",\"Price\",\"Price\",\"Price\",\"Price\",\"Price\",\"Price\",\"Price\",\"Price\",\"Price\",\"Price\",\"Price\",\"Price\",\"Price\",\"Price\",\"Price\",\"Price\",\"Price\",\"Price\",\"Price\",\"Price\",\"Price\",\"Price\",\"Price\",\"Price\",\"Price\",\"Price\",\"Price\",\"Price\",\"Price\",\"Price\",\"Price\",\"Price\",\"Price\",\"Price\",\"Price\",\"Price\",\"Price\",\"Price\",\"Price\",\"Price\",\"Price\",\"Price\",\"Price\",\"Price\",\"Price\",\"Price\",\"Price\",\"Price\",\"Price\",\"Price\",\"Price\",\"Price\",\"Price\",\"Price\",\"Price\",\"Price\",\"Price\",\"Price\",\"Price\",\"Price\",\"Price\",\"Price\",\"Price\",\"Price\",\"Price\",\"Price\",\"Price\",\"Price\",\"Price\",\"Price\",\"Price\",\"Price\",\"Price\",\"Price\",\"Price\",\"Price\",\"Price\",\"Price\",\"Price\",\"Price\",\"Price\",\"Price\",\"Price\",\"Price\",\"Price\",\"Price\",\"Price\",\"Price\",\"Price\",\"Price\",\"Price\",\"Price\",\"Price\",\"Price\",\"Price\",\"Price\",\"Price\",\"Price\",\"Price\",\"Price\",\"Price\",\"Price\",\"Price\",\"Price\",\"Price\",\"Price\",\"Price\",\"Price\",\"Price\",\"Price\",\"Price\",\"Price\",\"Price\",\"Price\",\"Price\",\"Price\",\"Price\",\"Price\",\"Price\",\"Price\",\"Price\",\"Price\",\"Price\",\"Price\",\"Price\",\"Price\",\"Price\",\"Price\",\"Price\",\"Price\",\"Price\",\"Price\",\"Price\",\"Price\",\"Price\",\"Price\",\"Price\",\"Price\",\"Price\",\"Price\",\"Price\",\"Price\",\"Price\",\"Price\",\"Price\",\"Price\",\"Price\",\"Price\",\"Price\",\"Price\",\"Price\",\"Price\",\"Price\",\"Price\",\"Price\",\"Price\",\"Price\",\"Price\",\"Price\",\"Price\",\"Price\",\"Price\",\"Price\",\"Price\",\"Price\",\"Price\",\"Price\",\"Price\",\"Price\",\"Price\"],\"index\":{\"__ndarray__\":\"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\",\"dtype\":\"float64\",\"order\":\"little\",\"shape\":[188]},\"value\":{\"__ndarray__\":\"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\",\"dtype\":\"float64\",\"order\":\"little\",\"shape\":[188]}},\"selected\":{\"id\":\"7278\"},\"selection_policy\":{\"id\":\"7294\"}},\"id\":\"7277\",\"type\":\"ColumnDataSource\"},{\"attributes\":{\"label\":{\"value\":\"New Cases\"},\"renderers\":[{\"id\":\"7253\"}]},\"id\":\"7276\",\"type\":\"LegendItem\"},{\"attributes\":{},\"id\":\"7463\",\"type\":\"Selection\"},{\"attributes\":{},\"id\":\"7278\",\"type\":\"Selection\"},{\"attributes\":{\"overlay\":{\"id\":\"7234\"}},\"id\":\"7232\",\"type\":\"BoxZoomTool\"},{\"attributes\":{},\"id\":\"7233\",\"type\":\"ResetTool\"},{\"attributes\":{\"line_alpha\":0.1,\"line_color\":\"#2ba02b\",\"line_width\":2,\"x\":{\"field\":\"CERB Week End\"},\"y\":{\"field\":\"Total Paid CAD\"}},\"id\":\"7466\",\"type\":\"Line\"},{\"attributes\":{},\"id\":\"7274\",\"type\":\"YearsTicker\"},{\"attributes\":{\"children\":[{\"id\":\"7206\"},{\"id\":\"7212\"},{\"id\":\"7686\"}],\"margin\":[0,0,0,0],\"name\":\"Row15933\",\"tags\":[\"embedded\"]},\"id\":\"7205\",\"type\":\"Row\"},{\"attributes\":{\"data_source\":{\"id\":\"7247\"},\"glyph\":{\"id\":\"7250\"},\"hover_glyph\":null,\"muted_glyph\":{\"id\":\"7252\"},\"nonselection_glyph\":{\"id\":\"7251\"},\"selection_glyph\":null,\"view\":{\"id\":\"7254\"}},\"id\":\"7253\",\"type\":\"GlyphRenderer\"},{\"attributes\":{\"line_alpha\":0.2,\"line_color\":\"#2ba02b\",\"line_width\":2,\"x\":{\"field\":\"CERB Week End\"},\"y\":{\"field\":\"Total Paid CAD\"}},\"id\":\"7467\",\"type\":\"Line\"},{\"attributes\":{},\"id\":\"7230\",\"type\":\"PanTool\"},{\"attributes\":{\"line_color\":\"#2ba02b\",\"line_width\":2,\"x\":{\"field\":\"CERB Week End\"},\"y\":{\"field\":\"Total Paid CAD\"}},\"id\":\"7465\",\"type\":\"Line\"},{\"attributes\":{\"months\":[0,2,4,6,8,10]},\"id\":\"7271\",\"type\":\"MonthsTicker\"},{\"attributes\":{\"callback\":null,\"formatters\":{\"@{CERB Week End}\":\"datetime\",\"@{CERB_Week_End}\":\"datetime\"},\"renderers\":[{\"id\":\"7468\"}],\"tags\":[\"hv_created\"],\"tooltips\":[[\"CERB Week End\",\"@{CERB_Week_End}{%F %T}\"],[\"Total Paid CAD\",\"@{Total_Paid_CAD}\"]]},\"id\":\"7211\",\"type\":\"HoverTool\"},{\"attributes\":{\"source\":{\"id\":\"7277\"}},\"id\":\"7284\",\"type\":\"CDSView\"},{\"attributes\":{\"data_source\":{\"id\":\"7462\"},\"glyph\":{\"id\":\"7465\"},\"hover_glyph\":null,\"muted_glyph\":{\"id\":\"7467\"},\"nonselection_glyph\":{\"id\":\"7466\"},\"selection_glyph\":null,\"view\":{\"id\":\"7469\"}},\"id\":\"7468\",\"type\":\"GlyphRenderer\"},{\"attributes\":{\"num_minor_ticks\":5,\"tickers\":[{\"id\":\"7263\"},{\"id\":\"7264\"},{\"id\":\"7265\"},{\"id\":\"7266\"},{\"id\":\"7267\"},{\"id\":\"7268\"},{\"id\":\"7269\"},{\"id\":\"7270\"},{\"id\":\"7271\"},{\"id\":\"7272\"},{\"id\":\"7273\"},{\"id\":\"7274\"}]},\"id\":\"7222\",\"type\":\"DatetimeTicker\"},{\"attributes\":{\"active_drag\":\"auto\",\"active_inspect\":\"auto\",\"active_multi\":null,\"active_scroll\":\"auto\",\"active_tap\":\"auto\",\"tools\":[{\"id\":\"7209\"},{\"id\":\"7211\"},{\"id\":\"7229\"},{\"id\":\"7230\"},{\"id\":\"7231\"},{\"id\":\"7232\"},{\"id\":\"7233\"}]},\"id\":\"7235\",\"type\":\"Toolbar\"},{\"attributes\":{\"months\":[0,4,8]},\"id\":\"7272\",\"type\":\"MonthsTicker\"},{\"attributes\":{\"line_alpha\":0.2,\"line_color\":\"#1f77b3\",\"line_width\":2,\"x\":{\"field\":\"index\"},\"y\":{\"field\":\"value\"}},\"id\":\"7252\",\"type\":\"Line\"},{\"attributes\":{\"source\":{\"id\":\"7462\"}},\"id\":\"7469\",\"type\":\"CDSView\"},{\"attributes\":{\"below\":[{\"id\":\"7221\"}],\"center\":[{\"id\":\"7224\"},{\"id\":\"7228\"}],\"left\":[{\"id\":\"7225\"}],\"margin\":null,\"min_border_bottom\":10,\"min_border_left\":10,\"min_border_right\":10,\"min_border_top\":10,\"plot_height\":300,\"plot_width\":700,\"renderers\":[{\"id\":\"7253\"},{\"id\":\"7283\"},{\"id\":\"7468\"}],\"right\":[{\"id\":\"7275\"}],\"sizing_mode\":\"fixed\",\"title\":{\"id\":\"7213\"},\"toolbar\":{\"id\":\"7235\"},\"x_range\":{\"id\":\"7207\"},\"x_scale\":{\"id\":\"7217\"},\"y_range\":{\"id\":\"7208\"},\"y_scale\":{\"id\":\"7219\"}},\"id\":\"7212\",\"subtype\":\"Figure\",\"type\":\"Plot\"},{\"attributes\":{},\"id\":\"7262\",\"type\":\"UnionRenderers\"},{\"attributes\":{\"months\":[0,6]},\"id\":\"7273\",\"type\":\"MonthsTicker\"},{\"attributes\":{\"data\":{\"CERB Week End\":{\"__ndarray__\":\"AADA9VYYd0IAAAC+lxp3QgAAQB0iHndCAADAfxAgd0IAAMCtoyJ3QgAAQBCSJHdCAACA2NImd0IAAMCgEyl3QgAAAGlUK3dCAABAMZUtd0IAAID51S93QgAAwMEWMndCAAAAilc0d0IAAEBSmDZ3QgAAgBrZOHdCAADA4hk7d0IAAACrWj13QgAAQHObP3dCAACAO9xBd0IAAMADHUR3QgAAAMxdRndCAABAlJ5Id0IAAIBc30p3QgAAwCQgTXdCAAAA7WBPd0I=\",\"dtype\":\"float64\",\"order\":\"little\",\"shape\":[25]},\"CERB_Week_End\":{\"__ndarray__\":\"AADA9VYYd0IAAAC+lxp3QgAAQB0iHndCAADAfxAgd0IAAMCtoyJ3QgAAQBCSJHdCAACA2NImd0IAAMCgEyl3QgAAAGlUK3dCAABAMZUtd0IAAID51S93QgAAwMEWMndCAAAAilc0d0IAAEBSmDZ3QgAAgBrZOHdCAADA4hk7d0IAAACrWj13QgAAQHObP3dCAACAO9xBd0IAAMADHUR3QgAAAMxdRndCAABAlJ5Id0IAAIBc30p3QgAAwCQgTXdCAAAA7WBPd0I=\",\"dtype\":\"float64\",\"order\":\"little\",\"shape\":[25]},\"Total Paid CAD\":{\"__ndarray__\":\"4XoUrkfBaEAAAAAAAFBuQDMzMzMz23FAhetRuB4Nc0CamZmZmQF4QM3MzMzMNHlACtejcD2eekAK16NwPeZ7QGZmZmZmZn9A7FG4HoVLgEAK16NwPbqAQClcj8L1HoFAKVyPwvWQgkDNzMzMzCSDQAAAAAAAnINAzczMzMwUhEDNzMzMzGSFQGZmZmZm4oVAAAAAAABEhkAAAAAAAKyGQGZmZmZm4odAMzMzMzNfiEAAAAAAAMiIQJqZmZmZMYlAMzMzMzODiUA=\",\"dtype\":\"float64\",\"order\":\"little\",\"shape\":[25]},\"Total_Paid_CAD\":{\"__ndarray__\":\"4XoUrkfBaEAAAAAAAFBuQDMzMzMz23FAhetRuB4Nc0CamZmZmQF4QM3MzMzMNHlACtejcD2eekAK16NwPeZ7QGZmZmZmZn9A7FG4HoVLgEAK16NwPbqAQClcj8L1HoFAKVyPwvWQgkDNzMzMzCSDQAAAAAAAnINAzczMzMwUhEDNzMzMzGSFQGZmZmZm4oVAAAAAAABEhkAAAAAAAKyGQGZmZmZm4odAMzMzMzNfiEAAAAAAAMiIQJqZmZmZMYlAMzMzMzODiUA=\",\"dtype\":\"float64\",\"order\":\"little\",\"shape\":[25]}},\"selected\":{\"id\":\"7463\"},\"selection_policy\":{\"id\":\"7481\"}},\"id\":\"7462\",\"type\":\"ColumnDataSource\"},{\"attributes\":{},\"id\":\"7231\",\"type\":\"WheelZoomTool\"},{\"attributes\":{\"source\":{\"id\":\"7247\"}},\"id\":\"7254\",\"type\":\"CDSView\"},{\"attributes\":{},\"id\":\"7229\",\"type\":\"SaveTool\"},{\"attributes\":{\"line_color\":\"#1f77b3\",\"line_width\":2,\"x\":{\"field\":\"index\"},\"y\":{\"field\":\"value\"}},\"id\":\"7250\",\"type\":\"Line\"},{\"attributes\":{},\"id\":\"7481\",\"type\":\"UnionRenderers\"},{\"attributes\":{\"margin\":[5,5,5,5],\"name\":\"HSpacer15937\",\"sizing_mode\":\"stretch_width\"},\"id\":\"7206\",\"type\":\"Spacer\"},{\"attributes\":{\"line_alpha\":0.1,\"line_color\":\"#ff7e0e\",\"line_width\":2,\"x\":{\"field\":\"index\"},\"y\":{\"field\":\"value\"}},\"id\":\"7281\",\"type\":\"Line\"},{\"attributes\":{\"line_alpha\":0.1,\"line_color\":\"#1f77b3\",\"line_width\":2,\"x\":{\"field\":\"index\"},\"y\":{\"field\":\"value\"}},\"id\":\"7251\",\"type\":\"Line\"},{\"attributes\":{\"axis\":{\"id\":\"7221\"},\"grid_line_color\":null,\"ticker\":null},\"id\":\"7224\",\"type\":\"Grid\"},{\"attributes\":{\"days\":[1,8,15,22]},\"id\":\"7268\",\"type\":\"DaysTicker\"},{\"attributes\":{},\"id\":\"7248\",\"type\":\"Selection\"},{\"attributes\":{\"mantissas\":[1,2,5],\"max_interval\":500.0,\"num_minor_ticks\":0},\"id\":\"7263\",\"type\":\"AdaptiveTicker\"},{\"attributes\":{\"data\":{\"Variable\":[\"New Cases\",\"New Cases\",\"New Cases\",\"New Cases\",\"New Cases\",\"New Cases\",\"New Cases\",\"New Cases\",\"New Cases\",\"New Cases\",\"New Cases\",\"New Cases\",\"New Cases\",\"New Cases\",\"New Cases\",\"New Cases\",\"New Cases\",\"New Cases\",\"New Cases\",\"New Cases\",\"New Cases\",\"New Cases\",\"New Cases\",\"New Cases\",\"New Cases\",\"New Cases\",\"New Cases\",\"New Cases\",\"New Cases\",\"New Cases\",\"New Cases\",\"New Cases\",\"New Cases\",\"New Cases\",\"New Cases\",\"New Cases\",\"New Cases\",\"New Cases\",\"New Cases\",\"New Cases\",\"New Cases\",\"New Cases\",\"New Cases\",\"New Cases\",\"New Cases\",\"New Cases\",\"New Cases\",\"New Cases\",\"New Cases\",\"New Cases\",\"New Cases\",\"New Cases\",\"New Cases\",\"New Cases\",\"New Cases\",\"New Cases\",\"New Cases\",\"New Cases\",\"New Cases\",\"New Cases\",\"New Cases\",\"New Cases\",\"New Cases\",\"New Cases\",\"New Cases\",\"New Cases\",\"New Cases\",\"New Cases\",\"New Cases\",\"New Cases\",\"New Cases\",\"New Cases\",\"New Cases\",\"New Cases\",\"New Cases\",\"New Cases\",\"New Cases\",\"New Cases\",\"New Cases\",\"New Cases\",\"New Cases\",\"New Cases\",\"New Cases\",\"New Cases\",\"New Cases\",\"New Cases\",\"New Cases\",\"New Cases\",\"New Cases\",\"New Cases\",\"New Cases\",\"New Cases\",\"New Cases\",\"New Cases\",\"New Cases\",\"New Cases\",\"New Cases\",\"New Cases\",\"New Cases\",\"New Cases\",\"New Cases\",\"New Cases\",\"New Cases\",\"New Cases\",\"New Cases\",\"New Cases\",\"New Cases\",\"New Cases\",\"New Cases\",\"New Cases\",\"New Cases\",\"New Cases\",\"New Cases\",\"New Cases\",\"New Cases\",\"New Cases\",\"New Cases\",\"New Cases\",\"New Cases\",\"New Cases\",\"New Cases\",\"New Cases\",\"New Cases\",\"New Cases\",\"New Cases\",\"New Cases\",\"New Cases\",\"New Cases\",\"New Cases\",\"New Cases\",\"New Cases\",\"New Cases\",\"New Cases\",\"New Cases\",\"New Cases\",\"New Cases\",\"New Cases\",\"New Cases\",\"New Cases\",\"New Cases\",\"New Cases\",\"New Cases\",\"New Cases\",\"New Cases\",\"New Cases\",\"New Cases\",\"New Cases\",\"New Cases\",\"New Cases\",\"New Cases\",\"New Cases\",\"New Cases\",\"New Cases\",\"New Cases\",\"New Cases\",\"New Cases\",\"New Cases\",\"New Cases\",\"New Cases\",\"New Cases\",\"New Cases\",\"New Cases\",\"New Cases\",\"New Cases\",\"New Cases\",\"New Cases\",\"New Cases\",\"New Cases\",\"New Cases\",\"New Cases\",\"New Cases\",\"New Cases\",\"New Cases\",\"New Cases\",\"New Cases\",\"New Cases\",\"New Cases\",\"New Cases\",\"New Cases\",\"New Cases\",\"New Cases\",\"New Cases\",\"New Cases\",\"New Cases\",\"New Cases\",\"New Cases\",\"New Cases\",\"New Cases\"],\"index\":{\"__ndarray__\":\"AABAAsz4dkIAAMBkuvp2QgAAgGFW/HZCAABAx6j8dkIAAMCSTf12QgAAAFuO/3ZCAADAVyoBd0IAAEAjzwF3QgAAgFTGAndCAABAuhgDd0IAAIDrDwR3QgAAQOirBXdCAAAATv4Fd0IAAMCzUAZ3QgAAAOVHB3dCAADASpoHd0IAAICw7Ad3QgAAQBY/CHdCAAAAfJEId0IAAECtiAl3QgAAABPbCXdCAADAeC0Kd0IAAIDefwp3QgAAQETSCndCAACAdckLd0IAAEDbGwx3QgAAAEFuDHdCAADApsAMd0IAAIAMEw13QgAAwD0KDndCAACAo1wOd0IAAEAJrw53QgAAAG8BD3dCAADA1FMPd0IAAAAGSxB3QgAAwGudEHdCAACA0e8Qd0IAAEA3QhF3QgAAAJ2UEXdCAABAzosSd0IAAAA03hJ3QgAAwJkwE3dCAACA/4ITd0IAAEBl1RN3QgAAgJbMFHdCAABA/B4Vd0IAAABicRV3QgAAwMfDFXdCAADAXg0Xd0IAAIDEXxd3QgAAQCqyF3dCAAAAkAQYd0IAAMD1Vhh3QgAAACdOGXdCAADAjKAZd0IAAIDy8hl3QgAAQFhFGndCAAAAvpcad0IAAEDvjht3QgAAAFXhG3dCAADAujMcd0IAAIAghhx3QgAAQIbYHHdCAACAt88dd0IAAEAdIh53QgAAAIN0HndCAADA6MYed0IAAIBOGR93QgAAwH8QIHdCAACA5WIgd0IAAEBLtSB3QgAAALEHIXdCAADAFlohd0IAAMCtoyJ3QgAAgBP2IndCAABAeUgjd0IAAADfmiN3QgAAQBCSJHdCAAAAduQkd0IAAMDbNiV3QgAAgEGJJXdCAABAp9sld0IAAIDY0iZ3QgAAQD4lJ3dCAAAApHcnd0IAAMAJyid3QgAAgG8cKHdCAADAoBMpd0IAAIAGZil3QgAAQGy4KXdCAAAA0goqd0IAAMA3XSp3QgAAAGlUK3dCAADAzqYrd0IAAIA0+St3QgAAQJpLLHdCAAAAAJ4sd0IAAEAxlS13QgAAAJfnLXdCAADA/Dkud0IAAIBijC53QgAAQMjeLndCAACA+dUvd0IAAEBfKDB3QgAAwCrNMHdCAACAkB8xd0IAAMDBFjJ3QgAAgCdpMndCAABAjbsyd0IAAADzDTN3QgAAwFhgM3dCAAAAilc0d0IAAMDvqTR3QgAAgFX8NHdCAABAu041d0IAAAAhoTV3QgAAQFKYNndCAAAAuOo2d0IAAMAdPTd3QgAAgIOPN3dCAABA6eE3d0IAAIAa2Th3QgAAQIArOXdCAAAA5n05d0IAAMBL0Dl3QgAAgLEiOndCAACASGw7d0IAAECuvjt3QgAAABQRPHdCAADAeWM8d0IAAACrWj13QgAAwBCtPXdCAACAdv89d0IAAEDcUT53QgAAAEKkPndCAABAc5s/d0IAAADZ7T93QgAAwD5AQHdCAACApJJAd0IAAEAK5UB3QgAAgDvcQXdCAABAoS5Cd0IAAAAHgUJ3QgAAwGzTQndCAACA0iVDd0IAAMADHUR3QgAAgGlvRHdCAABAz8FEd0IAAAA1FEV3QgAAwJpmRXdCAADAMbBGd0IAAICXAkd3QgAAQP1UR3dCAAAAY6dHd0IAAECUnkh3QgAAAPrwSHdCAADAX0NJd0IAAIDFlUl3QgAAQCvoSXdCAACAXN9Kd0IAAEDCMUt3QgAAACiES3dCAADAjdZLd0IAAIDzKEx3QgAAwCQgTXdCAACAinJNd0IAAEDwxE13QgAAAFYXTndCAADAu2lOd0IAAADtYE93QgAAwFKzT3dCAACAuAVQd0IAAEAeWFB3QgAAAISqUHdCAAAAG/RRd0IAAMCARlJ3QgAAgOaYUndCAABATOtSd0IAAIB94lN3QgAAQOM0VHdCAAAASYdUd0IAAMCu2VR3QgAAgBQsVXdCAADARSNWd0IAAICrdVZ3QgAAQBHIVndCAAAAdxpXd0IAAMDcbFd3Qg==\",\"dtype\":\"float64\",\"order\":\"little\",\"shape\":[188]},\"value\":{\"__ndarray__\":\"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\",\"dtype\":\"float64\",\"order\":\"little\",\"shape\":[188]}},\"selected\":{\"id\":\"7248\"},\"selection_policy\":{\"id\":\"7262\"}},\"id\":\"7247\",\"type\":\"ColumnDataSource\"},{\"attributes\":{},\"id\":\"7244\",\"type\":\"DatetimeTickFormatter\"},{\"attributes\":{},\"id\":\"7226\",\"type\":\"BasicTicker\"},{\"attributes\":{\"base\":24,\"mantissas\":[1,2,4,6,8,12],\"max_interval\":43200000.0,\"min_interval\":3600000.0,\"num_minor_ticks\":0},\"id\":\"7265\",\"type\":\"AdaptiveTicker\"},{\"attributes\":{\"line_alpha\":0.2,\"line_color\":\"#ff7e0e\",\"line_width\":2,\"x\":{\"field\":\"index\"},\"y\":{\"field\":\"value\"}},\"id\":\"7282\",\"type\":\"Line\"},{\"attributes\":{\"data_source\":{\"id\":\"7277\"},\"glyph\":{\"id\":\"7280\"},\"hover_glyph\":null,\"muted_glyph\":{\"id\":\"7282\"},\"nonselection_glyph\":{\"id\":\"7281\"},\"selection_glyph\":null,\"view\":{\"id\":\"7284\"}},\"id\":\"7283\",\"type\":\"GlyphRenderer\"},{\"attributes\":{\"base\":60,\"mantissas\":[1,2,5,10,15,20,30],\"max_interval\":1800000.0,\"min_interval\":1000.0,\"num_minor_ticks\":0},\"id\":\"7264\",\"type\":\"AdaptiveTicker\"},{\"attributes\":{\"callback\":null,\"formatters\":{\"@{index}\":\"datetime\"},\"renderers\":[{\"id\":\"7253\"},{\"id\":\"7283\"}],\"tags\":[\"hv_created\"],\"tooltips\":[[\"Variable\",\"@{Variable}\"],[\"index\",\"@{index}{%F %T}\"],[\"value\",\"@{value}\"]]},\"id\":\"7209\",\"type\":\"HoverTool\"},{\"attributes\":{\"days\":[1,15]},\"id\":\"7269\",\"type\":\"DaysTicker\"},{\"attributes\":{\"end\":1176.1856666666667,\"reset_end\":1176.1856666666667,\"reset_start\":-106.56233333333334,\"start\":-106.56233333333334,\"tags\":[[[\"value\",\"value\",null]]]},\"id\":\"7208\",\"type\":\"Range1d\"},{\"attributes\":{\"end\":1604016000000.0,\"reset_end\":1604016000000.0,\"reset_start\":1578614400000.0,\"start\":1578614400000.0,\"tags\":[[[\"index\",\"index\",null]]]},\"id\":\"7207\",\"type\":\"Range1d\"},{\"attributes\":{\"axis_label\":\"\",\"bounds\":\"auto\",\"formatter\":{\"id\":\"7244\"},\"major_label_orientation\":\"horizontal\",\"ticker\":{\"id\":\"7222\"}},\"id\":\"7221\",\"type\":\"DatetimeAxis\"},{\"attributes\":{\"days\":[1,2,3,4,5,6,7,8,9,10,11,12,13,14,15,16,17,18,19,20,21,22,23,24,25,26,27,28,29,30,31]},\"id\":\"7266\",\"type\":\"DaysTicker\"},{\"attributes\":{},\"id\":\"7217\",\"type\":\"LinearScale\"},{\"attributes\":{\"days\":[1,4,7,10,13,16,19,22,25,28]},\"id\":\"7267\",\"type\":\"DaysTicker\"},{\"attributes\":{},\"id\":\"7219\",\"type\":\"LinearScale\"},{\"attributes\":{\"axis\":{\"id\":\"7225\"},\"dimension\":1,\"grid_line_color\":null,\"ticker\":null},\"id\":\"7228\",\"type\":\"Grid\"},{\"attributes\":{\"axis_label\":\"\",\"bounds\":\"auto\",\"formatter\":{\"id\":\"7246\"},\"major_label_orientation\":\"horizontal\",\"ticker\":{\"id\":\"7226\"}},\"id\":\"7225\",\"type\":\"LinearAxis\"}],\"root_ids\":[\"7205\"]},\"title\":\"Bokeh Application\",\"version\":\"2.2.3\"}};\n",
       "  var render_items = [{\"docid\":\"a73c6eac-069f-4b9b-b860-cb950bdf4611\",\"root_ids\":[\"7205\"],\"roots\":{\"7205\":\"4fc07ab3-d160-4e9e-b043-8e655afb1ef8\"}}];\n",
       "  root.Bokeh.embed.embed_items_notebook(docs_json, render_items);\n",
       "  }\n",
       "if (root.Bokeh !== undefined) {\n",
       "    embed_document(root);\n",
       "  } else {\n",
       "    var attempts = 0;\n",
       "    var timer = setInterval(function(root) {\n",
       "      if (root.Bokeh !== undefined) {\n",
       "        clearInterval(timer);\n",
       "        embed_document(root);\n",
       "      } else if (document.readyState == \"complete\") {\n",
       "        attempts++;\n",
       "        if (attempts > 100) {\n",
       "          clearInterval(timer);\n",
       "          console.log(\"Bokeh: ERROR: Unable to run BokehJS code because BokehJS library is missing\");\n",
       "        }\n",
       "      }\n",
       "    }, 10, root)\n",
       "  }\n",
       "})(window);</script>"
      ],
      "text/plain": [
       ":Overlay\n",
       "   .NdOverlay.I :NdOverlay   [Variable]\n",
       "      :Curve   [index]   (value)\n",
       "   .Curve.I     :Curve   [CERB Week End]   (Total Paid CAD)"
      ]
     },
     "execution_count": 360,
     "metadata": {
      "application/vnd.holoviews_exec.v0+json": {
       "id": "7205"
      }
     },
     "output_type": "execute_result"
    }
   ],
   "source": [
    "(tsx_cov_fig * cerbfig).opts(show_legend=True, legend_limit=300)\n",
    "#                 opts.Scatter(width=1000,height=400,\n",
    "#                              legend_position='right',\n",
    "#                              size=dim('Unemployment')*1.5\n",
    "#                             )"
   ]
  },
  {
   "cell_type": "code",
   "execution_count": 370,
   "metadata": {},
   "outputs": [],
   "source": [
    "another_df = pd.concat([tsx_covid_df, cerb_df], axis=1, join='outer', sort=True)"
   ]
  },
  {
   "cell_type": "code",
   "execution_count": 368,
   "metadata": {},
   "outputs": [
    {
     "data": {},
     "metadata": {},
     "output_type": "display_data"
    },
    {
     "data": {
      "application/vnd.holoviews_exec.v0+json": "",
      "text/html": [
       "<div id='8600'>\n",
       "\n",
       "\n",
       "\n",
       "\n",
       "\n",
       "  <div class=\"bk-root\" id=\"e316352a-8931-4a9a-a91f-85e3f4eb0e81\" data-root-id=\"8600\"></div>\n",
       "</div>\n",
       "<script type=\"application/javascript\">(function(root) {\n",
       "  function embed_document(root) {\n",
       "  var docs_json = {\"9e7d8cb7-7cff-4bb7-95f9-83cafc4534a1\":{\"roots\":{\"references\":[{\"attributes\":{},\"id\":\"8625\",\"type\":\"PanTool\"},{\"attributes\":{\"label\":{\"value\":\"Price\"},\"renderers\":[{\"id\":\"8677\"}]},\"id\":\"8701\",\"type\":\"LegendItem\"},{\"attributes\":{\"end\":1604016000000.0,\"reset_end\":1604016000000.0,\"reset_start\":1578614400000.0,\"start\":1578614400000.0,\"tags\":[[[\"index\",\"index\",null]]]},\"id\":\"8602\",\"type\":\"Range1d\"},{\"attributes\":{},\"id\":\"8626\",\"type\":\"WheelZoomTool\"},{\"attributes\":{\"bottom_units\":\"screen\",\"fill_alpha\":0.5,\"fill_color\":\"lightgrey\",\"left_units\":\"screen\",\"level\":\"overlay\",\"line_alpha\":1.0,\"line_color\":\"black\",\"line_dash\":[4,4],\"line_width\":2,\"right_units\":\"screen\",\"top_units\":\"screen\"},\"id\":\"8629\",\"type\":\"BoxAnnotation\"},{\"attributes\":{},\"id\":\"8688\",\"type\":\"UnionRenderers\"},{\"attributes\":{\"overlay\":{\"id\":\"8629\"}},\"id\":\"8627\",\"type\":\"BoxZoomTool\"},{\"attributes\":{\"label\":{\"value\":\"Total Paid CAD\"},\"renderers\":[{\"id\":\"8708\"}]},\"id\":\"8734\",\"type\":\"LegendItem\"},{\"attributes\":{},\"id\":\"8640\",\"type\":\"BasicTickFormatter\"},{\"attributes\":{\"margin\":[5,5,5,5],\"name\":\"HSpacer17413\",\"sizing_mode\":\"stretch_width\"},\"id\":\"8601\",\"type\":\"Spacer\"},{\"attributes\":{\"text\":\"\",\"text_color\":{\"value\":\"black\"},\"text_font_size\":{\"value\":\"12pt\"}},\"id\":\"8608\",\"type\":\"Title\"},{\"attributes\":{},\"id\":\"8628\",\"type\":\"ResetTool\"},{\"attributes\":{\"click_policy\":\"mute\",\"items\":[{\"id\":\"8670\"},{\"id\":\"8701\"},{\"id\":\"8734\"}],\"location\":[0,0],\"title\":\"Variable\"},\"id\":\"8669\",\"type\":\"Legend\"},{\"attributes\":{\"margin\":[5,5,5,5],\"name\":\"HSpacer17414\",\"sizing_mode\":\"stretch_width\"},\"id\":\"8951\",\"type\":\"Spacer\"},{\"attributes\":{\"line_color\":\"#2ba02b\",\"line_width\":2,\"x\":{\"field\":\"index\"},\"y\":{\"field\":\"value\"}},\"id\":\"8705\",\"type\":\"Line\"},{\"attributes\":{},\"id\":\"8668\",\"type\":\"YearsTicker\"},{\"attributes\":{\"callback\":null,\"formatters\":{\"@{index}\":\"datetime\"},\"renderers\":[{\"id\":\"8647\"},{\"id\":\"8677\"},{\"id\":\"8708\"}],\"tags\":[\"hv_created\"],\"tooltips\":[[\"Variable\",\"@{Variable}\"],[\"index\",\"@{index}{%F %T}\"],[\"value\",\"@{value}\"]]},\"id\":\"8604\",\"type\":\"HoverTool\"},{\"attributes\":{},\"id\":\"8703\",\"type\":\"Selection\"},{\"attributes\":{\"months\":[0,6]},\"id\":\"8667\",\"type\":\"MonthsTicker\"},{\"attributes\":{},\"id\":\"8672\",\"type\":\"Selection\"},{\"attributes\":{\"months\":[0,1,2,3,4,5,6,7,8,9,10,11]},\"id\":\"8664\",\"type\":\"MonthsTicker\"},{\"attributes\":{\"line_alpha\":0.1,\"line_color\":\"#ff7e0e\",\"line_width\":2,\"x\":{\"field\":\"index\"},\"y\":{\"field\":\"value\"}},\"id\":\"8675\",\"type\":\"Line\"},{\"attributes\":{\"line_alpha\":0.2,\"line_color\":\"#2ba02b\",\"line_width\":2,\"x\":{\"field\":\"index\"},\"y\":{\"field\":\"value\"}},\"id\":\"8707\",\"type\":\"Line\"},{\"attributes\":{},\"id\":\"8642\",\"type\":\"Selection\"},{\"attributes\":{\"days\":[1,4,7,10,13,16,19,22,25,28]},\"id\":\"8661\",\"type\":\"DaysTicker\"},{\"attributes\":{\"months\":[0,4,8]},\"id\":\"8666\",\"type\":\"MonthsTicker\"},{\"attributes\":{\"data_source\":{\"id\":\"8702\"},\"glyph\":{\"id\":\"8705\"},\"hover_glyph\":null,\"muted_glyph\":{\"id\":\"8707\"},\"nonselection_glyph\":{\"id\":\"8706\"},\"selection_glyph\":null,\"view\":{\"id\":\"8709\"}},\"id\":\"8708\",\"type\":\"GlyphRenderer\"},{\"attributes\":{\"days\":[1,2,3,4,5,6,7,8,9,10,11,12,13,14,15,16,17,18,19,20,21,22,23,24,25,26,27,28,29,30,31]},\"id\":\"8660\",\"type\":\"DaysTicker\"},{\"attributes\":{\"below\":[{\"id\":\"8616\"}],\"center\":[{\"id\":\"8619\"},{\"id\":\"8623\"}],\"left\":[{\"id\":\"8620\"}],\"margin\":null,\"min_border_bottom\":10,\"min_border_left\":10,\"min_border_right\":10,\"min_border_top\":10,\"plot_height\":300,\"plot_width\":700,\"renderers\":[{\"id\":\"8647\"},{\"id\":\"8677\"},{\"id\":\"8708\"}],\"right\":[{\"id\":\"8669\"}],\"sizing_mode\":\"fixed\",\"title\":{\"id\":\"8608\"},\"toolbar\":{\"id\":\"8630\"},\"x_range\":{\"id\":\"8602\"},\"x_scale\":{\"id\":\"8612\"},\"y_range\":{\"id\":\"8603\"},\"y_scale\":{\"id\":\"8614\"}},\"id\":\"8607\",\"subtype\":\"Figure\",\"type\":\"Plot\"},{\"attributes\":{\"line_alpha\":0.1,\"line_color\":\"#2ba02b\",\"line_width\":2,\"x\":{\"field\":\"index\"},\"y\":{\"field\":\"value\"}},\"id\":\"8706\",\"type\":\"Line\"},{\"attributes\":{\"days\":[1,8,15,22]},\"id\":\"8662\",\"type\":\"DaysTicker\"},{\"attributes\":{},\"id\":\"8721\",\"type\":\"UnionRenderers\"},{\"attributes\":{\"source\":{\"id\":\"8641\"}},\"id\":\"8648\",\"type\":\"CDSView\"},{\"attributes\":{\"source\":{\"id\":\"8702\"}},\"id\":\"8709\",\"type\":\"CDSView\"},{\"attributes\":{\"base\":24,\"mantissas\":[1,2,4,6,8,12],\"max_interval\":43200000.0,\"min_interval\":3600000.0,\"num_minor_ticks\":0},\"id\":\"8659\",\"type\":\"AdaptiveTicker\"},{\"attributes\":{\"data_source\":{\"id\":\"8641\"},\"glyph\":{\"id\":\"8644\"},\"hover_glyph\":null,\"muted_glyph\":{\"id\":\"8646\"},\"nonselection_glyph\":{\"id\":\"8645\"},\"selection_glyph\":null,\"view\":{\"id\":\"8648\"}},\"id\":\"8647\",\"type\":\"GlyphRenderer\"},{\"attributes\":{\"axis_label\":\"\",\"bounds\":\"auto\",\"formatter\":{\"id\":\"8638\"},\"major_label_orientation\":\"horizontal\",\"ticker\":{\"id\":\"8617\"}},\"id\":\"8616\",\"type\":\"DatetimeAxis\"},{\"attributes\":{\"line_alpha\":0.2,\"line_color\":\"#1f77b3\",\"line_width\":2,\"x\":{\"field\":\"index\"},\"y\":{\"field\":\"value\"}},\"id\":\"8646\",\"type\":\"Line\"},{\"attributes\":{},\"id\":\"8624\",\"type\":\"SaveTool\"},{\"attributes\":{\"label\":{\"value\":\"New Cases\"},\"renderers\":[{\"id\":\"8647\"}]},\"id\":\"8670\",\"type\":\"LegendItem\"},{\"attributes\":{\"children\":[{\"id\":\"8601\"},{\"id\":\"8607\"},{\"id\":\"8951\"}],\"margin\":[0,0,0,0],\"name\":\"Row17409\",\"tags\":[\"embedded\"]},\"id\":\"8600\",\"type\":\"Row\"},{\"attributes\":{},\"id\":\"8656\",\"type\":\"UnionRenderers\"},{\"attributes\":{\"line_color\":\"#1f77b3\",\"line_width\":2,\"x\":{\"field\":\"index\"},\"y\":{\"field\":\"value\"}},\"id\":\"8644\",\"type\":\"Line\"},{\"attributes\":{\"days\":[1,15]},\"id\":\"8663\",\"type\":\"DaysTicker\"},{\"attributes\":{\"line_alpha\":0.1,\"line_color\":\"#1f77b3\",\"line_width\":2,\"x\":{\"field\":\"index\"},\"y\":{\"field\":\"value\"}},\"id\":\"8645\",\"type\":\"Line\"},{\"attributes\":{\"num_minor_ticks\":5,\"tickers\":[{\"id\":\"8657\"},{\"id\":\"8658\"},{\"id\":\"8659\"},{\"id\":\"8660\"},{\"id\":\"8661\"},{\"id\":\"8662\"},{\"id\":\"8663\"},{\"id\":\"8664\"},{\"id\":\"8665\"},{\"id\":\"8666\"},{\"id\":\"8667\"},{\"id\":\"8668\"}]},\"id\":\"8617\",\"type\":\"DatetimeTicker\"},{\"attributes\":{\"months\":[0,2,4,6,8,10]},\"id\":\"8665\",\"type\":\"MonthsTicker\"},{\"attributes\":{},\"id\":\"8612\",\"type\":\"LinearScale\"},{\"attributes\":{},\"id\":\"8621\",\"type\":\"BasicTicker\"},{\"attributes\":{\"mantissas\":[1,2,5],\"max_interval\":500.0,\"num_minor_ticks\":0},\"id\":\"8657\",\"type\":\"AdaptiveTicker\"},{\"attributes\":{},\"id\":\"8614\",\"type\":\"LinearScale\"},{\"attributes\":{\"data\":{\"Variable\":[\"Price\",\"Price\",\"Price\",\"Price\",\"Price\",\"Price\",\"Price\",\"Price\",\"Price\",\"Price\",\"Price\",\"Price\",\"Price\",\"Price\",\"Price\",\"Price\",\"Price\",\"Price\",\"Price\",\"Price\",\"Price\",\"Price\",\"Price\",\"Price\",\"Price\",\"Price\",\"Price\",\"Price\",\"Price\",\"Price\",\"Price\",\"Price\",\"Price\",\"Price\",\"Price\",\"Price\",\"Price\",\"Price\",\"Price\",\"Price\",\"Price\",\"Price\",\"Price\",\"Price\",\"Price\",\"Price\",\"Price\",\"Price\",\"Price\",\"Price\",\"Price\",\"Price\",\"Price\",\"Price\",\"Price\",\"Price\",\"Price\",\"Price\",\"Price\",\"Price\",\"Price\",\"Price\",\"Price\",\"Price\",\"Price\",\"Price\",\"Price\",\"Price\",\"Price\",\"Price\",\"Price\",\"Price\",\"Price\",\"Price\",\"Price\",\"Price\",\"Price\",\"Price\",\"Price\",\"Price\",\"Price\",\"Price\",\"Price\",\"Price\",\"Price\",\"Price\",\"Price\",\"Price\",\"Price\",\"Price\",\"Price\",\"Price\",\"Price\",\"Price\",\"Price\",\"Price\",\"Price\",\"Price\",\"Price\",\"Price\",\"Price\",\"Price\",\"Price\",\"Price\",\"Price\",\"Price\",\"Price\",\"Price\",\"Price\",\"Price\",\"Price\",\"Price\",\"Price\",\"Price\",\"Price\",\"Price\",\"Price\",\"Price\",\"Price\",\"Price\",\"Price\",\"Price\",\"Price\",\"Price\",\"Price\",\"Price\",\"Price\",\"Price\",\"Price\",\"Price\",\"Price\",\"Price\",\"Price\",\"Price\",\"Price\",\"Price\",\"Price\",\"Price\",\"Price\",\"Price\",\"Price\",\"Price\",\"Price\",\"Price\",\"Price\",\"Price\",\"Price\",\"Price\",\"Price\",\"Price\",\"Price\",\"Price\",\"Price\",\"Price\",\"Price\",\"Price\",\"Price\",\"Price\",\"Price\",\"Price\",\"Price\",\"Price\",\"Price\",\"Price\",\"Price\",\"Price\",\"Price\",\"Price\",\"Price\",\"Price\",\"Price\",\"Price\",\"Price\",\"Price\",\"Price\",\"Price\",\"Price\",\"Price\",\"Price\",\"Price\",\"Price\",\"Price\",\"Price\",\"Price\",\"Price\",\"Price\",\"Price\",\"Price\",\"Price\",\"Price\"],\"index\":{\"__ndarray__\":\"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\",\"dtype\":\"float64\",\"order\":\"little\",\"shape\":[190]},\"value\":{\"__ndarray__\":\"cT0K16MGkEAUrkfhekWQQMP1KFyPXJBAcT0K16NlkEB7FK5H4V+QQHsUrkfhI5BApHA9CtdxkECF61G4HnSQQEjhehSui5BAexSuR+GRkEDsUbgehaOQQIXrUbgesZBAXI/C9Si1kEA9CtejcJuQQFyPwvUoWJBA9ihcj8L9j0CPwvUoXMGPQKRwPQrXLY9AMzMzMzNhjkD2KFyPwueOQD0K16Nwm45A4XoUrkdJj0AzMzMzM9uOQGZmZmZmLI5AcT0K16P6ikApXI/C9eyLQI/C9ShctYpAAAAAAABeh0Bcj8L1KOaJQLgehetRTodAXI/C9Sj8h0BSuB6F61WGQArXo3A9MIdApHA9CtePhkBcj8L1KHqFQI/C9ShcI4hAZmZmZmYUiUCkcD0K14GJQClcj8L1IIhAzczMzMz0iECF61G4Hp+JQJqZmZmZn4hAFK5H4XoGiUCamZmZmcGIQPYoXI/C+4lAcT0K16P0iUC4HoXrUXaKQOxRuB6F24pAzczMzMyqikD2KFyPwgOLQFyPwvUoeIpArkfhehRWikDNzMzMzD6LQKRwPQrXP4tA16NwPQplikDhehSuRw+LQPYoXI/C74pAhetRuB5Ji0AK16NwPaSLQI/C9Shc8YtACtejcD3CjEDXo3A9Ct2LQDMzMzMzlYtAzczMzMzoi0BSuB6F6weMQKRwPQrXFYxAAAAAAAAMjEBmZmZmZkyMQIXrUbgep4xAzczMzMxAjEC4HoXrUZCLQPYoXI/CiYtAzczMzMy2i0AK16NwPRiMQB+F61G4UIxAhetRuB4TjEAK16NwPSSMQGZmZmZmdoxAj8L1KFydjEAzMzMzM+WMQOF6FK5H2YxAj8L1KFypjEBcj8L1KL6MQJqZmZmZHY1A9ihcj8JtjUBI4XoUrkWNQBSuR+F65o1APQrXo3ANjkAAAAAAANKNQMP1KFyPkI1A4XoUrkdljEAUrkfhesCMQEjhehSu74xAAAAAAABAjUApXI/C9RaNQI/C9ShcN41A16NwPQorjUAAAAAAADqNQLgehetRTI1AuB6F61HOjEBcj8L1KCKNQDMzMzMznYxAzczMzMwEjUBI4XoUrjGNQHsUrkfhZo1AzczMzMxajUBSuB6F63GNQPYoXI/CTY1A7FG4HoVZjUA9CtejcD2NQM3MzMzMio1A9ihcj8JtjUAUrkfhevKNQK5H4XoUMI5AKVyPwvUmjkDD9Shcj1COQLgehetRaI5AAAAAAABcjkCPwvUoXFeOQMP1KFyPDI5AFK5H4XoAjkC4HoXrUUiOQDMzMzMzLY5AMzMzMzOJjkAUrkfhepKOQI/C9ShcRY5AAAAAAAAA+H/Xo3A9CqeOQClcj8L15I5AcT0K16MGj0DNzMzMzPiOQM3MzMzMGI9AH4XrUbj4jkCkcD0K1xuPQKRwPQrX945AH4XrUbjyjkDhehSuRzGPQAAAAAAAJI9AFK5H4XoQj0Bcj8L1KB6PQFK4HoXr945AuB6F61Euj0AfhetRuDKPQGZmZmZmio9ACtejcD1uj0AK16NwPVKPQFyPwvUo9I5AuB6F61Eyj0CPwvUoXFGPQMP1KFyP2I5AAAAAAABkjkAAAAAAAAD4f8P1KFyPLI5AUrgeheu5jkCuR+F6FFaOQHE9Ctejbo5AhetRuB6hjkCF61G4Hr2OQLgehetRbo5AKVyPwvVSjkBI4XoUrkGOQEjhehSu7Y1ArkfhehQ+jkDD9Shcj7aNQPYoXI/C4Y1APQrXo3AxjkDNzMzMzISOQFyPwvUobo5AXI/C9Sg6jkBSuB6F60uOQMP1KFyPWo5AMzMzMzO7jkCuR+F6FGiOQBSuR+F6zo5ACtejcD36jkCamZmZmfeOQHE9Ctej3o5AUrgeheu/jkDXo3A9CtWOQI/C9ShctY5A9ihcj8JhjkAK16NwPVyOQNejcD0KNY5AXI/C9ShUjkC4HoXrUWSOQOF6FK5H/41AFK5H4XrWjUAzMzMzMxeNQHE9CtejNo1AMzMzMzMHjUA=\",\"dtype\":\"float64\",\"order\":\"little\",\"shape\":[190]}},\"selected\":{\"id\":\"8672\"},\"selection_policy\":{\"id\":\"8688\"}},\"id\":\"8671\",\"type\":\"ColumnDataSource\"},{\"attributes\":{\"axis\":{\"id\":\"8616\"},\"grid_line_color\":null,\"ticker\":null},\"id\":\"8619\",\"type\":\"Grid\"},{\"attributes\":{\"data\":{\"Variable\":[\"New Cases\",\"New Cases\",\"New Cases\",\"New Cases\",\"New Cases\",\"New Cases\",\"New Cases\",\"New Cases\",\"New Cases\",\"New Cases\",\"New Cases\",\"New Cases\",\"New Cases\",\"New Cases\",\"New Cases\",\"New Cases\",\"New Cases\",\"New Cases\",\"New Cases\",\"New Cases\",\"New Cases\",\"New Cases\",\"New Cases\",\"New Cases\",\"New Cases\",\"New Cases\",\"New Cases\",\"New Cases\",\"New Cases\",\"New Cases\",\"New Cases\",\"New Cases\",\"New Cases\",\"New Cases\",\"New Cases\",\"New Cases\",\"New Cases\",\"New Cases\",\"New Cases\",\"New Cases\",\"New Cases\",\"New Cases\",\"New Cases\",\"New Cases\",\"New Cases\",\"New Cases\",\"New Cases\",\"New Cases\",\"New Cases\",\"New Cases\",\"New Cases\",\"New Cases\",\"New Cases\",\"New Cases\",\"New Cases\",\"New Cases\",\"New Cases\",\"New Cases\",\"New Cases\",\"New Cases\",\"New Cases\",\"New Cases\",\"New Cases\",\"New Cases\",\"New Cases\",\"New Cases\",\"New Cases\",\"New Cases\",\"New Cases\",\"New Cases\",\"New Cases\",\"New Cases\",\"New Cases\",\"New Cases\",\"New Cases\",\"New Cases\",\"New Cases\",\"New Cases\",\"New Cases\",\"New Cases\",\"New Cases\",\"New Cases\",\"New Cases\",\"New Cases\",\"New Cases\",\"New Cases\",\"New Cases\",\"New Cases\",\"New Cases\",\"New Cases\",\"New Cases\",\"New Cases\",\"New Cases\",\"New Cases\",\"New Cases\",\"New Cases\",\"New Cases\",\"New Cases\",\"New Cases\",\"New Cases\",\"New Cases\",\"New Cases\",\"New Cases\",\"New Cases\",\"New Cases\",\"New Cases\",\"New Cases\",\"New Cases\",\"New Cases\",\"New Cases\",\"New Cases\",\"New Cases\",\"New Cases\",\"New Cases\",\"New Cases\",\"New Cases\",\"New Cases\",\"New Cases\",\"New Cases\",\"New Cases\",\"New Cases\",\"New Cases\",\"New Cases\",\"New Cases\",\"New Cases\",\"New Cases\",\"New Cases\",\"New Cases\",\"New Cases\",\"New Cases\",\"New Cases\",\"New Cases\",\"New Cases\",\"New Cases\",\"New Cases\",\"New Cases\",\"New Cases\",\"New Cases\",\"New Cases\",\"New Cases\",\"New Cases\",\"New Cases\",\"New Cases\",\"New Cases\",\"New Cases\",\"New Cases\",\"New Cases\",\"New Cases\",\"New Cases\",\"New Cases\",\"New Cases\",\"New Cases\",\"New Cases\",\"New Cases\",\"New Cases\",\"New Cases\",\"New Cases\",\"New Cases\",\"New Cases\",\"New Cases\",\"New Cases\",\"New Cases\",\"New Cases\",\"New Cases\",\"New Cases\",\"New Cases\",\"New Cases\",\"New Cases\",\"New Cases\",\"New Cases\",\"New Cases\",\"New Cases\",\"New Cases\",\"New Cases\",\"New Cases\",\"New Cases\",\"New Cases\",\"New Cases\",\"New Cases\",\"New Cases\",\"New Cases\",\"New Cases\",\"New Cases\",\"New Cases\",\"New Cases\",\"New Cases\",\"New Cases\",\"New Cases\",\"New Cases\",\"New Cases\"],\"index\":{\"__ndarray__\":\"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\",\"dtype\":\"float64\",\"order\":\"little\",\"shape\":[190]},\"value\":{\"__ndarray__\":\"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\",\"dtype\":\"float64\",\"order\":\"little\",\"shape\":[190]}},\"selected\":{\"id\":\"8642\"},\"selection_policy\":{\"id\":\"8656\"}},\"id\":\"8641\",\"type\":\"ColumnDataSource\"},{\"attributes\":{\"base\":60,\"mantissas\":[1,2,5,10,15,20,30],\"max_interval\":1800000.0,\"min_interval\":1000.0,\"num_minor_ticks\":0},\"id\":\"8658\",\"type\":\"AdaptiveTicker\"},{\"attributes\":{\"axis\":{\"id\":\"8620\"},\"dimension\":1,\"grid_line_color\":null,\"ticker\":null},\"id\":\"8623\",\"type\":\"Grid\"},{\"attributes\":{\"axis_label\":\"\",\"bounds\":\"auto\",\"formatter\":{\"id\":\"8640\"},\"major_label_orientation\":\"horizontal\",\"ticker\":{\"id\":\"8621\"}},\"id\":\"8620\",\"type\":\"LinearAxis\"},{\"attributes\":{\"line_alpha\":0.2,\"line_color\":\"#ff7e0e\",\"line_width\":2,\"x\":{\"field\":\"index\"},\"y\":{\"field\":\"value\"}},\"id\":\"8676\",\"type\":\"Line\"},{\"attributes\":{\"source\":{\"id\":\"8671\"}},\"id\":\"8678\",\"type\":\"CDSView\"},{\"attributes\":{\"line_color\":\"#ff7e0e\",\"line_width\":2,\"x\":{\"field\":\"index\"},\"y\":{\"field\":\"value\"}},\"id\":\"8674\",\"type\":\"Line\"},{\"attributes\":{},\"id\":\"8638\",\"type\":\"DatetimeTickFormatter\"},{\"attributes\":{\"end\":1176.1856666666667,\"reset_end\":1176.1856666666667,\"reset_start\":-106.56233333333334,\"start\":-106.56233333333334,\"tags\":[[[\"value\",\"value\",null]]]},\"id\":\"8603\",\"type\":\"Range1d\"},{\"attributes\":{\"data_source\":{\"id\":\"8671\"},\"glyph\":{\"id\":\"8674\"},\"hover_glyph\":null,\"muted_glyph\":{\"id\":\"8676\"},\"nonselection_glyph\":{\"id\":\"8675\"},\"selection_glyph\":null,\"view\":{\"id\":\"8678\"}},\"id\":\"8677\",\"type\":\"GlyphRenderer\"},{\"attributes\":{\"active_drag\":\"auto\",\"active_inspect\":\"auto\",\"active_multi\":null,\"active_scroll\":\"auto\",\"active_tap\":\"auto\",\"tools\":[{\"id\":\"8604\"},{\"id\":\"8624\"},{\"id\":\"8625\"},{\"id\":\"8626\"},{\"id\":\"8627\"},{\"id\":\"8628\"}]},\"id\":\"8630\",\"type\":\"Toolbar\"},{\"attributes\":{\"data\":{\"Variable\":[\"Total Paid CAD\",\"Total Paid CAD\",\"Total Paid CAD\",\"Total Paid CAD\",\"Total Paid CAD\",\"Total Paid CAD\",\"Total Paid CAD\",\"Total Paid CAD\",\"Total Paid CAD\",\"Total Paid CAD\",\"Total Paid CAD\",\"Total Paid CAD\",\"Total Paid CAD\",\"Total Paid CAD\",\"Total Paid CAD\",\"Total Paid CAD\",\"Total Paid CAD\",\"Total Paid CAD\",\"Total Paid CAD\",\"Total Paid CAD\",\"Total Paid CAD\",\"Total Paid CAD\",\"Total Paid CAD\",\"Total Paid CAD\",\"Total Paid CAD\",\"Total Paid CAD\",\"Total Paid CAD\",\"Total Paid CAD\",\"Total Paid CAD\",\"Total Paid CAD\",\"Total Paid CAD\",\"Total Paid CAD\",\"Total Paid CAD\",\"Total Paid CAD\",\"Total Paid CAD\",\"Total Paid CAD\",\"Total Paid CAD\",\"Total Paid CAD\",\"Total Paid CAD\",\"Total Paid CAD\",\"Total Paid CAD\",\"Total Paid CAD\",\"Total Paid CAD\",\"Total Paid CAD\",\"Total Paid CAD\",\"Total Paid CAD\",\"Total Paid CAD\",\"Total Paid CAD\",\"Total Paid CAD\",\"Total Paid CAD\",\"Total Paid CAD\",\"Total Paid CAD\",\"Total Paid CAD\",\"Total Paid CAD\",\"Total Paid CAD\",\"Total Paid CAD\",\"Total Paid CAD\",\"Total Paid CAD\",\"Total Paid CAD\",\"Total Paid CAD\",\"Total Paid CAD\",\"Total Paid CAD\",\"Total Paid CAD\",\"Total Paid CAD\",\"Total Paid CAD\",\"Total Paid CAD\",\"Total Paid CAD\",\"Total Paid CAD\",\"Total Paid CAD\",\"Total Paid CAD\",\"Total Paid CAD\",\"Total Paid CAD\",\"Total Paid CAD\",\"Total Paid CAD\",\"Total Paid CAD\",\"Total Paid CAD\",\"Total Paid CAD\",\"Total Paid CAD\",\"Total Paid CAD\",\"Total Paid CAD\",\"Total Paid CAD\",\"Total Paid CAD\",\"Total Paid CAD\",\"Total Paid CAD\",\"Total Paid CAD\",\"Total Paid CAD\",\"Total Paid CAD\",\"Total Paid CAD\",\"Total Paid CAD\",\"Total Paid CAD\",\"Total Paid CAD\",\"Total Paid CAD\",\"Total Paid CAD\",\"Total Paid CAD\",\"Total Paid CAD\",\"Total Paid CAD\",\"Total Paid CAD\",\"Total Paid CAD\",\"Total Paid CAD\",\"Total Paid CAD\",\"Total Paid CAD\",\"Total Paid CAD\",\"Total Paid CAD\",\"Total Paid CAD\",\"Total Paid CAD\",\"Total Paid CAD\",\"Total Paid CAD\",\"Total Paid CAD\",\"Total Paid CAD\",\"Total Paid CAD\",\"Total Paid CAD\",\"Total Paid CAD\",\"Total Paid CAD\",\"Total Paid CAD\",\"Total Paid CAD\",\"Total Paid CAD\",\"Total Paid CAD\",\"Total Paid CAD\",\"Total Paid CAD\",\"Total Paid CAD\",\"Total Paid CAD\",\"Total Paid CAD\",\"Total Paid CAD\",\"Total Paid CAD\",\"Total Paid CAD\",\"Total Paid CAD\",\"Total Paid CAD\",\"Total Paid CAD\",\"Total Paid CAD\",\"Total Paid CAD\",\"Total Paid CAD\",\"Total Paid CAD\",\"Total Paid CAD\",\"Total Paid CAD\",\"Total Paid CAD\",\"Total Paid CAD\",\"Total Paid CAD\",\"Total Paid CAD\",\"Total Paid CAD\",\"Total Paid CAD\",\"Total Paid CAD\",\"Total Paid CAD\",\"Total Paid CAD\",\"Total Paid CAD\",\"Total Paid CAD\",\"Total Paid CAD\",\"Total Paid CAD\",\"Total Paid CAD\",\"Total Paid CAD\",\"Total Paid CAD\",\"Total Paid CAD\",\"Total Paid CAD\",\"Total Paid CAD\",\"Total Paid CAD\",\"Total Paid CAD\",\"Total Paid CAD\",\"Total Paid CAD\",\"Total Paid CAD\",\"Total Paid CAD\",\"Total Paid CAD\",\"Total Paid CAD\",\"Total Paid CAD\",\"Total Paid CAD\",\"Total Paid CAD\",\"Total Paid CAD\",\"Total Paid CAD\",\"Total Paid CAD\",\"Total Paid CAD\",\"Total Paid CAD\",\"Total Paid CAD\",\"Total Paid CAD\",\"Total Paid CAD\",\"Total Paid CAD\",\"Total Paid CAD\",\"Total Paid CAD\",\"Total Paid CAD\",\"Total Paid CAD\",\"Total Paid CAD\",\"Total Paid CAD\",\"Total Paid CAD\",\"Total Paid CAD\",\"Total Paid CAD\",\"Total Paid CAD\",\"Total Paid CAD\",\"Total Paid CAD\",\"Total Paid CAD\",\"Total Paid CAD\",\"Total Paid CAD\",\"Total Paid CAD\",\"Total Paid CAD\"],\"index\":{\"__ndarray__\":\"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\",\"dtype\":\"float64\",\"order\":\"little\",\"shape\":[190]},\"value\":{\"__ndarray__\":\"AAAAAAAA+H8AAAAAAAD4fwAAAAAAAPh/AAAAAAAA+H8AAAAAAAD4fwAAAAAAAPh/AAAAAAAA+H8AAAAAAAD4fwAAAAAAAPh/AAAAAAAA+H8AAAAAAAD4fwAAAAAAAPh/AAAAAAAA+H8AAAAAAAD4fwAAAAAAAPh/AAAAAAAA+H8AAAAAAAD4fwAAAAAAAPh/AAAAAAAA+H8AAAAAAAD4fwAAAAAAAPh/AAAAAAAA+H8AAAAAAAD4fwAAAAAAAPh/AAAAAAAA+H8AAAAAAAD4fwAAAAAAAPh/AAAAAAAA+H8AAAAAAAD4fwAAAAAAAPh/AAAAAAAA+H8AAAAAAAD4fwAAAAAAAPh/AAAAAAAA+H8AAAAAAAD4fwAAAAAAAPh/AAAAAAAA+H8AAAAAAAD4fwAAAAAAAPh/AAAAAAAA+H8AAAAAAAD4fwAAAAAAAPh/AAAAAAAA+H8AAAAAAAD4fwAAAAAAAPh/AAAAAAAA+H8AAAAAAAD4fwAAAAAAAPh/AAAAAAAA+H8AAAAAAAD4fwAAAAAAAPh/AAAAAAAA+H/hehSuR8FoQAAAAAAAAPh/AAAAAAAA+H8AAAAAAAD4fwAAAAAAAPh/AAAAAABQbkAAAAAAAAD4fwAAAAAAAPh/AAAAAAAA+H8AAAAAAAD4fwAAAAAAAPh/AAAAAAAA+H8zMzMzM9txQAAAAAAAAPh/AAAAAAAA+H8AAAAAAAD4f4XrUbgeDXNAAAAAAAAA+H8AAAAAAAD4fwAAAAAAAPh/AAAAAAAA+H+amZmZmQF4QAAAAAAAAPh/AAAAAAAA+H8AAAAAAAD4f83MzMzMNHlAAAAAAAAA+H8AAAAAAAD4fwAAAAAAAPh/AAAAAAAA+H8K16NwPZ56QAAAAAAAAPh/AAAAAAAA+H8AAAAAAAD4fwAAAAAAAPh/CtejcD3me0AAAAAAAAD4fwAAAAAAAPh/AAAAAAAA+H8AAAAAAAD4f2ZmZmZmZn9AAAAAAAAA+H8AAAAAAAD4fwAAAAAAAPh/AAAAAAAA+H/sUbgehUuAQAAAAAAAAPh/AAAAAAAA+H8AAAAAAAD4fwAAAAAAAPh/CtejcD26gEAAAAAAAAD4fwAAAAAAAPh/AAAAAAAA+H8pXI/C9R6BQAAAAAAAAPh/AAAAAAAA+H8AAAAAAAD4fwAAAAAAAPh/KVyPwvWQgkAAAAAAAAD4fwAAAAAAAPh/AAAAAAAA+H8AAAAAAAD4f83MzMzMJINAAAAAAAAA+H8AAAAAAAD4fwAAAAAAAPh/AAAAAAAA+H8AAAAAAJyDQAAAAAAAAPh/AAAAAAAA+H8AAAAAAAD4fwAAAAAAAPh/zczMzMwUhEAAAAAAAAD4fwAAAAAAAPh/AAAAAAAA+H8AAAAAAAD4f83MzMzMZIVAAAAAAAAA+H8AAAAAAAD4fwAAAAAAAPh/AAAAAAAA+H9mZmZmZuKFQAAAAAAAAPh/AAAAAAAA+H8AAAAAAAD4fwAAAAAAAPh/AAAAAABEhkAAAAAAAAD4fwAAAAAAAPh/AAAAAAAA+H8AAAAAAAD4fwAAAAAArIZAAAAAAAAA+H8AAAAAAAD4fwAAAAAAAPh/AAAAAAAA+H9mZmZmZuKHQAAAAAAAAPh/AAAAAAAA+H8AAAAAAAD4fwAAAAAAAPh/MzMzMzNfiEAAAAAAAAD4fwAAAAAAAPh/AAAAAAAA+H8AAAAAAAD4fwAAAAAAyIhAAAAAAAAA+H8AAAAAAAD4fwAAAAAAAPh/AAAAAAAA+H+amZmZmTGJQAAAAAAAAPh/AAAAAAAA+H8AAAAAAAD4fwAAAAAAAPh/MzMzMzODiUAAAAAAAAD4fwAAAAAAAPh/AAAAAAAA+H8AAAAAAAD4fwAAAAAAAPh/AAAAAAAA+H8AAAAAAAD4fwAAAAAAAPh/AAAAAAAA+H8AAAAAAAD4fwAAAAAAAPh/AAAAAAAA+H8AAAAAAAD4fwAAAAAAAPh/AAAAAAAA+H8AAAAAAAD4fwAAAAAAAPh/AAAAAAAA+H8=\",\"dtype\":\"float64\",\"order\":\"little\",\"shape\":[190]}},\"selected\":{\"id\":\"8703\"},\"selection_policy\":{\"id\":\"8721\"}},\"id\":\"8702\",\"type\":\"ColumnDataSource\"}],\"root_ids\":[\"8600\"]},\"title\":\"Bokeh Application\",\"version\":\"2.2.3\"}};\n",
       "  var render_items = [{\"docid\":\"9e7d8cb7-7cff-4bb7-95f9-83cafc4534a1\",\"root_ids\":[\"8600\"],\"roots\":{\"8600\":\"e316352a-8931-4a9a-a91f-85e3f4eb0e81\"}}];\n",
       "  root.Bokeh.embed.embed_items_notebook(docs_json, render_items);\n",
       "  }\n",
       "if (root.Bokeh !== undefined) {\n",
       "    embed_document(root);\n",
       "  } else {\n",
       "    var attempts = 0;\n",
       "    var timer = setInterval(function(root) {\n",
       "      if (root.Bokeh !== undefined) {\n",
       "        clearInterval(timer);\n",
       "        embed_document(root);\n",
       "      } else if (document.readyState == \"complete\") {\n",
       "        attempts++;\n",
       "        if (attempts > 100) {\n",
       "          clearInterval(timer);\n",
       "          console.log(\"Bokeh: ERROR: Unable to run BokehJS code because BokehJS library is missing\");\n",
       "        }\n",
       "      }\n",
       "    }, 10, root)\n",
       "  }\n",
       "})(window);</script>"
      ],
      "text/plain": [
       ":NdOverlay   [Variable]\n",
       "   :Curve   [index]   (value)"
      ]
     },
     "execution_count": 368,
     "metadata": {
      "application/vnd.holoviews_exec.v0+json": {
       "id": "8600"
      }
     },
     "output_type": "execute_result"
    }
   ],
   "source": [
    "another_df.hvplot()"
   ]
  },
  {
   "cell_type": "code",
   "execution_count": null,
   "metadata": {},
   "outputs": [],
   "source": []
  }
 ],
 "metadata": {
  "kernelspec": {
   "display_name": "Python [conda env:pyvizenv] *",
   "language": "python",
   "name": "conda-env-pyvizenv-py"
  },
  "language_info": {
   "codemirror_mode": {
    "name": "ipython",
    "version": 3
   },
   "file_extension": ".py",
   "mimetype": "text/x-python",
   "name": "python",
   "nbconvert_exporter": "python",
   "pygments_lexer": "ipython3",
   "version": "3.7.9"
  }
 },
 "nbformat": 4,
 "nbformat_minor": 4
}
